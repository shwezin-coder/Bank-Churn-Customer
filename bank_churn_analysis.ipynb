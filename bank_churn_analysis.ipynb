{
 "cells": [
  {
   "cell_type": "code",
   "execution_count": 342,
   "id": "2a477af9",
   "metadata": {},
   "outputs": [],
   "source": [
    "import pandas as pd #for data cleaning\n",
    "import numpy as np #for numerical data handling\n",
    "import matplotlib.pyplot as plt #for visualization\n",
    "import seaborn as sns #for advanced visualization\n",
    "from scipy import stats #statistical tests"
   ]
  },
  {
   "cell_type": "markdown",
   "id": "26c2a881",
   "metadata": {},
   "source": [
    "# **Data Cleaning**\n",
    "\n",
    "## **Extract data from customer sheet in messy excel**\n"
   ]
  },
  {
   "cell_type": "code",
   "execution_count": 343,
   "id": "a7f2fa58",
   "metadata": {},
   "outputs": [],
   "source": [
    "file_path = 'Bank_Churn_Messy.xlsx'"
   ]
  },
  {
   "cell_type": "code",
   "execution_count": 344,
   "id": "958d72d7",
   "metadata": {},
   "outputs": [],
   "source": [
    "customer_df = pd.read_excel(file_path,sheet_name=0)\n",
    "customer_df = pd.DataFrame(customer_df)"
   ]
  },
  {
   "cell_type": "code",
   "execution_count": 345,
   "id": "3fc77890",
   "metadata": {},
   "outputs": [
    {
     "data": {
      "text/html": [
       "<div>\n",
       "<style scoped>\n",
       "    .dataframe tbody tr th:only-of-type {\n",
       "        vertical-align: middle;\n",
       "    }\n",
       "\n",
       "    .dataframe tbody tr th {\n",
       "        vertical-align: top;\n",
       "    }\n",
       "\n",
       "    .dataframe thead th {\n",
       "        text-align: right;\n",
       "    }\n",
       "</style>\n",
       "<table border=\"1\" class=\"dataframe\">\n",
       "  <thead>\n",
       "    <tr style=\"text-align: right;\">\n",
       "      <th></th>\n",
       "      <th>CustomerId</th>\n",
       "      <th>Surname</th>\n",
       "      <th>CreditScore</th>\n",
       "      <th>Geography</th>\n",
       "      <th>Gender</th>\n",
       "      <th>Age</th>\n",
       "      <th>Tenure</th>\n",
       "      <th>EstimatedSalary</th>\n",
       "    </tr>\n",
       "  </thead>\n",
       "  <tbody>\n",
       "    <tr>\n",
       "      <th>0</th>\n",
       "      <td>15634602</td>\n",
       "      <td>Hargrave</td>\n",
       "      <td>619</td>\n",
       "      <td>FRA</td>\n",
       "      <td>Female</td>\n",
       "      <td>42.0</td>\n",
       "      <td>2</td>\n",
       "      <td>€101348.88</td>\n",
       "    </tr>\n",
       "    <tr>\n",
       "      <th>1</th>\n",
       "      <td>15647311</td>\n",
       "      <td>Hill</td>\n",
       "      <td>608</td>\n",
       "      <td>Spain</td>\n",
       "      <td>Female</td>\n",
       "      <td>41.0</td>\n",
       "      <td>1</td>\n",
       "      <td>€112542.58</td>\n",
       "    </tr>\n",
       "    <tr>\n",
       "      <th>2</th>\n",
       "      <td>15619304</td>\n",
       "      <td>Onio</td>\n",
       "      <td>502</td>\n",
       "      <td>French</td>\n",
       "      <td>Female</td>\n",
       "      <td>42.0</td>\n",
       "      <td>8</td>\n",
       "      <td>€113931.57</td>\n",
       "    </tr>\n",
       "    <tr>\n",
       "      <th>3</th>\n",
       "      <td>15701354</td>\n",
       "      <td>Boni</td>\n",
       "      <td>699</td>\n",
       "      <td>FRA</td>\n",
       "      <td>Female</td>\n",
       "      <td>39.0</td>\n",
       "      <td>1</td>\n",
       "      <td>€93826.63</td>\n",
       "    </tr>\n",
       "    <tr>\n",
       "      <th>4</th>\n",
       "      <td>15737888</td>\n",
       "      <td>Mitchell</td>\n",
       "      <td>850</td>\n",
       "      <td>Spain</td>\n",
       "      <td>Female</td>\n",
       "      <td>43.0</td>\n",
       "      <td>2</td>\n",
       "      <td>€79084.1</td>\n",
       "    </tr>\n",
       "  </tbody>\n",
       "</table>\n",
       "</div>"
      ],
      "text/plain": [
       "   CustomerId   Surname  CreditScore Geography  Gender   Age  Tenure  \\\n",
       "0    15634602  Hargrave          619       FRA  Female  42.0       2   \n",
       "1    15647311      Hill          608     Spain  Female  41.0       1   \n",
       "2    15619304      Onio          502    French  Female  42.0       8   \n",
       "3    15701354      Boni          699       FRA  Female  39.0       1   \n",
       "4    15737888  Mitchell          850     Spain  Female  43.0       2   \n",
       "\n",
       "  EstimatedSalary  \n",
       "0      €101348.88  \n",
       "1      €112542.58  \n",
       "2      €113931.57  \n",
       "3       €93826.63  \n",
       "4        €79084.1  "
      ]
     },
     "execution_count": 345,
     "metadata": {},
     "output_type": "execute_result"
    }
   ],
   "source": [
    "customer_df.head()"
   ]
  },
  {
   "cell_type": "markdown",
   "id": "e74d0cf4",
   "metadata": {},
   "source": [
    "## **CustomerID Type Checking**"
   ]
  },
  {
   "cell_type": "code",
   "execution_count": 346,
   "id": "0730f1d7",
   "metadata": {},
   "outputs": [
    {
     "data": {
      "text/plain": [
       "dtype('int64')"
      ]
     },
     "execution_count": 346,
     "metadata": {},
     "output_type": "execute_result"
    }
   ],
   "source": [
    "customer_df['CustomerId'].dtype"
   ]
  },
  {
   "cell_type": "code",
   "execution_count": 347,
   "id": "13656649",
   "metadata": {},
   "outputs": [],
   "source": [
    "customer_df['CustomerId'] = customer_df['CustomerId'].astype('string')"
   ]
  },
  {
   "cell_type": "code",
   "execution_count": 348,
   "id": "80367f01",
   "metadata": {},
   "outputs": [
    {
     "data": {
      "text/plain": [
       "string[python]"
      ]
     },
     "execution_count": 348,
     "metadata": {},
     "output_type": "execute_result"
    }
   ],
   "source": [
    "customer_df['CustomerId'].dtype"
   ]
  },
  {
   "cell_type": "markdown",
   "id": "a215ebd4",
   "metadata": {},
   "source": [
    "## **Extract data from account info sheet in messy excel**"
   ]
  },
  {
   "cell_type": "code",
   "execution_count": 349,
   "id": "6aca1599",
   "metadata": {},
   "outputs": [],
   "source": [
    "account_df = pd.read_excel(file_path,sheet_name=1)\n",
    "account_df = pd.DataFrame(account_df)"
   ]
  },
  {
   "cell_type": "code",
   "execution_count": 350,
   "id": "0556df9a",
   "metadata": {},
   "outputs": [
    {
     "data": {
      "text/html": [
       "<div>\n",
       "<style scoped>\n",
       "    .dataframe tbody tr th:only-of-type {\n",
       "        vertical-align: middle;\n",
       "    }\n",
       "\n",
       "    .dataframe tbody tr th {\n",
       "        vertical-align: top;\n",
       "    }\n",
       "\n",
       "    .dataframe thead th {\n",
       "        text-align: right;\n",
       "    }\n",
       "</style>\n",
       "<table border=\"1\" class=\"dataframe\">\n",
       "  <thead>\n",
       "    <tr style=\"text-align: right;\">\n",
       "      <th></th>\n",
       "      <th>CustomerId</th>\n",
       "      <th>Balance</th>\n",
       "      <th>NumOfProducts</th>\n",
       "      <th>HasCrCard</th>\n",
       "      <th>Tenure</th>\n",
       "      <th>IsActiveMember</th>\n",
       "      <th>Exited</th>\n",
       "    </tr>\n",
       "  </thead>\n",
       "  <tbody>\n",
       "    <tr>\n",
       "      <th>0</th>\n",
       "      <td>15634602</td>\n",
       "      <td>€0.0</td>\n",
       "      <td>1</td>\n",
       "      <td>Yes</td>\n",
       "      <td>2</td>\n",
       "      <td>Yes</td>\n",
       "      <td>1</td>\n",
       "    </tr>\n",
       "    <tr>\n",
       "      <th>1</th>\n",
       "      <td>15634602</td>\n",
       "      <td>€0.0</td>\n",
       "      <td>1</td>\n",
       "      <td>Yes</td>\n",
       "      <td>2</td>\n",
       "      <td>Yes</td>\n",
       "      <td>1</td>\n",
       "    </tr>\n",
       "    <tr>\n",
       "      <th>2</th>\n",
       "      <td>15647311</td>\n",
       "      <td>€83807.86</td>\n",
       "      <td>1</td>\n",
       "      <td>Yes</td>\n",
       "      <td>1</td>\n",
       "      <td>Yes</td>\n",
       "      <td>0</td>\n",
       "    </tr>\n",
       "    <tr>\n",
       "      <th>3</th>\n",
       "      <td>15619304</td>\n",
       "      <td>€159660.8</td>\n",
       "      <td>3</td>\n",
       "      <td>No</td>\n",
       "      <td>8</td>\n",
       "      <td>No</td>\n",
       "      <td>1</td>\n",
       "    </tr>\n",
       "    <tr>\n",
       "      <th>4</th>\n",
       "      <td>15701354</td>\n",
       "      <td>€0.0</td>\n",
       "      <td>2</td>\n",
       "      <td>No</td>\n",
       "      <td>1</td>\n",
       "      <td>No</td>\n",
       "      <td>0</td>\n",
       "    </tr>\n",
       "  </tbody>\n",
       "</table>\n",
       "</div>"
      ],
      "text/plain": [
       "   CustomerId    Balance  NumOfProducts HasCrCard  Tenure IsActiveMember  \\\n",
       "0    15634602       €0.0              1       Yes       2            Yes   \n",
       "1    15634602       €0.0              1       Yes       2            Yes   \n",
       "2    15647311  €83807.86              1       Yes       1            Yes   \n",
       "3    15619304  €159660.8              3        No       8             No   \n",
       "4    15701354       €0.0              2        No       1             No   \n",
       "\n",
       "   Exited  \n",
       "0       1  \n",
       "1       1  \n",
       "2       0  \n",
       "3       1  \n",
       "4       0  "
      ]
     },
     "execution_count": 350,
     "metadata": {},
     "output_type": "execute_result"
    }
   ],
   "source": [
    "account_df.head()"
   ]
  },
  {
   "cell_type": "code",
   "execution_count": 351,
   "id": "b1879942",
   "metadata": {},
   "outputs": [
    {
     "data": {
      "text/plain": [
       "dtype('int64')"
      ]
     },
     "execution_count": 351,
     "metadata": {},
     "output_type": "execute_result"
    }
   ],
   "source": [
    "account_df['CustomerId'].dtype"
   ]
  },
  {
   "cell_type": "code",
   "execution_count": 352,
   "id": "f50e2d87",
   "metadata": {},
   "outputs": [],
   "source": [
    "account_df['CustomerId'] = account_df['CustomerId'].astype('string')"
   ]
  },
  {
   "cell_type": "code",
   "execution_count": 353,
   "id": "ebf97b25",
   "metadata": {},
   "outputs": [
    {
     "data": {
      "text/plain": [
       "string[python]"
      ]
     },
     "execution_count": 353,
     "metadata": {},
     "output_type": "execute_result"
    }
   ],
   "source": [
    "account_df['CustomerId'].dtype"
   ]
  },
  {
   "cell_type": "markdown",
   "id": "34d3fc8c",
   "metadata": {},
   "source": [
    "## **Merge Data from account and customer**"
   ]
  },
  {
   "cell_type": "code",
   "execution_count": 354,
   "id": "ae570516",
   "metadata": {},
   "outputs": [],
   "source": [
    "bank_account_df = account_df.merge(customer_df,on='CustomerId',how='left')"
   ]
  },
  {
   "cell_type": "code",
   "execution_count": 355,
   "id": "2591172d",
   "metadata": {},
   "outputs": [
    {
     "data": {
      "text/plain": [
       "np.int64(10002)"
      ]
     },
     "execution_count": 355,
     "metadata": {},
     "output_type": "execute_result"
    }
   ],
   "source": [
    "account_df['CustomerId'].count()"
   ]
  },
  {
   "cell_type": "code",
   "execution_count": 356,
   "id": "a09e520c",
   "metadata": {},
   "outputs": [
    {
     "data": {
      "text/plain": [
       "np.int64(10001)"
      ]
     },
     "execution_count": 356,
     "metadata": {},
     "output_type": "execute_result"
    }
   ],
   "source": [
    "customer_df['CustomerId'].count()"
   ]
  },
  {
   "cell_type": "code",
   "execution_count": 357,
   "id": "20da071e",
   "metadata": {},
   "outputs": [
    {
     "data": {
      "text/plain": [
       "np.int64(10004)"
      ]
     },
     "execution_count": 357,
     "metadata": {},
     "output_type": "execute_result"
    }
   ],
   "source": [
    "bank_account_df['CustomerId'].count()"
   ]
  },
  {
   "cell_type": "markdown",
   "id": "fd3300b5",
   "metadata": {},
   "source": [
    "## **Check Duplicate Rows**"
   ]
  },
  {
   "cell_type": "code",
   "execution_count": 358,
   "id": "154cdd52",
   "metadata": {},
   "outputs": [
    {
     "data": {
      "text/html": [
       "<div>\n",
       "<style scoped>\n",
       "    .dataframe tbody tr th:only-of-type {\n",
       "        vertical-align: middle;\n",
       "    }\n",
       "\n",
       "    .dataframe tbody tr th {\n",
       "        vertical-align: top;\n",
       "    }\n",
       "\n",
       "    .dataframe thead th {\n",
       "        text-align: right;\n",
       "    }\n",
       "</style>\n",
       "<table border=\"1\" class=\"dataframe\">\n",
       "  <thead>\n",
       "    <tr style=\"text-align: right;\">\n",
       "      <th></th>\n",
       "      <th>CustomerId</th>\n",
       "      <th>Balance</th>\n",
       "      <th>NumOfProducts</th>\n",
       "      <th>HasCrCard</th>\n",
       "      <th>Tenure_x</th>\n",
       "      <th>IsActiveMember</th>\n",
       "      <th>Exited</th>\n",
       "      <th>Surname</th>\n",
       "      <th>CreditScore</th>\n",
       "      <th>Geography</th>\n",
       "      <th>Gender</th>\n",
       "      <th>Age</th>\n",
       "      <th>Tenure_y</th>\n",
       "      <th>EstimatedSalary</th>\n",
       "    </tr>\n",
       "  </thead>\n",
       "  <tbody>\n",
       "    <tr>\n",
       "      <th>0</th>\n",
       "      <td>15634602</td>\n",
       "      <td>€0.0</td>\n",
       "      <td>1</td>\n",
       "      <td>Yes</td>\n",
       "      <td>2</td>\n",
       "      <td>Yes</td>\n",
       "      <td>1</td>\n",
       "      <td>Hargrave</td>\n",
       "      <td>619</td>\n",
       "      <td>FRA</td>\n",
       "      <td>Female</td>\n",
       "      <td>42.0</td>\n",
       "      <td>2</td>\n",
       "      <td>€101348.88</td>\n",
       "    </tr>\n",
       "    <tr>\n",
       "      <th>1</th>\n",
       "      <td>15634602</td>\n",
       "      <td>€0.0</td>\n",
       "      <td>1</td>\n",
       "      <td>Yes</td>\n",
       "      <td>2</td>\n",
       "      <td>Yes</td>\n",
       "      <td>1</td>\n",
       "      <td>Hargrave</td>\n",
       "      <td>619</td>\n",
       "      <td>FRA</td>\n",
       "      <td>Female</td>\n",
       "      <td>42.0</td>\n",
       "      <td>2</td>\n",
       "      <td>€101348.88</td>\n",
       "    </tr>\n",
       "    <tr>\n",
       "      <th>10000</th>\n",
       "      <td>15628319</td>\n",
       "      <td>€130142.79</td>\n",
       "      <td>1</td>\n",
       "      <td>No</td>\n",
       "      <td>4</td>\n",
       "      <td>No</td>\n",
       "      <td>0</td>\n",
       "      <td>Walker</td>\n",
       "      <td>792</td>\n",
       "      <td>French</td>\n",
       "      <td>Female</td>\n",
       "      <td>28.0</td>\n",
       "      <td>4</td>\n",
       "      <td>€38190.78</td>\n",
       "    </tr>\n",
       "    <tr>\n",
       "      <th>10001</th>\n",
       "      <td>15628319</td>\n",
       "      <td>€130142.79</td>\n",
       "      <td>1</td>\n",
       "      <td>No</td>\n",
       "      <td>4</td>\n",
       "      <td>No</td>\n",
       "      <td>0</td>\n",
       "      <td>Walker</td>\n",
       "      <td>792</td>\n",
       "      <td>French</td>\n",
       "      <td>Female</td>\n",
       "      <td>28.0</td>\n",
       "      <td>4</td>\n",
       "      <td>€38190.78</td>\n",
       "    </tr>\n",
       "    <tr>\n",
       "      <th>10002</th>\n",
       "      <td>15628319</td>\n",
       "      <td>€130142.79</td>\n",
       "      <td>1</td>\n",
       "      <td>No</td>\n",
       "      <td>4</td>\n",
       "      <td>No</td>\n",
       "      <td>0</td>\n",
       "      <td>Walker</td>\n",
       "      <td>792</td>\n",
       "      <td>French</td>\n",
       "      <td>Female</td>\n",
       "      <td>28.0</td>\n",
       "      <td>4</td>\n",
       "      <td>€38190.78</td>\n",
       "    </tr>\n",
       "    <tr>\n",
       "      <th>10003</th>\n",
       "      <td>15628319</td>\n",
       "      <td>€130142.79</td>\n",
       "      <td>1</td>\n",
       "      <td>No</td>\n",
       "      <td>4</td>\n",
       "      <td>No</td>\n",
       "      <td>0</td>\n",
       "      <td>Walker</td>\n",
       "      <td>792</td>\n",
       "      <td>French</td>\n",
       "      <td>Female</td>\n",
       "      <td>28.0</td>\n",
       "      <td>4</td>\n",
       "      <td>€38190.78</td>\n",
       "    </tr>\n",
       "  </tbody>\n",
       "</table>\n",
       "</div>"
      ],
      "text/plain": [
       "      CustomerId     Balance  NumOfProducts HasCrCard  Tenure_x  \\\n",
       "0       15634602        €0.0              1       Yes         2   \n",
       "1       15634602        €0.0              1       Yes         2   \n",
       "10000   15628319  €130142.79              1        No         4   \n",
       "10001   15628319  €130142.79              1        No         4   \n",
       "10002   15628319  €130142.79              1        No         4   \n",
       "10003   15628319  €130142.79              1        No         4   \n",
       "\n",
       "      IsActiveMember  Exited   Surname  CreditScore Geography  Gender   Age  \\\n",
       "0                Yes       1  Hargrave          619       FRA  Female  42.0   \n",
       "1                Yes       1  Hargrave          619       FRA  Female  42.0   \n",
       "10000             No       0    Walker          792    French  Female  28.0   \n",
       "10001             No       0    Walker          792    French  Female  28.0   \n",
       "10002             No       0    Walker          792    French  Female  28.0   \n",
       "10003             No       0    Walker          792    French  Female  28.0   \n",
       "\n",
       "       Tenure_y EstimatedSalary  \n",
       "0             2      €101348.88  \n",
       "1             2      €101348.88  \n",
       "10000         4       €38190.78  \n",
       "10001         4       €38190.78  \n",
       "10002         4       €38190.78  \n",
       "10003         4       €38190.78  "
      ]
     },
     "execution_count": 358,
     "metadata": {},
     "output_type": "execute_result"
    }
   ],
   "source": [
    "bank_account_df[bank_account_df.duplicated(keep=False)]"
   ]
  },
  {
   "cell_type": "code",
   "execution_count": 359,
   "id": "9efc6413",
   "metadata": {},
   "outputs": [],
   "source": [
    "bank_account_df = bank_account_df.drop_duplicates()"
   ]
  },
  {
   "cell_type": "code",
   "execution_count": 360,
   "id": "fe91d276",
   "metadata": {},
   "outputs": [
    {
     "data": {
      "text/html": [
       "<div>\n",
       "<style scoped>\n",
       "    .dataframe tbody tr th:only-of-type {\n",
       "        vertical-align: middle;\n",
       "    }\n",
       "\n",
       "    .dataframe tbody tr th {\n",
       "        vertical-align: top;\n",
       "    }\n",
       "\n",
       "    .dataframe thead th {\n",
       "        text-align: right;\n",
       "    }\n",
       "</style>\n",
       "<table border=\"1\" class=\"dataframe\">\n",
       "  <thead>\n",
       "    <tr style=\"text-align: right;\">\n",
       "      <th></th>\n",
       "      <th>CustomerId</th>\n",
       "      <th>Balance</th>\n",
       "      <th>NumOfProducts</th>\n",
       "      <th>HasCrCard</th>\n",
       "      <th>Tenure_x</th>\n",
       "      <th>IsActiveMember</th>\n",
       "      <th>Exited</th>\n",
       "      <th>Surname</th>\n",
       "      <th>CreditScore</th>\n",
       "      <th>Geography</th>\n",
       "      <th>Gender</th>\n",
       "      <th>Age</th>\n",
       "      <th>Tenure_y</th>\n",
       "      <th>EstimatedSalary</th>\n",
       "    </tr>\n",
       "  </thead>\n",
       "  <tbody>\n",
       "  </tbody>\n",
       "</table>\n",
       "</div>"
      ],
      "text/plain": [
       "Empty DataFrame\n",
       "Columns: [CustomerId, Balance, NumOfProducts, HasCrCard, Tenure_x, IsActiveMember, Exited, Surname, CreditScore, Geography, Gender, Age, Tenure_y, EstimatedSalary]\n",
       "Index: []"
      ]
     },
     "execution_count": 360,
     "metadata": {},
     "output_type": "execute_result"
    }
   ],
   "source": [
    "bank_account_df[bank_account_df.duplicated(keep=False)]"
   ]
  },
  {
   "cell_type": "code",
   "execution_count": 361,
   "id": "9f61a01a",
   "metadata": {},
   "outputs": [
    {
     "data": {
      "text/plain": [
       "np.int64(10000)"
      ]
     },
     "execution_count": 361,
     "metadata": {},
     "output_type": "execute_result"
    }
   ],
   "source": [
    "bank_account_df['CustomerId'].count()"
   ]
  },
  {
   "cell_type": "code",
   "execution_count": 362,
   "id": "2ef8d988",
   "metadata": {},
   "outputs": [],
   "source": [
    "bank_account_df.columns = bank_account_df.columns.str.strip().str.lower().str.replace(' ','_')"
   ]
  },
  {
   "cell_type": "code",
   "execution_count": 363,
   "id": "8a2a7243",
   "metadata": {},
   "outputs": [
    {
     "data": {
      "text/plain": [
       "Index(['customerid', 'balance', 'numofproducts', 'hascrcard', 'tenure_x',\n",
       "       'isactivemember', 'exited', 'surname', 'creditscore', 'geography',\n",
       "       'gender', 'age', 'tenure_y', 'estimatedsalary'],\n",
       "      dtype='object')"
      ]
     },
     "execution_count": 363,
     "metadata": {},
     "output_type": "execute_result"
    }
   ],
   "source": [
    "bank_account_df.columns"
   ]
  },
  {
   "cell_type": "markdown",
   "id": "6f2e2fb4",
   "metadata": {},
   "source": [
    "## **Check Duplicate Columns**"
   ]
  },
  {
   "cell_type": "code",
   "execution_count": 364,
   "id": "0dd85298",
   "metadata": {},
   "outputs": [
    {
     "data": {
      "text/plain": [
       "array([ True])"
      ]
     },
     "execution_count": 364,
     "metadata": {},
     "output_type": "execute_result"
    }
   ],
   "source": [
    "(bank_account_df['tenure_x'] == bank_account_df['tenure_y']).unique()"
   ]
  },
  {
   "cell_type": "code",
   "execution_count": 365,
   "id": "3b620871",
   "metadata": {},
   "outputs": [],
   "source": [
    "bank_account_df.drop(columns='tenure_y',inplace=True)"
   ]
  },
  {
   "cell_type": "code",
   "execution_count": 366,
   "id": "be756c0e",
   "metadata": {},
   "outputs": [
    {
     "data": {
      "text/plain": [
       "Index(['customerid', 'balance', 'numofproducts', 'hascrcard', 'tenure_x',\n",
       "       'isactivemember', 'exited', 'surname', 'creditscore', 'geography',\n",
       "       'gender', 'age', 'estimatedsalary'],\n",
       "      dtype='object')"
      ]
     },
     "execution_count": 366,
     "metadata": {},
     "output_type": "execute_result"
    }
   ],
   "source": [
    "bank_account_df.columns"
   ]
  },
  {
   "cell_type": "markdown",
   "id": "371b823d",
   "metadata": {},
   "source": [
    "## **Standardizing Column Name for preventing coding error**"
   ]
  },
  {
   "cell_type": "code",
   "execution_count": 367,
   "id": "e8a10143",
   "metadata": {},
   "outputs": [],
   "source": [
    "bank_account_df = bank_account_df.rename(columns={'tenure_x':'tenure'})"
   ]
  },
  {
   "cell_type": "code",
   "execution_count": 368,
   "id": "e46f47cf",
   "metadata": {},
   "outputs": [
    {
     "data": {
      "text/plain": [
       "Index(['customerid', 'balance', 'numofproducts', 'hascrcard', 'tenure',\n",
       "       'isactivemember', 'exited', 'surname', 'creditscore', 'geography',\n",
       "       'gender', 'age', 'estimatedsalary'],\n",
       "      dtype='object')"
      ]
     },
     "execution_count": 368,
     "metadata": {},
     "output_type": "execute_result"
    }
   ],
   "source": [
    "bank_account_df.columns"
   ]
  },
  {
   "cell_type": "markdown",
   "id": "484de321",
   "metadata": {},
   "source": [
    "## **Check DataType Mismatch & Fix**"
   ]
  },
  {
   "cell_type": "code",
   "execution_count": 369,
   "id": "e6397545",
   "metadata": {},
   "outputs": [
    {
     "data": {
      "text/plain": [
       "customerid         string[python]\n",
       "balance                    object\n",
       "numofproducts               int64\n",
       "hascrcard                  object\n",
       "tenure                      int64\n",
       "isactivemember             object\n",
       "exited                      int64\n",
       "surname                    object\n",
       "creditscore                 int64\n",
       "geography                  object\n",
       "gender                     object\n",
       "age                       float64\n",
       "estimatedsalary            object\n",
       "dtype: object"
      ]
     },
     "execution_count": 369,
     "metadata": {},
     "output_type": "execute_result"
    }
   ],
   "source": [
    "bank_account_df.dtypes"
   ]
  },
  {
   "cell_type": "code",
   "execution_count": 370,
   "id": "b1055bca",
   "metadata": {},
   "outputs": [
    {
     "data": {
      "text/plain": [
       "array(['Yes', 'No'], dtype=object)"
      ]
     },
     "execution_count": 370,
     "metadata": {},
     "output_type": "execute_result"
    }
   ],
   "source": [
    "bank_account_df['hascrcard'].unique()"
   ]
  },
  {
   "cell_type": "code",
   "execution_count": 371,
   "id": "ee73b3ac",
   "metadata": {},
   "outputs": [
    {
     "data": {
      "text/plain": [
       "0        €101348.88\n",
       "2        €112542.58\n",
       "3        €113931.57\n",
       "4         €93826.63\n",
       "5          €79084.1\n",
       "            ...    \n",
       "9996      €96270.64\n",
       "9997     €101699.77\n",
       "9998      €42085.58\n",
       "9999      €92888.52\n",
       "10000     €38190.78\n",
       "Name: estimatedsalary, Length: 10000, dtype: object"
      ]
     },
     "execution_count": 371,
     "metadata": {},
     "output_type": "execute_result"
    }
   ],
   "source": [
    "bank_account_df['estimatedsalary']"
   ]
  },
  {
   "cell_type": "code",
   "execution_count": 372,
   "id": "5ab82edc",
   "metadata": {},
   "outputs": [],
   "source": [
    "bank_account_df[['estimatedsalary','balance']] = bank_account_df[['estimatedsalary','balance']].astype('string')"
   ]
  },
  {
   "cell_type": "code",
   "execution_count": 373,
   "id": "681799b3",
   "metadata": {},
   "outputs": [],
   "source": [
    "# bank_account_df['estimatedsalary'].astype(float)"
   ]
  },
  {
   "cell_type": "code",
   "execution_count": 374,
   "id": "21289dcb",
   "metadata": {},
   "outputs": [],
   "source": [
    "bank_account_df[['estimatedsalary','balance']] = bank_account_df[['estimatedsalary','balance']].replace(r'[€,]','',regex=True)"
   ]
  },
  {
   "cell_type": "code",
   "execution_count": 375,
   "id": "cbfb92e3",
   "metadata": {},
   "outputs": [],
   "source": [
    "bank_account_df[['estimatedsalary','balance']] = bank_account_df[['estimatedsalary','balance']].astype(float)"
   ]
  },
  {
   "cell_type": "code",
   "execution_count": 376,
   "id": "a98ab0e3",
   "metadata": {},
   "outputs": [
    {
     "data": {
      "text/plain": [
       "customerid         string[python]\n",
       "balance                   float64\n",
       "numofproducts               int64\n",
       "hascrcard                  object\n",
       "tenure                      int64\n",
       "isactivemember             object\n",
       "exited                      int64\n",
       "surname                    object\n",
       "creditscore                 int64\n",
       "geography                  object\n",
       "gender                     object\n",
       "age                       float64\n",
       "estimatedsalary           float64\n",
       "dtype: object"
      ]
     },
     "execution_count": 376,
     "metadata": {},
     "output_type": "execute_result"
    }
   ],
   "source": [
    "bank_account_df.dtypes"
   ]
  },
  {
   "cell_type": "code",
   "execution_count": 377,
   "id": "e11bf027",
   "metadata": {},
   "outputs": [
    {
     "data": {
      "text/plain": [
       "array(['Yes', 'No'], dtype=object)"
      ]
     },
     "execution_count": 377,
     "metadata": {},
     "output_type": "execute_result"
    }
   ],
   "source": [
    "bank_account_df['hascrcard'].unique()"
   ]
  },
  {
   "cell_type": "code",
   "execution_count": 378,
   "id": "2e0559e9",
   "metadata": {},
   "outputs": [
    {
     "data": {
      "text/plain": [
       "array(['Yes', 'No'], dtype=object)"
      ]
     },
     "execution_count": 378,
     "metadata": {},
     "output_type": "execute_result"
    }
   ],
   "source": [
    "bank_account_df['isactivemember'].unique()"
   ]
  },
  {
   "cell_type": "code",
   "execution_count": 379,
   "id": "6a4e2e4f",
   "metadata": {},
   "outputs": [],
   "source": [
    "bank_account_df[['hascrcard','isactivemember']] = bank_account_df[['hascrcard','isactivemember']].astype('string').replace({'Yes':'1','No':'0'})"
   ]
  },
  {
   "cell_type": "code",
   "execution_count": 380,
   "id": "c64623e3",
   "metadata": {},
   "outputs": [],
   "source": [
    "bank_account_df[['hascrcard','isactivemember']] = bank_account_df[['hascrcard','isactivemember']].astype('int')"
   ]
  },
  {
   "cell_type": "code",
   "execution_count": 381,
   "id": "004dfae5",
   "metadata": {},
   "outputs": [],
   "source": [
    "bank_account_df[['geography','gender']] = bank_account_df[['geography','gender']].astype('string')"
   ]
  },
  {
   "cell_type": "code",
   "execution_count": 382,
   "id": "a7bf05ea",
   "metadata": {},
   "outputs": [],
   "source": [
    "bank_account_df['geography'] = bank_account_df['geography'].str.lower().str.strip()"
   ]
  },
  {
   "cell_type": "code",
   "execution_count": 383,
   "id": "415953c6",
   "metadata": {},
   "outputs": [],
   "source": [
    "bank_account_df['gender'] = bank_account_df['gender'].str.lower().str.strip()"
   ]
  },
  {
   "cell_type": "code",
   "execution_count": 384,
   "id": "5eb630b6",
   "metadata": {},
   "outputs": [
    {
     "data": {
      "text/plain": [
       "customerid         1\n",
       "balance            1\n",
       "numofproducts      1\n",
       "hascrcard          1\n",
       "tenure             1\n",
       "isactivemember     1\n",
       "exited             1\n",
       "surname            2\n",
       "creditscore        1\n",
       "geography          1\n",
       "gender             1\n",
       "age                1\n",
       "estimatedsalary    1\n",
       "dtype: int64"
      ]
     },
     "execution_count": 384,
     "metadata": {},
     "output_type": "execute_result"
    }
   ],
   "source": [
    "bank_account_df.map(type).nunique()"
   ]
  },
  {
   "cell_type": "code",
   "execution_count": 385,
   "id": "5feadbe1",
   "metadata": {},
   "outputs": [
    {
     "data": {
      "text/plain": [
       "customerid         0\n",
       "balance            0\n",
       "numofproducts      0\n",
       "hascrcard          0\n",
       "tenure             0\n",
       "isactivemember     0\n",
       "exited             0\n",
       "surname            3\n",
       "creditscore        0\n",
       "geography          0\n",
       "gender             0\n",
       "age                3\n",
       "estimatedsalary    0\n",
       "dtype: int64"
      ]
     },
     "execution_count": 385,
     "metadata": {},
     "output_type": "execute_result"
    }
   ],
   "source": [
    "bank_account_df.isnull().sum()"
   ]
  },
  {
   "cell_type": "code",
   "execution_count": 386,
   "id": "db8a1f9b",
   "metadata": {},
   "outputs": [
    {
     "data": {
      "text/html": [
       "<div>\n",
       "<style scoped>\n",
       "    .dataframe tbody tr th:only-of-type {\n",
       "        vertical-align: middle;\n",
       "    }\n",
       "\n",
       "    .dataframe tbody tr th {\n",
       "        vertical-align: top;\n",
       "    }\n",
       "\n",
       "    .dataframe thead th {\n",
       "        text-align: right;\n",
       "    }\n",
       "</style>\n",
       "<table border=\"1\" class=\"dataframe\">\n",
       "  <thead>\n",
       "    <tr style=\"text-align: right;\">\n",
       "      <th></th>\n",
       "      <th>customerid</th>\n",
       "      <th>balance</th>\n",
       "      <th>numofproducts</th>\n",
       "      <th>hascrcard</th>\n",
       "      <th>tenure</th>\n",
       "      <th>isactivemember</th>\n",
       "      <th>exited</th>\n",
       "      <th>surname</th>\n",
       "      <th>creditscore</th>\n",
       "      <th>geography</th>\n",
       "      <th>gender</th>\n",
       "      <th>age</th>\n",
       "      <th>estimatedsalary</th>\n",
       "    </tr>\n",
       "  </thead>\n",
       "  <tbody>\n",
       "    <tr>\n",
       "      <th>29</th>\n",
       "      <td>15728693</td>\n",
       "      <td>141349.43</td>\n",
       "      <td>1</td>\n",
       "      <td>1</td>\n",
       "      <td>3</td>\n",
       "      <td>1</td>\n",
       "      <td>0</td>\n",
       "      <td>NaN</td>\n",
       "      <td>574</td>\n",
       "      <td>germany</td>\n",
       "      <td>female</td>\n",
       "      <td>NaN</td>\n",
       "      <td>-999999.0</td>\n",
       "    </tr>\n",
       "    <tr>\n",
       "      <th>122</th>\n",
       "      <td>15580203</td>\n",
       "      <td>120193.42</td>\n",
       "      <td>1</td>\n",
       "      <td>0</td>\n",
       "      <td>6</td>\n",
       "      <td>0</td>\n",
       "      <td>0</td>\n",
       "      <td>NaN</td>\n",
       "      <td>674</td>\n",
       "      <td>spain</td>\n",
       "      <td>male</td>\n",
       "      <td>NaN</td>\n",
       "      <td>-999999.0</td>\n",
       "    </tr>\n",
       "    <tr>\n",
       "      <th>9390</th>\n",
       "      <td>15756954</td>\n",
       "      <td>0.00</td>\n",
       "      <td>1</td>\n",
       "      <td>1</td>\n",
       "      <td>2</td>\n",
       "      <td>1</td>\n",
       "      <td>0</td>\n",
       "      <td>NaN</td>\n",
       "      <td>538</td>\n",
       "      <td>france</td>\n",
       "      <td>female</td>\n",
       "      <td>NaN</td>\n",
       "      <td>-999999.0</td>\n",
       "    </tr>\n",
       "  </tbody>\n",
       "</table>\n",
       "</div>"
      ],
      "text/plain": [
       "     customerid    balance  numofproducts  hascrcard  tenure  isactivemember  \\\n",
       "29     15728693  141349.43              1          1       3               1   \n",
       "122    15580203  120193.42              1          0       6               0   \n",
       "9390   15756954       0.00              1          1       2               1   \n",
       "\n",
       "      exited surname  creditscore geography  gender  age  estimatedsalary  \n",
       "29         0     NaN          574   germany  female  NaN        -999999.0  \n",
       "122        0     NaN          674     spain    male  NaN        -999999.0  \n",
       "9390       0     NaN          538    france  female  NaN        -999999.0  "
      ]
     },
     "execution_count": 386,
     "metadata": {},
     "output_type": "execute_result"
    }
   ],
   "source": [
    "bank_account_df[bank_account_df['age'].isnull()]"
   ]
  },
  {
   "cell_type": "code",
   "execution_count": 387,
   "id": "4b515095",
   "metadata": {},
   "outputs": [],
   "source": [
    "bank_account_df = bank_account_df.dropna(subset=['balance','age','estimatedsalary','creditscore'])"
   ]
  },
  {
   "cell_type": "code",
   "execution_count": 388,
   "id": "6b7c1159",
   "metadata": {},
   "outputs": [],
   "source": [
    "bank_account_df['age'] = bank_account_df['age'].astype(int)"
   ]
  },
  {
   "cell_type": "code",
   "execution_count": 389,
   "id": "60d8a7c5",
   "metadata": {},
   "outputs": [
    {
     "data": {
      "text/plain": [
       "customerid         string[python]\n",
       "balance                   float64\n",
       "numofproducts               int64\n",
       "hascrcard                   int64\n",
       "tenure                      int64\n",
       "isactivemember              int64\n",
       "exited                      int64\n",
       "surname                    object\n",
       "creditscore                 int64\n",
       "geography          string[python]\n",
       "gender             string[python]\n",
       "age                         int64\n",
       "estimatedsalary           float64\n",
       "dtype: object"
      ]
     },
     "execution_count": 389,
     "metadata": {},
     "output_type": "execute_result"
    }
   ],
   "source": [
    "bank_account_df.dtypes"
   ]
  },
  {
   "cell_type": "code",
   "execution_count": 390,
   "id": "5eb40735",
   "metadata": {},
   "outputs": [],
   "source": [
    "bank_account_df = bank_account_df.drop(columns=['customerid','surname'])"
   ]
  },
  {
   "cell_type": "code",
   "execution_count": 391,
   "id": "40ab1579",
   "metadata": {},
   "outputs": [
    {
     "data": {
      "text/plain": [
       "balance            1\n",
       "numofproducts      1\n",
       "hascrcard          1\n",
       "tenure             1\n",
       "isactivemember     1\n",
       "exited             1\n",
       "creditscore        1\n",
       "geography          1\n",
       "gender             1\n",
       "age                1\n",
       "estimatedsalary    1\n",
       "dtype: int64"
      ]
     },
     "execution_count": 391,
     "metadata": {},
     "output_type": "execute_result"
    }
   ],
   "source": [
    "bank_account_df.map(type).nunique()"
   ]
  },
  {
   "cell_type": "markdown",
   "id": "ea0f7184",
   "metadata": {},
   "source": [
    "## **Standardize categorical data**"
   ]
  },
  {
   "cell_type": "code",
   "execution_count": 392,
   "id": "bf80fec8",
   "metadata": {},
   "outputs": [
    {
     "data": {
      "text/plain": [
       "<StringArray>\n",
       "['fra', 'spain', 'french', 'france', 'germany']\n",
       "Length: 5, dtype: string"
      ]
     },
     "execution_count": 392,
     "metadata": {},
     "output_type": "execute_result"
    }
   ],
   "source": [
    "bank_account_df['geography'].unique()"
   ]
  },
  {
   "cell_type": "code",
   "execution_count": 393,
   "id": "665072d4",
   "metadata": {},
   "outputs": [],
   "source": [
    "bank_account_df['geography'] = bank_account_df['geography'].replace(['fra','french'],'france')"
   ]
  },
  {
   "cell_type": "code",
   "execution_count": 394,
   "id": "96c0b2a3",
   "metadata": {},
   "outputs": [
    {
     "data": {
      "text/plain": [
       "<StringArray>\n",
       "['france', 'spain', 'germany']\n",
       "Length: 3, dtype: string"
      ]
     },
     "execution_count": 394,
     "metadata": {},
     "output_type": "execute_result"
    }
   ],
   "source": [
    "bank_account_df['geography'].unique()"
   ]
  },
  {
   "cell_type": "code",
   "execution_count": 395,
   "id": "11927226",
   "metadata": {},
   "outputs": [
    {
     "data": {
      "text/plain": [
       "<StringArray>\n",
       "['female', 'male']\n",
       "Length: 2, dtype: string"
      ]
     },
     "execution_count": 395,
     "metadata": {},
     "output_type": "execute_result"
    }
   ],
   "source": [
    "bank_account_df['gender'].unique()"
   ]
  },
  {
   "cell_type": "code",
   "execution_count": 396,
   "id": "bceb1522",
   "metadata": {},
   "outputs": [
    {
     "data": {
      "text/html": [
       "<div>\n",
       "<style scoped>\n",
       "    .dataframe tbody tr th:only-of-type {\n",
       "        vertical-align: middle;\n",
       "    }\n",
       "\n",
       "    .dataframe tbody tr th {\n",
       "        vertical-align: top;\n",
       "    }\n",
       "\n",
       "    .dataframe thead th {\n",
       "        text-align: right;\n",
       "    }\n",
       "</style>\n",
       "<table border=\"1\" class=\"dataframe\">\n",
       "  <thead>\n",
       "    <tr style=\"text-align: right;\">\n",
       "      <th></th>\n",
       "      <th>balance</th>\n",
       "      <th>numofproducts</th>\n",
       "      <th>hascrcard</th>\n",
       "      <th>tenure</th>\n",
       "      <th>isactivemember</th>\n",
       "      <th>exited</th>\n",
       "      <th>creditscore</th>\n",
       "      <th>age</th>\n",
       "      <th>estimatedsalary</th>\n",
       "    </tr>\n",
       "  </thead>\n",
       "  <tbody>\n",
       "    <tr>\n",
       "      <th>count</th>\n",
       "      <td>9997.000000</td>\n",
       "      <td>9997.000000</td>\n",
       "      <td>9997.000000</td>\n",
       "      <td>9997.000000</td>\n",
       "      <td>9997.000000</td>\n",
       "      <td>9997.000000</td>\n",
       "      <td>9997.000000</td>\n",
       "      <td>9997.000000</td>\n",
       "      <td>9997.000000</td>\n",
       "    </tr>\n",
       "    <tr>\n",
       "      <th>mean</th>\n",
       "      <td>76482.679807</td>\n",
       "      <td>1.530359</td>\n",
       "      <td>0.515055</td>\n",
       "      <td>5.013204</td>\n",
       "      <td>0.515055</td>\n",
       "      <td>0.203761</td>\n",
       "      <td>650.545364</td>\n",
       "      <td>38.922077</td>\n",
       "      <td>100092.222656</td>\n",
       "    </tr>\n",
       "    <tr>\n",
       "      <th>std</th>\n",
       "      <td>62397.174721</td>\n",
       "      <td>0.581669</td>\n",
       "      <td>0.499798</td>\n",
       "      <td>2.892364</td>\n",
       "      <td>0.499798</td>\n",
       "      <td>0.402814</td>\n",
       "      <td>96.657932</td>\n",
       "      <td>10.489072</td>\n",
       "      <td>57518.775702</td>\n",
       "    </tr>\n",
       "    <tr>\n",
       "      <th>min</th>\n",
       "      <td>0.000000</td>\n",
       "      <td>1.000000</td>\n",
       "      <td>0.000000</td>\n",
       "      <td>0.000000</td>\n",
       "      <td>0.000000</td>\n",
       "      <td>0.000000</td>\n",
       "      <td>350.000000</td>\n",
       "      <td>18.000000</td>\n",
       "      <td>11.580000</td>\n",
       "    </tr>\n",
       "    <tr>\n",
       "      <th>25%</th>\n",
       "      <td>0.000000</td>\n",
       "      <td>1.000000</td>\n",
       "      <td>0.000000</td>\n",
       "      <td>3.000000</td>\n",
       "      <td>0.000000</td>\n",
       "      <td>0.000000</td>\n",
       "      <td>584.000000</td>\n",
       "      <td>32.000000</td>\n",
       "      <td>50974.570000</td>\n",
       "    </tr>\n",
       "    <tr>\n",
       "      <th>50%</th>\n",
       "      <td>97188.620000</td>\n",
       "      <td>1.000000</td>\n",
       "      <td>1.000000</td>\n",
       "      <td>5.000000</td>\n",
       "      <td>1.000000</td>\n",
       "      <td>0.000000</td>\n",
       "      <td>652.000000</td>\n",
       "      <td>37.000000</td>\n",
       "      <td>100236.020000</td>\n",
       "    </tr>\n",
       "    <tr>\n",
       "      <th>75%</th>\n",
       "      <td>127642.440000</td>\n",
       "      <td>2.000000</td>\n",
       "      <td>1.000000</td>\n",
       "      <td>7.000000</td>\n",
       "      <td>1.000000</td>\n",
       "      <td>0.000000</td>\n",
       "      <td>718.000000</td>\n",
       "      <td>44.000000</td>\n",
       "      <td>149399.700000</td>\n",
       "    </tr>\n",
       "    <tr>\n",
       "      <th>max</th>\n",
       "      <td>250898.090000</td>\n",
       "      <td>4.000000</td>\n",
       "      <td>1.000000</td>\n",
       "      <td>10.000000</td>\n",
       "      <td>1.000000</td>\n",
       "      <td>1.000000</td>\n",
       "      <td>850.000000</td>\n",
       "      <td>92.000000</td>\n",
       "      <td>199992.480000</td>\n",
       "    </tr>\n",
       "  </tbody>\n",
       "</table>\n",
       "</div>"
      ],
      "text/plain": [
       "             balance  numofproducts    hascrcard       tenure  isactivemember  \\\n",
       "count    9997.000000    9997.000000  9997.000000  9997.000000     9997.000000   \n",
       "mean    76482.679807       1.530359     0.515055     5.013204        0.515055   \n",
       "std     62397.174721       0.581669     0.499798     2.892364        0.499798   \n",
       "min         0.000000       1.000000     0.000000     0.000000        0.000000   \n",
       "25%         0.000000       1.000000     0.000000     3.000000        0.000000   \n",
       "50%     97188.620000       1.000000     1.000000     5.000000        1.000000   \n",
       "75%    127642.440000       2.000000     1.000000     7.000000        1.000000   \n",
       "max    250898.090000       4.000000     1.000000    10.000000        1.000000   \n",
       "\n",
       "            exited  creditscore          age  estimatedsalary  \n",
       "count  9997.000000  9997.000000  9997.000000      9997.000000  \n",
       "mean      0.203761   650.545364    38.922077    100092.222656  \n",
       "std       0.402814    96.657932    10.489072     57518.775702  \n",
       "min       0.000000   350.000000    18.000000        11.580000  \n",
       "25%       0.000000   584.000000    32.000000     50974.570000  \n",
       "50%       0.000000   652.000000    37.000000    100236.020000  \n",
       "75%       0.000000   718.000000    44.000000    149399.700000  \n",
       "max       1.000000   850.000000    92.000000    199992.480000  "
      ]
     },
     "execution_count": 396,
     "metadata": {},
     "output_type": "execute_result"
    }
   ],
   "source": [
    "bank_account_df.describe()"
   ]
  },
  {
   "cell_type": "markdown",
   "id": "6ce4eef2",
   "metadata": {},
   "source": [
    "There are 30% no saving customers and saving customers' balance behaviors are stable. To study difference between no saving and saving customers. While most customers used only 1 or 2 products, few customers only used more than 2 products. Credit card is direct related with isactivemember. To increase more engagement, we should provide credit card plan. Most customers are long term customers around 5 years and longest term is 10 year old customers. New customers like 0 and oldest customers like 10 is quite few. 20% customers are churner so we need to explore why churn. There are few customers with worst credit score. although there are around 6% customers who have below 500 credit score, among them 30% of low credit score customers have higher income and saving. We can approve suitable low risk loan using strict policies to prevent churn customers. Our target customer is around 32 to 44. expanded range is 24- 60. Customer age do not impact on saving. "
   ]
  },
  {
   "cell_type": "code",
   "execution_count": 417,
   "id": "2076a6ff",
   "metadata": {},
   "outputs": [
    {
     "data": {
      "text/plain": [
       "age_group\n",
       "32-44       5285\n",
       "24-31       2047\n",
       "45-60       1876\n",
       "above 60     464\n",
       "21-23        236\n",
       "18-20         89\n",
       "Name: count, dtype: int64"
      ]
     },
     "execution_count": 417,
     "metadata": {},
     "output_type": "execute_result"
    }
   ],
   "source": [
    "bank_account_df['age_group'] = pd.cut(bank_account_df['age'],bins=[17,20,23,31,44,60,120],labels=['18-20','21-23','24-31','32-44','45-60','above 60'])\n",
    "bank_account_df['age_group'].value_counts()"
   ]
  },
  {
   "cell_type": "code",
   "execution_count": 423,
   "id": "28192921",
   "metadata": {},
   "outputs": [
    {
     "data": {
      "text/plain": [
       "age_group\n",
       "32-44       1935\n",
       "24-31        787\n",
       "45-60        600\n",
       "above 60     167\n",
       "21-23         91\n",
       "18-20         36\n",
       "Name: count, dtype: int64"
      ]
     },
     "execution_count": 423,
     "metadata": {},
     "output_type": "execute_result"
    }
   ],
   "source": [
    "bank_account_df[bank_account_df['balance']==0]['age_group'].value_counts()"
   ]
  },
  {
   "cell_type": "code",
   "execution_count": 414,
   "id": "54bb39b6",
   "metadata": {},
   "outputs": [
    {
     "data": {
      "text/html": [
       "<div>\n",
       "<style scoped>\n",
       "    .dataframe tbody tr th:only-of-type {\n",
       "        vertical-align: middle;\n",
       "    }\n",
       "\n",
       "    .dataframe tbody tr th {\n",
       "        vertical-align: top;\n",
       "    }\n",
       "\n",
       "    .dataframe thead th {\n",
       "        text-align: right;\n",
       "    }\n",
       "</style>\n",
       "<table border=\"1\" class=\"dataframe\">\n",
       "  <thead>\n",
       "    <tr style=\"text-align: right;\">\n",
       "      <th></th>\n",
       "      <th>balance</th>\n",
       "      <th>numofproducts</th>\n",
       "      <th>hascrcard</th>\n",
       "      <th>tenure</th>\n",
       "      <th>isactivemember</th>\n",
       "      <th>exited</th>\n",
       "      <th>creditscore</th>\n",
       "      <th>age</th>\n",
       "      <th>estimatedsalary</th>\n",
       "    </tr>\n",
       "  </thead>\n",
       "  <tbody>\n",
       "    <tr>\n",
       "      <th>count</th>\n",
       "      <td>632.000000</td>\n",
       "      <td>632.000000</td>\n",
       "      <td>632.000000</td>\n",
       "      <td>632.000000</td>\n",
       "      <td>632.000000</td>\n",
       "      <td>632.000000</td>\n",
       "      <td>632.000000</td>\n",
       "      <td>632.000000</td>\n",
       "      <td>632.000000</td>\n",
       "    </tr>\n",
       "    <tr>\n",
       "      <th>mean</th>\n",
       "      <td>80294.231329</td>\n",
       "      <td>1.515823</td>\n",
       "      <td>0.468354</td>\n",
       "      <td>5.077532</td>\n",
       "      <td>0.468354</td>\n",
       "      <td>0.237342</td>\n",
       "      <td>462.925633</td>\n",
       "      <td>38.908228</td>\n",
       "      <td>103307.478418</td>\n",
       "    </tr>\n",
       "    <tr>\n",
       "      <th>std</th>\n",
       "      <td>62792.369008</td>\n",
       "      <td>0.579417</td>\n",
       "      <td>0.499393</td>\n",
       "      <td>2.824839</td>\n",
       "      <td>0.499393</td>\n",
       "      <td>0.425790</td>\n",
       "      <td>30.113033</td>\n",
       "      <td>10.265777</td>\n",
       "      <td>57842.565848</td>\n",
       "    </tr>\n",
       "    <tr>\n",
       "      <th>min</th>\n",
       "      <td>0.000000</td>\n",
       "      <td>1.000000</td>\n",
       "      <td>0.000000</td>\n",
       "      <td>0.000000</td>\n",
       "      <td>0.000000</td>\n",
       "      <td>0.000000</td>\n",
       "      <td>350.000000</td>\n",
       "      <td>19.000000</td>\n",
       "      <td>878.870000</td>\n",
       "    </tr>\n",
       "    <tr>\n",
       "      <th>25%</th>\n",
       "      <td>0.000000</td>\n",
       "      <td>1.000000</td>\n",
       "      <td>0.000000</td>\n",
       "      <td>3.000000</td>\n",
       "      <td>0.000000</td>\n",
       "      <td>0.000000</td>\n",
       "      <td>445.000000</td>\n",
       "      <td>32.000000</td>\n",
       "      <td>56598.880000</td>\n",
       "    </tr>\n",
       "    <tr>\n",
       "      <th>50%</th>\n",
       "      <td>100697.760000</td>\n",
       "      <td>1.000000</td>\n",
       "      <td>0.000000</td>\n",
       "      <td>5.000000</td>\n",
       "      <td>0.000000</td>\n",
       "      <td>0.000000</td>\n",
       "      <td>470.000000</td>\n",
       "      <td>37.000000</td>\n",
       "      <td>101297.595000</td>\n",
       "    </tr>\n",
       "    <tr>\n",
       "      <th>75%</th>\n",
       "      <td>131097.260000</td>\n",
       "      <td>2.000000</td>\n",
       "      <td>1.000000</td>\n",
       "      <td>8.000000</td>\n",
       "      <td>1.000000</td>\n",
       "      <td>0.000000</td>\n",
       "      <td>487.000000</td>\n",
       "      <td>44.000000</td>\n",
       "      <td>155828.382500</td>\n",
       "    </tr>\n",
       "    <tr>\n",
       "      <th>max</th>\n",
       "      <td>221532.800000</td>\n",
       "      <td>4.000000</td>\n",
       "      <td>1.000000</td>\n",
       "      <td>10.000000</td>\n",
       "      <td>1.000000</td>\n",
       "      <td>1.000000</td>\n",
       "      <td>499.000000</td>\n",
       "      <td>84.000000</td>\n",
       "      <td>199505.530000</td>\n",
       "    </tr>\n",
       "  </tbody>\n",
       "</table>\n",
       "</div>"
      ],
      "text/plain": [
       "             balance  numofproducts   hascrcard      tenure  isactivemember  \\\n",
       "count     632.000000     632.000000  632.000000  632.000000      632.000000   \n",
       "mean    80294.231329       1.515823    0.468354    5.077532        0.468354   \n",
       "std     62792.369008       0.579417    0.499393    2.824839        0.499393   \n",
       "min         0.000000       1.000000    0.000000    0.000000        0.000000   \n",
       "25%         0.000000       1.000000    0.000000    3.000000        0.000000   \n",
       "50%    100697.760000       1.000000    0.000000    5.000000        0.000000   \n",
       "75%    131097.260000       2.000000    1.000000    8.000000        1.000000   \n",
       "max    221532.800000       4.000000    1.000000   10.000000        1.000000   \n",
       "\n",
       "           exited  creditscore         age  estimatedsalary  \n",
       "count  632.000000   632.000000  632.000000       632.000000  \n",
       "mean     0.237342   462.925633   38.908228    103307.478418  \n",
       "std      0.425790    30.113033   10.265777     57842.565848  \n",
       "min      0.000000   350.000000   19.000000       878.870000  \n",
       "25%      0.000000   445.000000   32.000000     56598.880000  \n",
       "50%      0.000000   470.000000   37.000000    101297.595000  \n",
       "75%      0.000000   487.000000   44.000000    155828.382500  \n",
       "max      1.000000   499.000000   84.000000    199505.530000  "
      ]
     },
     "execution_count": 414,
     "metadata": {},
     "output_type": "execute_result"
    }
   ],
   "source": [
    "bank_account_df[bank_account_df['creditscore']< 500].describe()"
   ]
  },
  {
   "cell_type": "code",
   "execution_count": 416,
   "id": "13f2c1d6",
   "metadata": {},
   "outputs": [
    {
     "data": {
      "text/html": [
       "<div>\n",
       "<style scoped>\n",
       "    .dataframe tbody tr th:only-of-type {\n",
       "        vertical-align: middle;\n",
       "    }\n",
       "\n",
       "    .dataframe tbody tr th {\n",
       "        vertical-align: top;\n",
       "    }\n",
       "\n",
       "    .dataframe thead th {\n",
       "        text-align: right;\n",
       "    }\n",
       "</style>\n",
       "<table border=\"1\" class=\"dataframe\">\n",
       "  <thead>\n",
       "    <tr style=\"text-align: right;\">\n",
       "      <th></th>\n",
       "      <th>balance</th>\n",
       "      <th>numofproducts</th>\n",
       "      <th>hascrcard</th>\n",
       "      <th>tenure</th>\n",
       "      <th>isactivemember</th>\n",
       "      <th>exited</th>\n",
       "      <th>creditscore</th>\n",
       "      <th>age</th>\n",
       "      <th>estimatedsalary</th>\n",
       "    </tr>\n",
       "  </thead>\n",
       "  <tbody>\n",
       "    <tr>\n",
       "      <th>count</th>\n",
       "      <td>162.000000</td>\n",
       "      <td>162.000000</td>\n",
       "      <td>162.000000</td>\n",
       "      <td>162.000000</td>\n",
       "      <td>162.000000</td>\n",
       "      <td>162.000000</td>\n",
       "      <td>162.000000</td>\n",
       "      <td>162.000000</td>\n",
       "      <td>162.000000</td>\n",
       "    </tr>\n",
       "    <tr>\n",
       "      <th>mean</th>\n",
       "      <td>135566.586975</td>\n",
       "      <td>1.469136</td>\n",
       "      <td>0.419753</td>\n",
       "      <td>5.141975</td>\n",
       "      <td>0.419753</td>\n",
       "      <td>0.228395</td>\n",
       "      <td>461.635802</td>\n",
       "      <td>39.000000</td>\n",
       "      <td>153647.638951</td>\n",
       "    </tr>\n",
       "    <tr>\n",
       "      <th>std</th>\n",
       "      <td>23136.398341</td>\n",
       "      <td>0.601993</td>\n",
       "      <td>0.495049</td>\n",
       "      <td>2.906124</td>\n",
       "      <td>0.495049</td>\n",
       "      <td>0.421100</td>\n",
       "      <td>33.325751</td>\n",
       "      <td>11.017772</td>\n",
       "      <td>28212.792104</td>\n",
       "    </tr>\n",
       "    <tr>\n",
       "      <th>min</th>\n",
       "      <td>101257.160000</td>\n",
       "      <td>1.000000</td>\n",
       "      <td>0.000000</td>\n",
       "      <td>0.000000</td>\n",
       "      <td>0.000000</td>\n",
       "      <td>0.000000</td>\n",
       "      <td>350.000000</td>\n",
       "      <td>19.000000</td>\n",
       "      <td>100447.530000</td>\n",
       "    </tr>\n",
       "    <tr>\n",
       "      <th>25%</th>\n",
       "      <td>117314.232500</td>\n",
       "      <td>1.000000</td>\n",
       "      <td>0.000000</td>\n",
       "      <td>2.250000</td>\n",
       "      <td>0.000000</td>\n",
       "      <td>0.000000</td>\n",
       "      <td>446.750000</td>\n",
       "      <td>32.000000</td>\n",
       "      <td>128459.090000</td>\n",
       "    </tr>\n",
       "    <tr>\n",
       "      <th>50%</th>\n",
       "      <td>131601.650000</td>\n",
       "      <td>1.000000</td>\n",
       "      <td>0.000000</td>\n",
       "      <td>6.000000</td>\n",
       "      <td>0.000000</td>\n",
       "      <td>0.000000</td>\n",
       "      <td>468.500000</td>\n",
       "      <td>37.000000</td>\n",
       "      <td>155041.060000</td>\n",
       "    </tr>\n",
       "    <tr>\n",
       "      <th>75%</th>\n",
       "      <td>152011.547500</td>\n",
       "      <td>2.000000</td>\n",
       "      <td>1.000000</td>\n",
       "      <td>8.000000</td>\n",
       "      <td>1.000000</td>\n",
       "      <td>0.000000</td>\n",
       "      <td>485.750000</td>\n",
       "      <td>44.000000</td>\n",
       "      <td>176621.162500</td>\n",
       "    </tr>\n",
       "    <tr>\n",
       "      <th>max</th>\n",
       "      <td>221532.800000</td>\n",
       "      <td>4.000000</td>\n",
       "      <td>1.000000</td>\n",
       "      <td>10.000000</td>\n",
       "      <td>1.000000</td>\n",
       "      <td>1.000000</td>\n",
       "      <td>499.000000</td>\n",
       "      <td>74.000000</td>\n",
       "      <td>198714.290000</td>\n",
       "    </tr>\n",
       "  </tbody>\n",
       "</table>\n",
       "</div>"
      ],
      "text/plain": [
       "             balance  numofproducts   hascrcard      tenure  isactivemember  \\\n",
       "count     162.000000     162.000000  162.000000  162.000000      162.000000   \n",
       "mean   135566.586975       1.469136    0.419753    5.141975        0.419753   \n",
       "std     23136.398341       0.601993    0.495049    2.906124        0.495049   \n",
       "min    101257.160000       1.000000    0.000000    0.000000        0.000000   \n",
       "25%    117314.232500       1.000000    0.000000    2.250000        0.000000   \n",
       "50%    131601.650000       1.000000    0.000000    6.000000        0.000000   \n",
       "75%    152011.547500       2.000000    1.000000    8.000000        1.000000   \n",
       "max    221532.800000       4.000000    1.000000   10.000000        1.000000   \n",
       "\n",
       "           exited  creditscore         age  estimatedsalary  \n",
       "count  162.000000   162.000000  162.000000       162.000000  \n",
       "mean     0.228395   461.635802   39.000000    153647.638951  \n",
       "std      0.421100    33.325751   11.017772     28212.792104  \n",
       "min      0.000000   350.000000   19.000000    100447.530000  \n",
       "25%      0.000000   446.750000   32.000000    128459.090000  \n",
       "50%      0.000000   468.500000   37.000000    155041.060000  \n",
       "75%      0.000000   485.750000   44.000000    176621.162500  \n",
       "max      1.000000   499.000000   74.000000    198714.290000  "
      ]
     },
     "execution_count": 416,
     "metadata": {},
     "output_type": "execute_result"
    }
   ],
   "source": [
    "bank_account_df[(bank_account_df['balance']>=100000) &\n",
    "                 (bank_account_df['estimatedsalary']>=100000) &\n",
    "                 (bank_account_df['creditscore']<500)\n",
    "                 ].describe()"
   ]
  },
  {
   "cell_type": "code",
   "execution_count": 412,
   "id": "65565fa4",
   "metadata": {},
   "outputs": [
    {
     "data": {
      "text/plain": [
       "tenure\n",
       "2     1047\n",
       "1     1035\n",
       "7     1028\n",
       "8     1025\n",
       "5     1012\n",
       "3     1008\n",
       "4      989\n",
       "9      984\n",
       "6      966\n",
       "10     490\n",
       "0      413\n",
       "Name: count, dtype: int64"
      ]
     },
     "execution_count": 412,
     "metadata": {},
     "output_type": "execute_result"
    }
   ],
   "source": [
    "bank_account_df['tenure'].value_counts()"
   ]
  },
  {
   "cell_type": "code",
   "execution_count": 401,
   "id": "213fc923",
   "metadata": {},
   "outputs": [
    {
     "data": {
      "text/html": [
       "<div>\n",
       "<style scoped>\n",
       "    .dataframe tbody tr th:only-of-type {\n",
       "        vertical-align: middle;\n",
       "    }\n",
       "\n",
       "    .dataframe tbody tr th {\n",
       "        vertical-align: top;\n",
       "    }\n",
       "\n",
       "    .dataframe thead th {\n",
       "        text-align: right;\n",
       "    }\n",
       "</style>\n",
       "<table border=\"1\" class=\"dataframe\">\n",
       "  <thead>\n",
       "    <tr style=\"text-align: right;\">\n",
       "      <th>Churn Status</th>\n",
       "      <th>0</th>\n",
       "      <th>1</th>\n",
       "    </tr>\n",
       "    <tr>\n",
       "      <th>Has Credit Card</th>\n",
       "      <th></th>\n",
       "      <th></th>\n",
       "    </tr>\n",
       "  </thead>\n",
       "  <tbody>\n",
       "    <tr>\n",
       "      <th>0</th>\n",
       "      <td>3546</td>\n",
       "      <td>1302</td>\n",
       "    </tr>\n",
       "    <tr>\n",
       "      <th>1</th>\n",
       "      <td>4414</td>\n",
       "      <td>735</td>\n",
       "    </tr>\n",
       "  </tbody>\n",
       "</table>\n",
       "</div>"
      ],
      "text/plain": [
       "Churn Status        0     1\n",
       "Has Credit Card            \n",
       "0                3546  1302\n",
       "1                4414   735"
      ]
     },
     "execution_count": 401,
     "metadata": {},
     "output_type": "execute_result"
    }
   ],
   "source": [
    "pd.crosstab(bank_account_df['hascrcard'],bank_account_df['exited'],rownames=['Has Credit Card'],colnames=['Churn Status'])"
   ]
  },
  {
   "cell_type": "code",
   "execution_count": 403,
   "id": "bd7eb9be",
   "metadata": {},
   "outputs": [
    {
     "data": {
      "text/html": [
       "<div>\n",
       "<style scoped>\n",
       "    .dataframe tbody tr th:only-of-type {\n",
       "        vertical-align: middle;\n",
       "    }\n",
       "\n",
       "    .dataframe tbody tr th {\n",
       "        vertical-align: top;\n",
       "    }\n",
       "\n",
       "    .dataframe thead th {\n",
       "        text-align: right;\n",
       "    }\n",
       "</style>\n",
       "<table border=\"1\" class=\"dataframe\">\n",
       "  <thead>\n",
       "    <tr style=\"text-align: right;\">\n",
       "      <th></th>\n",
       "      <th>balance</th>\n",
       "      <th>numofproducts</th>\n",
       "      <th>hascrcard</th>\n",
       "      <th>tenure</th>\n",
       "      <th>isactivemember</th>\n",
       "      <th>exited</th>\n",
       "      <th>creditscore</th>\n",
       "      <th>age</th>\n",
       "      <th>estimatedsalary</th>\n",
       "    </tr>\n",
       "  </thead>\n",
       "  <tbody>\n",
       "    <tr>\n",
       "      <th>count</th>\n",
       "      <td>3546.000000</td>\n",
       "      <td>3546.000000</td>\n",
       "      <td>3546.0</td>\n",
       "      <td>3546.000000</td>\n",
       "      <td>3546.0</td>\n",
       "      <td>3546.0</td>\n",
       "      <td>3546.000000</td>\n",
       "      <td>3546.000000</td>\n",
       "      <td>3546.000000</td>\n",
       "    </tr>\n",
       "    <tr>\n",
       "      <th>mean</th>\n",
       "      <td>72035.243421</td>\n",
       "      <td>1.554992</td>\n",
       "      <td>0.0</td>\n",
       "      <td>5.127750</td>\n",
       "      <td>0.0</td>\n",
       "      <td>0.0</td>\n",
       "      <td>648.907501</td>\n",
       "      <td>35.470671</td>\n",
       "      <td>100342.685237</td>\n",
       "    </tr>\n",
       "    <tr>\n",
       "      <th>std</th>\n",
       "      <td>63300.623286</td>\n",
       "      <td>0.507150</td>\n",
       "      <td>0.0</td>\n",
       "      <td>2.864851</td>\n",
       "      <td>0.0</td>\n",
       "      <td>0.0</td>\n",
       "      <td>96.228741</td>\n",
       "      <td>7.147478</td>\n",
       "      <td>57433.884371</td>\n",
       "    </tr>\n",
       "    <tr>\n",
       "      <th>min</th>\n",
       "      <td>0.000000</td>\n",
       "      <td>1.000000</td>\n",
       "      <td>0.0</td>\n",
       "      <td>0.000000</td>\n",
       "      <td>0.0</td>\n",
       "      <td>0.0</td>\n",
       "      <td>408.000000</td>\n",
       "      <td>18.000000</td>\n",
       "      <td>96.270000</td>\n",
       "    </tr>\n",
       "    <tr>\n",
       "      <th>25%</th>\n",
       "      <td>0.000000</td>\n",
       "      <td>1.000000</td>\n",
       "      <td>0.0</td>\n",
       "      <td>3.000000</td>\n",
       "      <td>0.0</td>\n",
       "      <td>0.0</td>\n",
       "      <td>582.250000</td>\n",
       "      <td>31.000000</td>\n",
       "      <td>50956.250000</td>\n",
       "    </tr>\n",
       "    <tr>\n",
       "      <th>50%</th>\n",
       "      <td>91776.980000</td>\n",
       "      <td>2.000000</td>\n",
       "      <td>0.0</td>\n",
       "      <td>5.000000</td>\n",
       "      <td>0.0</td>\n",
       "      <td>0.0</td>\n",
       "      <td>650.000000</td>\n",
       "      <td>35.000000</td>\n",
       "      <td>100168.240000</td>\n",
       "    </tr>\n",
       "    <tr>\n",
       "      <th>75%</th>\n",
       "      <td>127059.967500</td>\n",
       "      <td>2.000000</td>\n",
       "      <td>0.0</td>\n",
       "      <td>8.000000</td>\n",
       "      <td>0.0</td>\n",
       "      <td>0.0</td>\n",
       "      <td>716.000000</td>\n",
       "      <td>40.000000</td>\n",
       "      <td>148944.647500</td>\n",
       "    </tr>\n",
       "    <tr>\n",
       "      <th>max</th>\n",
       "      <td>221532.800000</td>\n",
       "      <td>3.000000</td>\n",
       "      <td>0.0</td>\n",
       "      <td>10.000000</td>\n",
       "      <td>0.0</td>\n",
       "      <td>0.0</td>\n",
       "      <td>850.000000</td>\n",
       "      <td>77.000000</td>\n",
       "      <td>199992.480000</td>\n",
       "    </tr>\n",
       "  </tbody>\n",
       "</table>\n",
       "</div>"
      ],
      "text/plain": [
       "             balance  numofproducts  hascrcard       tenure  isactivemember  \\\n",
       "count    3546.000000    3546.000000     3546.0  3546.000000          3546.0   \n",
       "mean    72035.243421       1.554992        0.0     5.127750             0.0   \n",
       "std     63300.623286       0.507150        0.0     2.864851             0.0   \n",
       "min         0.000000       1.000000        0.0     0.000000             0.0   \n",
       "25%         0.000000       1.000000        0.0     3.000000             0.0   \n",
       "50%     91776.980000       2.000000        0.0     5.000000             0.0   \n",
       "75%    127059.967500       2.000000        0.0     8.000000             0.0   \n",
       "max    221532.800000       3.000000        0.0    10.000000             0.0   \n",
       "\n",
       "       exited  creditscore          age  estimatedsalary  \n",
       "count  3546.0  3546.000000  3546.000000      3546.000000  \n",
       "mean      0.0   648.907501    35.470671    100342.685237  \n",
       "std       0.0    96.228741     7.147478     57433.884371  \n",
       "min       0.0   408.000000    18.000000        96.270000  \n",
       "25%       0.0   582.250000    31.000000     50956.250000  \n",
       "50%       0.0   650.000000    35.000000    100168.240000  \n",
       "75%       0.0   716.000000    40.000000    148944.647500  \n",
       "max       0.0   850.000000    77.000000    199992.480000  "
      ]
     },
     "execution_count": 403,
     "metadata": {},
     "output_type": "execute_result"
    }
   ],
   "source": [
    "bank_account_df[(bank_account_df['hascrcard']==0) &\n",
    "                 (bank_account_df['exited'] == 0)\n",
    "                ].describe()"
   ]
  },
  {
   "cell_type": "code",
   "execution_count": 409,
   "id": "992ab822",
   "metadata": {},
   "outputs": [],
   "source": [
    "potential_active_customers = bank_account_df[(bank_account_df['hascrcard']==0) &\n",
    "                 (bank_account_df['exited'] == 0) &\n",
    "                 (bank_account_df['creditscore'] >= 700) &\n",
    "                 (bank_account_df['estimatedsalary'] >= 100000) &\n",
    "                 (bank_account_df['balance'] >= 100000)\n",
    "                ]"
   ]
  },
  {
   "cell_type": "code",
   "execution_count": 410,
   "id": "3d4f649c",
   "metadata": {},
   "outputs": [
    {
     "data": {
      "text/plain": [
       "2.43072921876563"
      ]
     },
     "execution_count": 410,
     "metadata": {},
     "output_type": "execute_result"
    }
   ],
   "source": [
    "(len(potential_active_customers)/len(bank_account_df))*100"
   ]
  },
  {
   "cell_type": "code",
   "execution_count": 411,
   "id": "acd90e8f",
   "metadata": {},
   "outputs": [
    {
     "data": {
      "text/html": [
       "<div>\n",
       "<style scoped>\n",
       "    .dataframe tbody tr th:only-of-type {\n",
       "        vertical-align: middle;\n",
       "    }\n",
       "\n",
       "    .dataframe tbody tr th {\n",
       "        vertical-align: top;\n",
       "    }\n",
       "\n",
       "    .dataframe thead th {\n",
       "        text-align: right;\n",
       "    }\n",
       "</style>\n",
       "<table border=\"1\" class=\"dataframe\">\n",
       "  <thead>\n",
       "    <tr style=\"text-align: right;\">\n",
       "      <th>Gender</th>\n",
       "      <th>female</th>\n",
       "      <th>male</th>\n",
       "    </tr>\n",
       "    <tr>\n",
       "      <th>Geography</th>\n",
       "      <th></th>\n",
       "      <th></th>\n",
       "    </tr>\n",
       "  </thead>\n",
       "  <tbody>\n",
       "    <tr>\n",
       "      <th>france</th>\n",
       "      <td>42</td>\n",
       "      <td>74</td>\n",
       "    </tr>\n",
       "    <tr>\n",
       "      <th>germany</th>\n",
       "      <td>50</td>\n",
       "      <td>37</td>\n",
       "    </tr>\n",
       "    <tr>\n",
       "      <th>spain</th>\n",
       "      <td>17</td>\n",
       "      <td>23</td>\n",
       "    </tr>\n",
       "  </tbody>\n",
       "</table>\n",
       "</div>"
      ],
      "text/plain": [
       "Gender     female  male\n",
       "Geography              \n",
       "france         42    74\n",
       "germany        50    37\n",
       "spain          17    23"
      ]
     },
     "execution_count": 411,
     "metadata": {},
     "output_type": "execute_result"
    }
   ],
   "source": [
    "pd.crosstab(potential_active_customers['geography'],potential_active_customers['gender'],rownames=['Geography'],colnames=['Gender'])"
   ]
  },
  {
   "cell_type": "markdown",
   "id": "44658880",
   "metadata": {},
   "source": [
    "## Valuable Insight to add StreamLit\n",
    "\n",
    "We can improve **active rate** by providing **credit card** to this **2.4% inactive customers** who have high credit score, saving and income. Credit card and active member has direct correlation. We need to target france and germany which most potential customers exists. In france, male potential customers are more than female and in germany, female customers are more. It can be valuable for marketing team, key account teams of credit card campaign."
   ]
  },
  {
   "cell_type": "code",
   "execution_count": 399,
   "id": "2c8177d1",
   "metadata": {},
   "outputs": [
    {
     "data": {
      "text/plain": [
       "hascrcard\n",
       "1    0.515055\n",
       "0    0.484945\n",
       "Name: proportion, dtype: float64"
      ]
     },
     "execution_count": 399,
     "metadata": {},
     "output_type": "execute_result"
    }
   ],
   "source": [
    "bank_account_df['hascrcard'].value_counts(normalize=True)"
   ]
  },
  {
   "cell_type": "code",
   "execution_count": 398,
   "id": "ec1956a1",
   "metadata": {},
   "outputs": [
    {
     "data": {
      "text/plain": [
       "<Axes: xlabel='balance', ylabel='Count'>"
      ]
     },
     "execution_count": 398,
     "metadata": {},
     "output_type": "execute_result"
    },
    {
     "data": {
      "image/png": "[encoded data removed]",
      "text/plain": [
       "<Figure size 640x480 with 1 Axes>"
      ]
     },
     "metadata": {},
     "output_type": "display_data"
    }
   ],
   "source": [
    "sns.histplot(data=bank_account_df,x='balance',bins=30,kde=True)"
   ]
  },
  {
   "cell_type": "code",
   "execution_count": null,
   "id": "0d9d6c9f",
   "metadata": {},
   "outputs": [],
   "source": []
  }
 ],
 "metadata": {
  "kernelspec": {
   "display_name": "Python 3",
   "language": "python",
   "name": "python3"
  },
  "language_info": {
   "codemirror_mode": {
    "name": "ipython",
    "version": 3
   },
   "file_extension": ".py",
   "mimetype": "text/x-python",
   "name": "python",
   "nbconvert_exporter": "python",
   "pygments_lexer": "ipython3",
   "version": "3.13.0"
  }
 },
 "nbformat": 4,
 "nbformat_minor": 5
}
