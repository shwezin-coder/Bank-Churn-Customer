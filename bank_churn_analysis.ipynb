{
 "cells": [
  {
   "cell_type": "code",
   "execution_count": 1,
   "id": "2a477af9",
   "metadata": {},
   "outputs": [],
   "source": [
    "import pandas as pd #for data cleaning\n",
    "import numpy as np #for numerical data handling\n",
    "import matplotlib.pyplot as plt #for visualization\n",
    "import seaborn as sns #for advanced visualization\n",
    "from scipy import stats #statistical tests"
   ]
  },
  {
   "cell_type": "markdown",
   "id": "26c2a881",
   "metadata": {},
   "source": [
    "# **Data Cleaning**\n",
    "\n",
    "## **Extract data from customer sheet in messy excel**\n"
   ]
  },
  {
   "cell_type": "code",
   "execution_count": 8,
   "id": "a7f2fa58",
   "metadata": {},
   "outputs": [],
   "source": [
    "file_path = 'Bank_Churn_Messy.xlsx'"
   ]
  },
  {
   "cell_type": "code",
   "execution_count": 9,
   "id": "958d72d7",
   "metadata": {},
   "outputs": [],
   "source": [
    "customer_df = pd.read_excel(file_path,sheet_name=0)\n",
    "customer_df = pd.DataFrame(customer_df)"
   ]
  },
  {
   "cell_type": "code",
   "execution_count": 10,
   "id": "3fc77890",
   "metadata": {},
   "outputs": [
    {
     "data": {
      "text/html": [
       "<div>\n",
       "<style scoped>\n",
       "    .dataframe tbody tr th:only-of-type {\n",
       "        vertical-align: middle;\n",
       "    }\n",
       "\n",
       "    .dataframe tbody tr th {\n",
       "        vertical-align: top;\n",
       "    }\n",
       "\n",
       "    .dataframe thead th {\n",
       "        text-align: right;\n",
       "    }\n",
       "</style>\n",
       "<table border=\"1\" class=\"dataframe\">\n",
       "  <thead>\n",
       "    <tr style=\"text-align: right;\">\n",
       "      <th></th>\n",
       "      <th>CustomerId</th>\n",
       "      <th>Surname</th>\n",
       "      <th>CreditScore</th>\n",
       "      <th>Geography</th>\n",
       "      <th>Gender</th>\n",
       "      <th>Age</th>\n",
       "      <th>Tenure</th>\n",
       "      <th>EstimatedSalary</th>\n",
       "    </tr>\n",
       "  </thead>\n",
       "  <tbody>\n",
       "    <tr>\n",
       "      <th>0</th>\n",
       "      <td>15634602</td>\n",
       "      <td>Hargrave</td>\n",
       "      <td>619</td>\n",
       "      <td>FRA</td>\n",
       "      <td>Female</td>\n",
       "      <td>42.0</td>\n",
       "      <td>2</td>\n",
       "      <td>€101348.88</td>\n",
       "    </tr>\n",
       "    <tr>\n",
       "      <th>1</th>\n",
       "      <td>15647311</td>\n",
       "      <td>Hill</td>\n",
       "      <td>608</td>\n",
       "      <td>Spain</td>\n",
       "      <td>Female</td>\n",
       "      <td>41.0</td>\n",
       "      <td>1</td>\n",
       "      <td>€112542.58</td>\n",
       "    </tr>\n",
       "    <tr>\n",
       "      <th>2</th>\n",
       "      <td>15619304</td>\n",
       "      <td>Onio</td>\n",
       "      <td>502</td>\n",
       "      <td>French</td>\n",
       "      <td>Female</td>\n",
       "      <td>42.0</td>\n",
       "      <td>8</td>\n",
       "      <td>€113931.57</td>\n",
       "    </tr>\n",
       "    <tr>\n",
       "      <th>3</th>\n",
       "      <td>15701354</td>\n",
       "      <td>Boni</td>\n",
       "      <td>699</td>\n",
       "      <td>FRA</td>\n",
       "      <td>Female</td>\n",
       "      <td>39.0</td>\n",
       "      <td>1</td>\n",
       "      <td>€93826.63</td>\n",
       "    </tr>\n",
       "    <tr>\n",
       "      <th>4</th>\n",
       "      <td>15737888</td>\n",
       "      <td>Mitchell</td>\n",
       "      <td>850</td>\n",
       "      <td>Spain</td>\n",
       "      <td>Female</td>\n",
       "      <td>43.0</td>\n",
       "      <td>2</td>\n",
       "      <td>€79084.1</td>\n",
       "    </tr>\n",
       "  </tbody>\n",
       "</table>\n",
       "</div>"
      ],
      "text/plain": [
       "   CustomerId   Surname  CreditScore Geography  Gender   Age  Tenure  \\\n",
       "0    15634602  Hargrave          619       FRA  Female  42.0       2   \n",
       "1    15647311      Hill          608     Spain  Female  41.0       1   \n",
       "2    15619304      Onio          502    French  Female  42.0       8   \n",
       "3    15701354      Boni          699       FRA  Female  39.0       1   \n",
       "4    15737888  Mitchell          850     Spain  Female  43.0       2   \n",
       "\n",
       "  EstimatedSalary  \n",
       "0      €101348.88  \n",
       "1      €112542.58  \n",
       "2      €113931.57  \n",
       "3       €93826.63  \n",
       "4        €79084.1  "
      ]
     },
     "execution_count": 10,
     "metadata": {},
     "output_type": "execute_result"
    }
   ],
   "source": [
    "customer_df.head()"
   ]
  },
  {
   "cell_type": "markdown",
   "id": "e74d0cf4",
   "metadata": {},
   "source": [
    "## **CustomerID Type Checking**"
   ]
  },
  {
   "cell_type": "code",
   "execution_count": 11,
   "id": "0730f1d7",
   "metadata": {},
   "outputs": [
    {
     "data": {
      "text/plain": [
       "dtype('int64')"
      ]
     },
     "execution_count": 11,
     "metadata": {},
     "output_type": "execute_result"
    }
   ],
   "source": [
    "customer_df['CustomerId'].dtype"
   ]
  },
  {
   "cell_type": "code",
   "execution_count": 12,
   "id": "13656649",
   "metadata": {},
   "outputs": [],
   "source": [
    "customer_df['CustomerId'] = customer_df['CustomerId'].astype('string')"
   ]
  },
  {
   "cell_type": "code",
   "execution_count": 13,
   "id": "80367f01",
   "metadata": {},
   "outputs": [
    {
     "data": {
      "text/plain": [
       "string[python]"
      ]
     },
     "execution_count": 13,
     "metadata": {},
     "output_type": "execute_result"
    }
   ],
   "source": [
    "customer_df['CustomerId'].dtype"
   ]
  },
  {
   "cell_type": "markdown",
   "id": "a215ebd4",
   "metadata": {},
   "source": [
    "## **Extract data from account info sheet in messy excel**"
   ]
  },
  {
   "cell_type": "code",
   "execution_count": 15,
   "id": "6aca1599",
   "metadata": {},
   "outputs": [],
   "source": [
    "account_df = pd.read_excel(file_path,sheet_name=1)\n",
    "account_df = pd.DataFrame(account_df)"
   ]
  },
  {
   "cell_type": "code",
   "execution_count": 16,
   "id": "0556df9a",
   "metadata": {},
   "outputs": [
    {
     "data": {
      "text/html": [
       "<div>\n",
       "<style scoped>\n",
       "    .dataframe tbody tr th:only-of-type {\n",
       "        vertical-align: middle;\n",
       "    }\n",
       "\n",
       "    .dataframe tbody tr th {\n",
       "        vertical-align: top;\n",
       "    }\n",
       "\n",
       "    .dataframe thead th {\n",
       "        text-align: right;\n",
       "    }\n",
       "</style>\n",
       "<table border=\"1\" class=\"dataframe\">\n",
       "  <thead>\n",
       "    <tr style=\"text-align: right;\">\n",
       "      <th></th>\n",
       "      <th>CustomerId</th>\n",
       "      <th>Balance</th>\n",
       "      <th>NumOfProducts</th>\n",
       "      <th>HasCrCard</th>\n",
       "      <th>Tenure</th>\n",
       "      <th>IsActiveMember</th>\n",
       "      <th>Exited</th>\n",
       "    </tr>\n",
       "  </thead>\n",
       "  <tbody>\n",
       "    <tr>\n",
       "      <th>0</th>\n",
       "      <td>15634602</td>\n",
       "      <td>€0.0</td>\n",
       "      <td>1</td>\n",
       "      <td>Yes</td>\n",
       "      <td>2</td>\n",
       "      <td>Yes</td>\n",
       "      <td>1</td>\n",
       "    </tr>\n",
       "    <tr>\n",
       "      <th>1</th>\n",
       "      <td>15634602</td>\n",
       "      <td>€0.0</td>\n",
       "      <td>1</td>\n",
       "      <td>Yes</td>\n",
       "      <td>2</td>\n",
       "      <td>Yes</td>\n",
       "      <td>1</td>\n",
       "    </tr>\n",
       "    <tr>\n",
       "      <th>2</th>\n",
       "      <td>15647311</td>\n",
       "      <td>€83807.86</td>\n",
       "      <td>1</td>\n",
       "      <td>Yes</td>\n",
       "      <td>1</td>\n",
       "      <td>Yes</td>\n",
       "      <td>0</td>\n",
       "    </tr>\n",
       "    <tr>\n",
       "      <th>3</th>\n",
       "      <td>15619304</td>\n",
       "      <td>€159660.8</td>\n",
       "      <td>3</td>\n",
       "      <td>No</td>\n",
       "      <td>8</td>\n",
       "      <td>No</td>\n",
       "      <td>1</td>\n",
       "    </tr>\n",
       "    <tr>\n",
       "      <th>4</th>\n",
       "      <td>15701354</td>\n",
       "      <td>€0.0</td>\n",
       "      <td>2</td>\n",
       "      <td>No</td>\n",
       "      <td>1</td>\n",
       "      <td>No</td>\n",
       "      <td>0</td>\n",
       "    </tr>\n",
       "  </tbody>\n",
       "</table>\n",
       "</div>"
      ],
      "text/plain": [
       "   CustomerId    Balance  NumOfProducts HasCrCard  Tenure IsActiveMember  \\\n",
       "0    15634602       €0.0              1       Yes       2            Yes   \n",
       "1    15634602       €0.0              1       Yes       2            Yes   \n",
       "2    15647311  €83807.86              1       Yes       1            Yes   \n",
       "3    15619304  €159660.8              3        No       8             No   \n",
       "4    15701354       €0.0              2        No       1             No   \n",
       "\n",
       "   Exited  \n",
       "0       1  \n",
       "1       1  \n",
       "2       0  \n",
       "3       1  \n",
       "4       0  "
      ]
     },
     "execution_count": 16,
     "metadata": {},
     "output_type": "execute_result"
    }
   ],
   "source": [
    "account_df.head()"
   ]
  },
  {
   "cell_type": "code",
   "execution_count": 17,
   "id": "b1879942",
   "metadata": {},
   "outputs": [
    {
     "data": {
      "text/plain": [
       "dtype('int64')"
      ]
     },
     "execution_count": 17,
     "metadata": {},
     "output_type": "execute_result"
    }
   ],
   "source": [
    "account_df['CustomerId'].dtype"
   ]
  },
  {
   "cell_type": "code",
   "execution_count": 19,
   "id": "f50e2d87",
   "metadata": {},
   "outputs": [],
   "source": [
    "account_df['CustomerId'] = account_df['CustomerId'].astype('string')"
   ]
  },
  {
   "cell_type": "code",
   "execution_count": 20,
   "id": "ebf97b25",
   "metadata": {},
   "outputs": [
    {
     "data": {
      "text/plain": [
       "string[python]"
      ]
     },
     "execution_count": 20,
     "metadata": {},
     "output_type": "execute_result"
    }
   ],
   "source": [
    "account_df['CustomerId'].dtype"
   ]
  },
  {
   "cell_type": "markdown",
   "id": "34d3fc8c",
   "metadata": {},
   "source": [
    "## **Merge Data from account and customer**"
   ]
  },
  {
   "cell_type": "code",
   "execution_count": 21,
   "id": "ae570516",
   "metadata": {},
   "outputs": [],
   "source": [
    "bank_account_df = account_df.merge(customer_df,on='CustomerId',how='left')"
   ]
  },
  {
   "cell_type": "code",
   "execution_count": 27,
   "id": "2591172d",
   "metadata": {},
   "outputs": [
    {
     "data": {
      "text/plain": [
       "np.int64(10002)"
      ]
     },
     "execution_count": 27,
     "metadata": {},
     "output_type": "execute_result"
    }
   ],
   "source": [
    "account_df['CustomerId'].count()"
   ]
  },
  {
   "cell_type": "code",
   "execution_count": 28,
   "id": "a09e520c",
   "metadata": {},
   "outputs": [
    {
     "data": {
      "text/plain": [
       "np.int64(10001)"
      ]
     },
     "execution_count": 28,
     "metadata": {},
     "output_type": "execute_result"
    }
   ],
   "source": [
    "customer_df['CustomerId'].count()"
   ]
  },
  {
   "cell_type": "code",
   "execution_count": 26,
   "id": "20da071e",
   "metadata": {},
   "outputs": [
    {
     "data": {
      "text/plain": [
       "np.int64(10004)"
      ]
     },
     "execution_count": 26,
     "metadata": {},
     "output_type": "execute_result"
    }
   ],
   "source": [
    "bank_account_df['CustomerId'].count()"
   ]
  },
  {
   "cell_type": "markdown",
   "id": "fd3300b5",
   "metadata": {},
   "source": [
    "## **Check Duplicate Rows**"
   ]
  },
  {
   "cell_type": "code",
   "execution_count": 30,
   "id": "154cdd52",
   "metadata": {},
   "outputs": [
    {
     "data": {
      "text/html": [
       "<div>\n",
       "<style scoped>\n",
       "    .dataframe tbody tr th:only-of-type {\n",
       "        vertical-align: middle;\n",
       "    }\n",
       "\n",
       "    .dataframe tbody tr th {\n",
       "        vertical-align: top;\n",
       "    }\n",
       "\n",
       "    .dataframe thead th {\n",
       "        text-align: right;\n",
       "    }\n",
       "</style>\n",
       "<table border=\"1\" class=\"dataframe\">\n",
       "  <thead>\n",
       "    <tr style=\"text-align: right;\">\n",
       "      <th></th>\n",
       "      <th>CustomerId</th>\n",
       "      <th>Balance</th>\n",
       "      <th>NumOfProducts</th>\n",
       "      <th>HasCrCard</th>\n",
       "      <th>Tenure_x</th>\n",
       "      <th>IsActiveMember</th>\n",
       "      <th>Exited</th>\n",
       "      <th>Surname</th>\n",
       "      <th>CreditScore</th>\n",
       "      <th>Geography</th>\n",
       "      <th>Gender</th>\n",
       "      <th>Age</th>\n",
       "      <th>Tenure_y</th>\n",
       "      <th>EstimatedSalary</th>\n",
       "    </tr>\n",
       "  </thead>\n",
       "  <tbody>\n",
       "    <tr>\n",
       "      <th>0</th>\n",
       "      <td>15634602</td>\n",
       "      <td>€0.0</td>\n",
       "      <td>1</td>\n",
       "      <td>Yes</td>\n",
       "      <td>2</td>\n",
       "      <td>Yes</td>\n",
       "      <td>1</td>\n",
       "      <td>Hargrave</td>\n",
       "      <td>619</td>\n",
       "      <td>FRA</td>\n",
       "      <td>Female</td>\n",
       "      <td>42.0</td>\n",
       "      <td>2</td>\n",
       "      <td>€101348.88</td>\n",
       "    </tr>\n",
       "    <tr>\n",
       "      <th>1</th>\n",
       "      <td>15634602</td>\n",
       "      <td>€0.0</td>\n",
       "      <td>1</td>\n",
       "      <td>Yes</td>\n",
       "      <td>2</td>\n",
       "      <td>Yes</td>\n",
       "      <td>1</td>\n",
       "      <td>Hargrave</td>\n",
       "      <td>619</td>\n",
       "      <td>FRA</td>\n",
       "      <td>Female</td>\n",
       "      <td>42.0</td>\n",
       "      <td>2</td>\n",
       "      <td>€101348.88</td>\n",
       "    </tr>\n",
       "    <tr>\n",
       "      <th>10000</th>\n",
       "      <td>15628319</td>\n",
       "      <td>€130142.79</td>\n",
       "      <td>1</td>\n",
       "      <td>No</td>\n",
       "      <td>4</td>\n",
       "      <td>No</td>\n",
       "      <td>0</td>\n",
       "      <td>Walker</td>\n",
       "      <td>792</td>\n",
       "      <td>French</td>\n",
       "      <td>Female</td>\n",
       "      <td>28.0</td>\n",
       "      <td>4</td>\n",
       "      <td>€38190.78</td>\n",
       "    </tr>\n",
       "    <tr>\n",
       "      <th>10001</th>\n",
       "      <td>15628319</td>\n",
       "      <td>€130142.79</td>\n",
       "      <td>1</td>\n",
       "      <td>No</td>\n",
       "      <td>4</td>\n",
       "      <td>No</td>\n",
       "      <td>0</td>\n",
       "      <td>Walker</td>\n",
       "      <td>792</td>\n",
       "      <td>French</td>\n",
       "      <td>Female</td>\n",
       "      <td>28.0</td>\n",
       "      <td>4</td>\n",
       "      <td>€38190.78</td>\n",
       "    </tr>\n",
       "    <tr>\n",
       "      <th>10002</th>\n",
       "      <td>15628319</td>\n",
       "      <td>€130142.79</td>\n",
       "      <td>1</td>\n",
       "      <td>No</td>\n",
       "      <td>4</td>\n",
       "      <td>No</td>\n",
       "      <td>0</td>\n",
       "      <td>Walker</td>\n",
       "      <td>792</td>\n",
       "      <td>French</td>\n",
       "      <td>Female</td>\n",
       "      <td>28.0</td>\n",
       "      <td>4</td>\n",
       "      <td>€38190.78</td>\n",
       "    </tr>\n",
       "    <tr>\n",
       "      <th>10003</th>\n",
       "      <td>15628319</td>\n",
       "      <td>€130142.79</td>\n",
       "      <td>1</td>\n",
       "      <td>No</td>\n",
       "      <td>4</td>\n",
       "      <td>No</td>\n",
       "      <td>0</td>\n",
       "      <td>Walker</td>\n",
       "      <td>792</td>\n",
       "      <td>French</td>\n",
       "      <td>Female</td>\n",
       "      <td>28.0</td>\n",
       "      <td>4</td>\n",
       "      <td>€38190.78</td>\n",
       "    </tr>\n",
       "  </tbody>\n",
       "</table>\n",
       "</div>"
      ],
      "text/plain": [
       "      CustomerId     Balance  NumOfProducts HasCrCard  Tenure_x  \\\n",
       "0       15634602        €0.0              1       Yes         2   \n",
       "1       15634602        €0.0              1       Yes         2   \n",
       "10000   15628319  €130142.79              1        No         4   \n",
       "10001   15628319  €130142.79              1        No         4   \n",
       "10002   15628319  €130142.79              1        No         4   \n",
       "10003   15628319  €130142.79              1        No         4   \n",
       "\n",
       "      IsActiveMember  Exited   Surname  CreditScore Geography  Gender   Age  \\\n",
       "0                Yes       1  Hargrave          619       FRA  Female  42.0   \n",
       "1                Yes       1  Hargrave          619       FRA  Female  42.0   \n",
       "10000             No       0    Walker          792    French  Female  28.0   \n",
       "10001             No       0    Walker          792    French  Female  28.0   \n",
       "10002             No       0    Walker          792    French  Female  28.0   \n",
       "10003             No       0    Walker          792    French  Female  28.0   \n",
       "\n",
       "       Tenure_y EstimatedSalary  \n",
       "0             2      €101348.88  \n",
       "1             2      €101348.88  \n",
       "10000         4       €38190.78  \n",
       "10001         4       €38190.78  \n",
       "10002         4       €38190.78  \n",
       "10003         4       €38190.78  "
      ]
     },
     "execution_count": 30,
     "metadata": {},
     "output_type": "execute_result"
    }
   ],
   "source": [
    "bank_account_df[bank_account_df.duplicated(keep=False)]"
   ]
  },
  {
   "cell_type": "code",
   "execution_count": 31,
   "id": "9efc6413",
   "metadata": {},
   "outputs": [],
   "source": [
    "bank_account_df = bank_account_df.drop_duplicates()"
   ]
  },
  {
   "cell_type": "code",
   "execution_count": 32,
   "id": "fe91d276",
   "metadata": {},
   "outputs": [
    {
     "data": {
      "text/html": [
       "<div>\n",
       "<style scoped>\n",
       "    .dataframe tbody tr th:only-of-type {\n",
       "        vertical-align: middle;\n",
       "    }\n",
       "\n",
       "    .dataframe tbody tr th {\n",
       "        vertical-align: top;\n",
       "    }\n",
       "\n",
       "    .dataframe thead th {\n",
       "        text-align: right;\n",
       "    }\n",
       "</style>\n",
       "<table border=\"1\" class=\"dataframe\">\n",
       "  <thead>\n",
       "    <tr style=\"text-align: right;\">\n",
       "      <th></th>\n",
       "      <th>CustomerId</th>\n",
       "      <th>Balance</th>\n",
       "      <th>NumOfProducts</th>\n",
       "      <th>HasCrCard</th>\n",
       "      <th>Tenure_x</th>\n",
       "      <th>IsActiveMember</th>\n",
       "      <th>Exited</th>\n",
       "      <th>Surname</th>\n",
       "      <th>CreditScore</th>\n",
       "      <th>Geography</th>\n",
       "      <th>Gender</th>\n",
       "      <th>Age</th>\n",
       "      <th>Tenure_y</th>\n",
       "      <th>EstimatedSalary</th>\n",
       "    </tr>\n",
       "  </thead>\n",
       "  <tbody>\n",
       "  </tbody>\n",
       "</table>\n",
       "</div>"
      ],
      "text/plain": [
       "Empty DataFrame\n",
       "Columns: [CustomerId, Balance, NumOfProducts, HasCrCard, Tenure_x, IsActiveMember, Exited, Surname, CreditScore, Geography, Gender, Age, Tenure_y, EstimatedSalary]\n",
       "Index: []"
      ]
     },
     "execution_count": 32,
     "metadata": {},
     "output_type": "execute_result"
    }
   ],
   "source": [
    "bank_account_df[bank_account_df.duplicated(keep=False)]"
   ]
  },
  {
   "cell_type": "code",
   "execution_count": 33,
   "id": "9f61a01a",
   "metadata": {},
   "outputs": [
    {
     "data": {
      "text/plain": [
       "np.int64(10000)"
      ]
     },
     "execution_count": 33,
     "metadata": {},
     "output_type": "execute_result"
    }
   ],
   "source": [
    "bank_account_df['CustomerId'].count()"
   ]
  },
  {
   "cell_type": "code",
   "execution_count": 34,
   "id": "2ef8d988",
   "metadata": {},
   "outputs": [],
   "source": [
    "bank_account_df.columns = bank_account_df.columns.str.strip().str.lower().str.replace(' ','_')"
   ]
  },
  {
   "cell_type": "code",
   "execution_count": 35,
   "id": "8a2a7243",
   "metadata": {},
   "outputs": [
    {
     "data": {
      "text/plain": [
       "Index(['customerid', 'balance', 'numofproducts', 'hascrcard', 'tenure_x',\n",
       "       'isactivemember', 'exited', 'surname', 'creditscore', 'geography',\n",
       "       'gender', 'age', 'tenure_y', 'estimatedsalary'],\n",
       "      dtype='object')"
      ]
     },
     "execution_count": 35,
     "metadata": {},
     "output_type": "execute_result"
    }
   ],
   "source": [
    "bank_account_df.columns"
   ]
  },
  {
   "cell_type": "markdown",
   "id": "6f2e2fb4",
   "metadata": {},
   "source": [
    "## **Check Duplicate Columns**"
   ]
  },
  {
   "cell_type": "code",
   "execution_count": 37,
   "id": "0dd85298",
   "metadata": {},
   "outputs": [
    {
     "data": {
      "text/plain": [
       "array([ True])"
      ]
     },
     "execution_count": 37,
     "metadata": {},
     "output_type": "execute_result"
    }
   ],
   "source": [
    "(bank_account_df['tenure_x'] == bank_account_df['tenure_y']).unique()"
   ]
  },
  {
   "cell_type": "code",
   "execution_count": 38,
   "id": "3b620871",
   "metadata": {},
   "outputs": [],
   "source": [
    "bank_account_df.drop(columns='tenure_y',inplace=True)"
   ]
  },
  {
   "cell_type": "code",
   "execution_count": 39,
   "id": "be756c0e",
   "metadata": {},
   "outputs": [
    {
     "data": {
      "text/plain": [
       "Index(['customerid', 'balance', 'numofproducts', 'hascrcard', 'tenure_x',\n",
       "       'isactivemember', 'exited', 'surname', 'creditscore', 'geography',\n",
       "       'gender', 'age', 'estimatedsalary'],\n",
       "      dtype='object')"
      ]
     },
     "execution_count": 39,
     "metadata": {},
     "output_type": "execute_result"
    }
   ],
   "source": [
    "bank_account_df.columns"
   ]
  },
  {
   "cell_type": "markdown",
   "id": "371b823d",
   "metadata": {},
   "source": [
    "## **Standardizing Column Name for preventing coding error**"
   ]
  },
  {
   "cell_type": "code",
   "execution_count": 43,
   "id": "e8a10143",
   "metadata": {},
   "outputs": [],
   "source": [
    "bank_account_df = bank_account_df.rename(columns={'tenure_x':'tenure'})"
   ]
  },
  {
   "cell_type": "code",
   "execution_count": 44,
   "id": "e46f47cf",
   "metadata": {},
   "outputs": [
    {
     "data": {
      "text/plain": [
       "Index(['customerid', 'balance', 'numofproducts', 'hascrcard', 'tenure',\n",
       "       'isactivemember', 'exited', 'surname', 'creditscore', 'geography',\n",
       "       'gender', 'age', 'estimatedsalary'],\n",
       "      dtype='object')"
      ]
     },
     "execution_count": 44,
     "metadata": {},
     "output_type": "execute_result"
    }
   ],
   "source": [
    "bank_account_df.columns"
   ]
  },
  {
   "cell_type": "markdown",
   "id": "484de321",
   "metadata": {},
   "source": [
    "## **Check DataType Mismatch & Fix**"
   ]
  },
  {
   "cell_type": "code",
   "execution_count": 45,
   "id": "e6397545",
   "metadata": {},
   "outputs": [
    {
     "data": {
      "text/plain": [
       "customerid         string[python]\n",
       "balance                    object\n",
       "numofproducts               int64\n",
       "hascrcard                  object\n",
       "tenure                      int64\n",
       "isactivemember             object\n",
       "exited                      int64\n",
       "surname                    object\n",
       "creditscore                 int64\n",
       "geography                  object\n",
       "gender                     object\n",
       "age                       float64\n",
       "estimatedsalary            object\n",
       "dtype: object"
      ]
     },
     "execution_count": 45,
     "metadata": {},
     "output_type": "execute_result"
    }
   ],
   "source": [
    "bank_account_df.dtypes"
   ]
  },
  {
   "cell_type": "code",
   "execution_count": 46,
   "id": "b1055bca",
   "metadata": {},
   "outputs": [
    {
     "data": {
      "text/plain": [
       "array(['Yes', 'No'], dtype=object)"
      ]
     },
     "execution_count": 46,
     "metadata": {},
     "output_type": "execute_result"
    }
   ],
   "source": [
    "bank_account_df['hascrcard'].unique()"
   ]
  },
  {
   "cell_type": "code",
   "execution_count": 51,
   "id": "ee73b3ac",
   "metadata": {},
   "outputs": [
    {
     "data": {
      "text/plain": [
       "0        €101348.88\n",
       "2        €112542.58\n",
       "3        €113931.57\n",
       "4         €93826.63\n",
       "5          €79084.1\n",
       "            ...    \n",
       "9996      €96270.64\n",
       "9997     €101699.77\n",
       "9998      €42085.58\n",
       "9999      €92888.52\n",
       "10000     €38190.78\n",
       "Name: estimatedsalary, Length: 10000, dtype: string"
      ]
     },
     "execution_count": 51,
     "metadata": {},
     "output_type": "execute_result"
    }
   ],
   "source": [
    "bank_account_df['estimatedsalary']"
   ]
  },
  {
   "cell_type": "code",
   "execution_count": 50,
   "id": "5ab82edc",
   "metadata": {},
   "outputs": [],
   "source": [
    "bank_account_df[['estimatedsalary','balance']] = bank_account_df[['estimatedsalary','balance']].astype('string')"
   ]
  },
  {
   "cell_type": "code",
   "execution_count": 52,
   "id": "681799b3",
   "metadata": {},
   "outputs": [
    {
     "ename": "ValueError",
     "evalue": "could not convert string to float: '€101348.88'",
     "output_type": "error",
     "traceback": [
      "\u001b[1;31m---------------------------------------------------------------------------\u001b[0m",
      "\u001b[1;31mValueError\u001b[0m                                Traceback (most recent call last)",
      "Cell \u001b[1;32mIn[52], line 1\u001b[0m\n\u001b[1;32m----> 1\u001b[0m \u001b[43mbank_account_df\u001b[49m\u001b[43m[\u001b[49m\u001b[38;5;124;43m'\u001b[39;49m\u001b[38;5;124;43mestimatedsalary\u001b[39;49m\u001b[38;5;124;43m'\u001b[39;49m\u001b[43m]\u001b[49m\u001b[38;5;241;43m.\u001b[39;49m\u001b[43mastype\u001b[49m\u001b[43m(\u001b[49m\u001b[38;5;28;43mfloat\u001b[39;49m\u001b[43m)\u001b[49m\n",
      "File \u001b[1;32mc:\\Users\\ASUS\\AppData\\Local\\Programs\\Python\\Python313\\Lib\\site-packages\\pandas\\core\\generic.py:6643\u001b[0m, in \u001b[0;36mNDFrame.astype\u001b[1;34m(self, dtype, copy, errors)\u001b[0m\n\u001b[0;32m   6637\u001b[0m     results \u001b[38;5;241m=\u001b[39m [\n\u001b[0;32m   6638\u001b[0m         ser\u001b[38;5;241m.\u001b[39mastype(dtype, copy\u001b[38;5;241m=\u001b[39mcopy, errors\u001b[38;5;241m=\u001b[39merrors) \u001b[38;5;28;01mfor\u001b[39;00m _, ser \u001b[38;5;129;01min\u001b[39;00m \u001b[38;5;28mself\u001b[39m\u001b[38;5;241m.\u001b[39mitems()\n\u001b[0;32m   6639\u001b[0m     ]\n\u001b[0;32m   6641\u001b[0m \u001b[38;5;28;01melse\u001b[39;00m:\n\u001b[0;32m   6642\u001b[0m     \u001b[38;5;66;03m# else, only a single dtype is given\u001b[39;00m\n\u001b[1;32m-> 6643\u001b[0m     new_data \u001b[38;5;241m=\u001b[39m \u001b[38;5;28;43mself\u001b[39;49m\u001b[38;5;241;43m.\u001b[39;49m\u001b[43m_mgr\u001b[49m\u001b[38;5;241;43m.\u001b[39;49m\u001b[43mastype\u001b[49m\u001b[43m(\u001b[49m\u001b[43mdtype\u001b[49m\u001b[38;5;241;43m=\u001b[39;49m\u001b[43mdtype\u001b[49m\u001b[43m,\u001b[49m\u001b[43m \u001b[49m\u001b[43mcopy\u001b[49m\u001b[38;5;241;43m=\u001b[39;49m\u001b[43mcopy\u001b[49m\u001b[43m,\u001b[49m\u001b[43m \u001b[49m\u001b[43merrors\u001b[49m\u001b[38;5;241;43m=\u001b[39;49m\u001b[43merrors\u001b[49m\u001b[43m)\u001b[49m\n\u001b[0;32m   6644\u001b[0m     res \u001b[38;5;241m=\u001b[39m \u001b[38;5;28mself\u001b[39m\u001b[38;5;241m.\u001b[39m_constructor_from_mgr(new_data, axes\u001b[38;5;241m=\u001b[39mnew_data\u001b[38;5;241m.\u001b[39maxes)\n\u001b[0;32m   6645\u001b[0m     \u001b[38;5;28;01mreturn\u001b[39;00m res\u001b[38;5;241m.\u001b[39m__finalize__(\u001b[38;5;28mself\u001b[39m, method\u001b[38;5;241m=\u001b[39m\u001b[38;5;124m\"\u001b[39m\u001b[38;5;124mastype\u001b[39m\u001b[38;5;124m\"\u001b[39m)\n",
      "File \u001b[1;32mc:\\Users\\ASUS\\AppData\\Local\\Programs\\Python\\Python313\\Lib\\site-packages\\pandas\\core\\internals\\managers.py:430\u001b[0m, in \u001b[0;36mBaseBlockManager.astype\u001b[1;34m(self, dtype, copy, errors)\u001b[0m\n\u001b[0;32m    427\u001b[0m \u001b[38;5;28;01melif\u001b[39;00m using_copy_on_write():\n\u001b[0;32m    428\u001b[0m     copy \u001b[38;5;241m=\u001b[39m \u001b[38;5;28;01mFalse\u001b[39;00m\n\u001b[1;32m--> 430\u001b[0m \u001b[38;5;28;01mreturn\u001b[39;00m \u001b[38;5;28;43mself\u001b[39;49m\u001b[38;5;241;43m.\u001b[39;49m\u001b[43mapply\u001b[49m\u001b[43m(\u001b[49m\n\u001b[0;32m    431\u001b[0m \u001b[43m    \u001b[49m\u001b[38;5;124;43m\"\u001b[39;49m\u001b[38;5;124;43mastype\u001b[39;49m\u001b[38;5;124;43m\"\u001b[39;49m\u001b[43m,\u001b[49m\n\u001b[0;32m    432\u001b[0m \u001b[43m    \u001b[49m\u001b[43mdtype\u001b[49m\u001b[38;5;241;43m=\u001b[39;49m\u001b[43mdtype\u001b[49m\u001b[43m,\u001b[49m\n\u001b[0;32m    433\u001b[0m \u001b[43m    \u001b[49m\u001b[43mcopy\u001b[49m\u001b[38;5;241;43m=\u001b[39;49m\u001b[43mcopy\u001b[49m\u001b[43m,\u001b[49m\n\u001b[0;32m    434\u001b[0m \u001b[43m    \u001b[49m\u001b[43merrors\u001b[49m\u001b[38;5;241;43m=\u001b[39;49m\u001b[43merrors\u001b[49m\u001b[43m,\u001b[49m\n\u001b[0;32m    435\u001b[0m \u001b[43m    \u001b[49m\u001b[43musing_cow\u001b[49m\u001b[38;5;241;43m=\u001b[39;49m\u001b[43musing_copy_on_write\u001b[49m\u001b[43m(\u001b[49m\u001b[43m)\u001b[49m\u001b[43m,\u001b[49m\n\u001b[0;32m    436\u001b[0m \u001b[43m\u001b[49m\u001b[43m)\u001b[49m\n",
      "File \u001b[1;32mc:\\Users\\ASUS\\AppData\\Local\\Programs\\Python\\Python313\\Lib\\site-packages\\pandas\\core\\internals\\managers.py:363\u001b[0m, in \u001b[0;36mBaseBlockManager.apply\u001b[1;34m(self, f, align_keys, **kwargs)\u001b[0m\n\u001b[0;32m    361\u001b[0m         applied \u001b[38;5;241m=\u001b[39m b\u001b[38;5;241m.\u001b[39mapply(f, \u001b[38;5;241m*\u001b[39m\u001b[38;5;241m*\u001b[39mkwargs)\n\u001b[0;32m    362\u001b[0m     \u001b[38;5;28;01melse\u001b[39;00m:\n\u001b[1;32m--> 363\u001b[0m         applied \u001b[38;5;241m=\u001b[39m \u001b[38;5;28;43mgetattr\u001b[39;49m\u001b[43m(\u001b[49m\u001b[43mb\u001b[49m\u001b[43m,\u001b[49m\u001b[43m \u001b[49m\u001b[43mf\u001b[49m\u001b[43m)\u001b[49m\u001b[43m(\u001b[49m\u001b[38;5;241;43m*\u001b[39;49m\u001b[38;5;241;43m*\u001b[39;49m\u001b[43mkwargs\u001b[49m\u001b[43m)\u001b[49m\n\u001b[0;32m    364\u001b[0m     result_blocks \u001b[38;5;241m=\u001b[39m extend_blocks(applied, result_blocks)\n\u001b[0;32m    366\u001b[0m out \u001b[38;5;241m=\u001b[39m \u001b[38;5;28mtype\u001b[39m(\u001b[38;5;28mself\u001b[39m)\u001b[38;5;241m.\u001b[39mfrom_blocks(result_blocks, \u001b[38;5;28mself\u001b[39m\u001b[38;5;241m.\u001b[39maxes)\n",
      "File \u001b[1;32mc:\\Users\\ASUS\\AppData\\Local\\Programs\\Python\\Python313\\Lib\\site-packages\\pandas\\core\\internals\\blocks.py:758\u001b[0m, in \u001b[0;36mBlock.astype\u001b[1;34m(self, dtype, copy, errors, using_cow, squeeze)\u001b[0m\n\u001b[0;32m    755\u001b[0m         \u001b[38;5;28;01mraise\u001b[39;00m \u001b[38;5;167;01mValueError\u001b[39;00m(\u001b[38;5;124m\"\u001b[39m\u001b[38;5;124mCan not squeeze with more than one column.\u001b[39m\u001b[38;5;124m\"\u001b[39m)\n\u001b[0;32m    756\u001b[0m     values \u001b[38;5;241m=\u001b[39m values[\u001b[38;5;241m0\u001b[39m, :]  \u001b[38;5;66;03m# type: ignore[call-overload]\u001b[39;00m\n\u001b[1;32m--> 758\u001b[0m new_values \u001b[38;5;241m=\u001b[39m \u001b[43mastype_array_safe\u001b[49m\u001b[43m(\u001b[49m\u001b[43mvalues\u001b[49m\u001b[43m,\u001b[49m\u001b[43m \u001b[49m\u001b[43mdtype\u001b[49m\u001b[43m,\u001b[49m\u001b[43m \u001b[49m\u001b[43mcopy\u001b[49m\u001b[38;5;241;43m=\u001b[39;49m\u001b[43mcopy\u001b[49m\u001b[43m,\u001b[49m\u001b[43m \u001b[49m\u001b[43merrors\u001b[49m\u001b[38;5;241;43m=\u001b[39;49m\u001b[43merrors\u001b[49m\u001b[43m)\u001b[49m\n\u001b[0;32m    760\u001b[0m new_values \u001b[38;5;241m=\u001b[39m maybe_coerce_values(new_values)\n\u001b[0;32m    762\u001b[0m refs \u001b[38;5;241m=\u001b[39m \u001b[38;5;28;01mNone\u001b[39;00m\n",
      "File \u001b[1;32mc:\\Users\\ASUS\\AppData\\Local\\Programs\\Python\\Python313\\Lib\\site-packages\\pandas\\core\\dtypes\\astype.py:237\u001b[0m, in \u001b[0;36mastype_array_safe\u001b[1;34m(values, dtype, copy, errors)\u001b[0m\n\u001b[0;32m    234\u001b[0m     dtype \u001b[38;5;241m=\u001b[39m dtype\u001b[38;5;241m.\u001b[39mnumpy_dtype\n\u001b[0;32m    236\u001b[0m \u001b[38;5;28;01mtry\u001b[39;00m:\n\u001b[1;32m--> 237\u001b[0m     new_values \u001b[38;5;241m=\u001b[39m \u001b[43mastype_array\u001b[49m\u001b[43m(\u001b[49m\u001b[43mvalues\u001b[49m\u001b[43m,\u001b[49m\u001b[43m \u001b[49m\u001b[43mdtype\u001b[49m\u001b[43m,\u001b[49m\u001b[43m \u001b[49m\u001b[43mcopy\u001b[49m\u001b[38;5;241;43m=\u001b[39;49m\u001b[43mcopy\u001b[49m\u001b[43m)\u001b[49m\n\u001b[0;32m    238\u001b[0m \u001b[38;5;28;01mexcept\u001b[39;00m (\u001b[38;5;167;01mValueError\u001b[39;00m, \u001b[38;5;167;01mTypeError\u001b[39;00m):\n\u001b[0;32m    239\u001b[0m     \u001b[38;5;66;03m# e.g. _astype_nansafe can fail on object-dtype of strings\u001b[39;00m\n\u001b[0;32m    240\u001b[0m     \u001b[38;5;66;03m#  trying to convert to float\u001b[39;00m\n\u001b[0;32m    241\u001b[0m     \u001b[38;5;28;01mif\u001b[39;00m errors \u001b[38;5;241m==\u001b[39m \u001b[38;5;124m\"\u001b[39m\u001b[38;5;124mignore\u001b[39m\u001b[38;5;124m\"\u001b[39m:\n",
      "File \u001b[1;32mc:\\Users\\ASUS\\AppData\\Local\\Programs\\Python\\Python313\\Lib\\site-packages\\pandas\\core\\dtypes\\astype.py:179\u001b[0m, in \u001b[0;36mastype_array\u001b[1;34m(values, dtype, copy)\u001b[0m\n\u001b[0;32m    175\u001b[0m     \u001b[38;5;28;01mreturn\u001b[39;00m values\n\u001b[0;32m    177\u001b[0m \u001b[38;5;28;01mif\u001b[39;00m \u001b[38;5;129;01mnot\u001b[39;00m \u001b[38;5;28misinstance\u001b[39m(values, np\u001b[38;5;241m.\u001b[39mndarray):\n\u001b[0;32m    178\u001b[0m     \u001b[38;5;66;03m# i.e. ExtensionArray\u001b[39;00m\n\u001b[1;32m--> 179\u001b[0m     values \u001b[38;5;241m=\u001b[39m \u001b[43mvalues\u001b[49m\u001b[38;5;241;43m.\u001b[39;49m\u001b[43mastype\u001b[49m\u001b[43m(\u001b[49m\u001b[43mdtype\u001b[49m\u001b[43m,\u001b[49m\u001b[43m \u001b[49m\u001b[43mcopy\u001b[49m\u001b[38;5;241;43m=\u001b[39;49m\u001b[43mcopy\u001b[49m\u001b[43m)\u001b[49m\n\u001b[0;32m    181\u001b[0m \u001b[38;5;28;01melse\u001b[39;00m:\n\u001b[0;32m    182\u001b[0m     values \u001b[38;5;241m=\u001b[39m _astype_nansafe(values, dtype, copy\u001b[38;5;241m=\u001b[39mcopy)\n",
      "File \u001b[1;32mc:\\Users\\ASUS\\AppData\\Local\\Programs\\Python\\Python313\\Lib\\site-packages\\pandas\\core\\arrays\\string_.py:511\u001b[0m, in \u001b[0;36mStringArray.astype\u001b[1;34m(self, dtype, copy)\u001b[0m\n\u001b[0;32m    509\u001b[0m mask \u001b[38;5;241m=\u001b[39m \u001b[38;5;28mself\u001b[39m\u001b[38;5;241m.\u001b[39misna()\n\u001b[0;32m    510\u001b[0m arr[mask] \u001b[38;5;241m=\u001b[39m \u001b[38;5;241m0\u001b[39m\n\u001b[1;32m--> 511\u001b[0m values \u001b[38;5;241m=\u001b[39m \u001b[43marr\u001b[49m\u001b[38;5;241;43m.\u001b[39;49m\u001b[43mastype\u001b[49m\u001b[43m(\u001b[49m\u001b[43mdtype\u001b[49m\u001b[43m)\u001b[49m\n\u001b[0;32m    512\u001b[0m values[mask] \u001b[38;5;241m=\u001b[39m np\u001b[38;5;241m.\u001b[39mnan\n\u001b[0;32m    513\u001b[0m \u001b[38;5;28;01mreturn\u001b[39;00m values\n",
      "\u001b[1;31mValueError\u001b[0m: could not convert string to float: '€101348.88'"
     ]
    }
   ],
   "source": [
    "bank_account_df['estimatedsalary'].astype(float)"
   ]
  },
  {
   "cell_type": "code",
   "execution_count": 54,
   "id": "21289dcb",
   "metadata": {},
   "outputs": [],
   "source": [
    "bank_account_df[['estimatedsalary','balance']] = bank_account_df[['estimatedsalary','balance']].replace(r'[€,]','',regex=True)"
   ]
  },
  {
   "cell_type": "code",
   "execution_count": 56,
   "id": "cbfb92e3",
   "metadata": {},
   "outputs": [],
   "source": [
    "bank_account_df[['estimatedsalary','balance']] = bank_account_df[['estimatedsalary','balance']].astype(float)"
   ]
  },
  {
   "cell_type": "code",
   "execution_count": 57,
   "id": "a98ab0e3",
   "metadata": {},
   "outputs": [
    {
     "data": {
      "text/plain": [
       "customerid         string[python]\n",
       "balance                   float64\n",
       "numofproducts               int64\n",
       "hascrcard                  object\n",
       "tenure                      int64\n",
       "isactivemember             object\n",
       "exited                      int64\n",
       "surname                    object\n",
       "creditscore                 int64\n",
       "geography                  object\n",
       "gender                     object\n",
       "age                       float64\n",
       "estimatedsalary           float64\n",
       "dtype: object"
      ]
     },
     "execution_count": 57,
     "metadata": {},
     "output_type": "execute_result"
    }
   ],
   "source": [
    "bank_account_df.dtypes"
   ]
  },
  {
   "cell_type": "code",
   "execution_count": 58,
   "id": "e11bf027",
   "metadata": {},
   "outputs": [
    {
     "data": {
      "text/plain": [
       "array(['Yes', 'No'], dtype=object)"
      ]
     },
     "execution_count": 58,
     "metadata": {},
     "output_type": "execute_result"
    }
   ],
   "source": [
    "bank_account_df['hascrcard'].unique()"
   ]
  },
  {
   "cell_type": "code",
   "execution_count": 59,
   "id": "2e0559e9",
   "metadata": {},
   "outputs": [
    {
     "data": {
      "text/plain": [
       "array(['Yes', 'No'], dtype=object)"
      ]
     },
     "execution_count": 59,
     "metadata": {},
     "output_type": "execute_result"
    }
   ],
   "source": [
    "bank_account_df['isactivemember'].unique()"
   ]
  },
  {
   "cell_type": "code",
   "execution_count": 61,
   "id": "6a4e2e4f",
   "metadata": {},
   "outputs": [],
   "source": [
    "bank_account_df[['hascrcard','isactivemember']] = bank_account_df[['hascrcard','isactivemember']].astype('string').replace({'Yes':1,'No':0})"
   ]
  },
  {
   "cell_type": "code",
   "execution_count": 62,
   "id": "c64623e3",
   "metadata": {},
   "outputs": [],
   "source": [
    "bank_account_df[['hascrcard','isactivemember']] = bank_account_df[['hascrcard','isactivemember']].astype('int')"
   ]
  },
  {
   "cell_type": "code",
   "execution_count": 65,
   "id": "004dfae5",
   "metadata": {},
   "outputs": [],
   "source": [
    "bank_account_df[['geography','gender']] = bank_account_df[['geography','gender']].astype('string')"
   ]
  },
  {
   "cell_type": "code",
   "execution_count": 66,
   "id": "a7bf05ea",
   "metadata": {},
   "outputs": [],
   "source": [
    "bank_account_df['geography'] = bank_account_df['geography'].str.lower().str.strip()"
   ]
  },
  {
   "cell_type": "code",
   "execution_count": 67,
   "id": "415953c6",
   "metadata": {},
   "outputs": [],
   "source": [
    "bank_account_df['gender'] = bank_account_df['gender'].str.lower().str.strip()"
   ]
  },
  {
   "cell_type": "code",
   "execution_count": 70,
   "id": "5eb630b6",
   "metadata": {},
   "outputs": [
    {
     "data": {
      "text/plain": [
       "customerid         1\n",
       "balance            1\n",
       "numofproducts      1\n",
       "hascrcard          1\n",
       "tenure             1\n",
       "isactivemember     1\n",
       "exited             1\n",
       "surname            2\n",
       "creditscore        1\n",
       "geography          1\n",
       "gender             1\n",
       "age                1\n",
       "estimatedsalary    1\n",
       "dtype: int64"
      ]
     },
     "execution_count": 70,
     "metadata": {},
     "output_type": "execute_result"
    }
   ],
   "source": [
    "bank_account_df.map(type).nunique()"
   ]
  },
  {
   "cell_type": "code",
   "execution_count": 71,
   "id": "5feadbe1",
   "metadata": {},
   "outputs": [
    {
     "data": {
      "text/plain": [
       "customerid         0\n",
       "balance            0\n",
       "numofproducts      0\n",
       "hascrcard          0\n",
       "tenure             0\n",
       "isactivemember     0\n",
       "exited             0\n",
       "surname            3\n",
       "creditscore        0\n",
       "geography          0\n",
       "gender             0\n",
       "age                3\n",
       "estimatedsalary    0\n",
       "dtype: int64"
      ]
     },
     "execution_count": 71,
     "metadata": {},
     "output_type": "execute_result"
    }
   ],
   "source": [
    "bank_account_df.isnull().sum()"
   ]
  },
  {
   "cell_type": "code",
   "execution_count": 72,
   "id": "db8a1f9b",
   "metadata": {},
   "outputs": [
    {
     "data": {
      "text/html": [
       "<div>\n",
       "<style scoped>\n",
       "    .dataframe tbody tr th:only-of-type {\n",
       "        vertical-align: middle;\n",
       "    }\n",
       "\n",
       "    .dataframe tbody tr th {\n",
       "        vertical-align: top;\n",
       "    }\n",
       "\n",
       "    .dataframe thead th {\n",
       "        text-align: right;\n",
       "    }\n",
       "</style>\n",
       "<table border=\"1\" class=\"dataframe\">\n",
       "  <thead>\n",
       "    <tr style=\"text-align: right;\">\n",
       "      <th></th>\n",
       "      <th>customerid</th>\n",
       "      <th>balance</th>\n",
       "      <th>numofproducts</th>\n",
       "      <th>hascrcard</th>\n",
       "      <th>tenure</th>\n",
       "      <th>isactivemember</th>\n",
       "      <th>exited</th>\n",
       "      <th>surname</th>\n",
       "      <th>creditscore</th>\n",
       "      <th>geography</th>\n",
       "      <th>gender</th>\n",
       "      <th>age</th>\n",
       "      <th>estimatedsalary</th>\n",
       "    </tr>\n",
       "  </thead>\n",
       "  <tbody>\n",
       "    <tr>\n",
       "      <th>29</th>\n",
       "      <td>15728693</td>\n",
       "      <td>141349.43</td>\n",
       "      <td>1</td>\n",
       "      <td>1</td>\n",
       "      <td>3</td>\n",
       "      <td>1</td>\n",
       "      <td>0</td>\n",
       "      <td>NaN</td>\n",
       "      <td>574</td>\n",
       "      <td>germany</td>\n",
       "      <td>female</td>\n",
       "      <td>NaN</td>\n",
       "      <td>-999999.0</td>\n",
       "    </tr>\n",
       "    <tr>\n",
       "      <th>122</th>\n",
       "      <td>15580203</td>\n",
       "      <td>120193.42</td>\n",
       "      <td>1</td>\n",
       "      <td>0</td>\n",
       "      <td>6</td>\n",
       "      <td>0</td>\n",
       "      <td>0</td>\n",
       "      <td>NaN</td>\n",
       "      <td>674</td>\n",
       "      <td>spain</td>\n",
       "      <td>male</td>\n",
       "      <td>NaN</td>\n",
       "      <td>-999999.0</td>\n",
       "    </tr>\n",
       "    <tr>\n",
       "      <th>9390</th>\n",
       "      <td>15756954</td>\n",
       "      <td>0.00</td>\n",
       "      <td>1</td>\n",
       "      <td>1</td>\n",
       "      <td>2</td>\n",
       "      <td>1</td>\n",
       "      <td>0</td>\n",
       "      <td>NaN</td>\n",
       "      <td>538</td>\n",
       "      <td>france</td>\n",
       "      <td>female</td>\n",
       "      <td>NaN</td>\n",
       "      <td>-999999.0</td>\n",
       "    </tr>\n",
       "  </tbody>\n",
       "</table>\n",
       "</div>"
      ],
      "text/plain": [
       "     customerid    balance  numofproducts  hascrcard  tenure  isactivemember  \\\n",
       "29     15728693  141349.43              1          1       3               1   \n",
       "122    15580203  120193.42              1          0       6               0   \n",
       "9390   15756954       0.00              1          1       2               1   \n",
       "\n",
       "      exited surname  creditscore geography  gender  age  estimatedsalary  \n",
       "29         0     NaN          574   germany  female  NaN        -999999.0  \n",
       "122        0     NaN          674     spain    male  NaN        -999999.0  \n",
       "9390       0     NaN          538    france  female  NaN        -999999.0  "
      ]
     },
     "execution_count": 72,
     "metadata": {},
     "output_type": "execute_result"
    }
   ],
   "source": [
    "bank_account_df[bank_account_df['age'].isnull()]"
   ]
  },
  {
   "cell_type": "code",
   "execution_count": 83,
   "id": "4b515095",
   "metadata": {},
   "outputs": [],
   "source": [
    "bank_account_df = bank_account_df.dropna(subset=['balance','age','estimatedsalary','creditscore'])"
   ]
  },
  {
   "cell_type": "code",
   "execution_count": 86,
   "id": "6b7c1159",
   "metadata": {},
   "outputs": [
    {
     "name": "stderr",
     "output_type": "stream",
     "text": [
      "C:\\Users\\ASUS\\AppData\\Local\\Temp\\ipykernel_11052\\4088335478.py:1: SettingWithCopyWarning: \n",
      "A value is trying to be set on a copy of a slice from a DataFrame.\n",
      "Try using .loc[row_indexer,col_indexer] = value instead\n",
      "\n",
      "See the caveats in the documentation: https://pandas.pydata.org/pandas-docs/stable/user_guide/indexing.html#returning-a-view-versus-a-copy\n",
      "  bank_account_df['age'] = bank_account_df['age'].astype(int)\n"
     ]
    }
   ],
   "source": [
    "bank_account_df['age'] = bank_account_df['age'].astype(int)"
   ]
  },
  {
   "cell_type": "code",
   "execution_count": 87,
   "id": "60d8a7c5",
   "metadata": {},
   "outputs": [
    {
     "data": {
      "text/plain": [
       "customerid         string[python]\n",
       "balance                   float64\n",
       "numofproducts               int64\n",
       "hascrcard                   int64\n",
       "tenure                      int64\n",
       "isactivemember              int64\n",
       "exited                      int64\n",
       "surname                    object\n",
       "creditscore                 int64\n",
       "geography          string[python]\n",
       "gender             string[python]\n",
       "age                         int64\n",
       "estimatedsalary           float64\n",
       "dtype: object"
      ]
     },
     "execution_count": 87,
     "metadata": {},
     "output_type": "execute_result"
    }
   ],
   "source": [
    "bank_account_df.dtypes"
   ]
  },
  {
   "cell_type": "code",
   "execution_count": 90,
   "id": "5eb40735",
   "metadata": {},
   "outputs": [],
   "source": [
    "bank_account_df = bank_account_df.drop(columns=['customerid','surname'])"
   ]
  },
  {
   "cell_type": "code",
   "execution_count": 92,
   "id": "40ab1579",
   "metadata": {},
   "outputs": [
    {
     "data": {
      "text/plain": [
       "balance            1\n",
       "numofproducts      1\n",
       "hascrcard          1\n",
       "tenure             1\n",
       "isactivemember     1\n",
       "exited             1\n",
       "creditscore        1\n",
       "geography          1\n",
       "gender             1\n",
       "age                1\n",
       "estimatedsalary    1\n",
       "dtype: int64"
      ]
     },
     "execution_count": 92,
     "metadata": {},
     "output_type": "execute_result"
    }
   ],
   "source": [
    "bank_account_df.map(type).nunique()"
   ]
  },
  {
   "cell_type": "markdown",
   "id": "ea0f7184",
   "metadata": {},
   "source": [
    "## **Standardize categorical data**"
   ]
  },
  {
   "cell_type": "code",
   "execution_count": 93,
   "id": "bf80fec8",
   "metadata": {},
   "outputs": [
    {
     "data": {
      "text/plain": [
       "<StringArray>\n",
       "['fra', 'spain', 'french', 'france', 'germany']\n",
       "Length: 5, dtype: string"
      ]
     },
     "execution_count": 93,
     "metadata": {},
     "output_type": "execute_result"
    }
   ],
   "source": [
    "bank_account_df['geography'].unique()"
   ]
  },
  {
   "cell_type": "code",
   "execution_count": 96,
   "id": "665072d4",
   "metadata": {},
   "outputs": [],
   "source": [
    "bank_account_df['geography'] = bank_account_df['geography'].replace(['fra','french'],'france')"
   ]
  },
  {
   "cell_type": "code",
   "execution_count": 97,
   "id": "96c0b2a3",
   "metadata": {},
   "outputs": [
    {
     "data": {
      "text/plain": [
       "<StringArray>\n",
       "['france', 'spain', 'germany']\n",
       "Length: 3, dtype: string"
      ]
     },
     "execution_count": 97,
     "metadata": {},
     "output_type": "execute_result"
    }
   ],
   "source": [
    "bank_account_df['geography'].unique()"
   ]
  },
  {
   "cell_type": "code",
   "execution_count": 98,
   "id": "11927226",
   "metadata": {},
   "outputs": [
    {
     "data": {
      "text/plain": [
       "<StringArray>\n",
       "['female', 'male']\n",
       "Length: 2, dtype: string"
      ]
     },
     "execution_count": 98,
     "metadata": {},
     "output_type": "execute_result"
    }
   ],
   "source": [
    "bank_account_df['gender'].unique()"
   ]
  },
  {
   "cell_type": "code",
   "execution_count": 99,
   "id": "bceb1522",
   "metadata": {},
   "outputs": [
    {
     "data": {
      "text/html": [
       "<div>\n",
       "<style scoped>\n",
       "    .dataframe tbody tr th:only-of-type {\n",
       "        vertical-align: middle;\n",
       "    }\n",
       "\n",
       "    .dataframe tbody tr th {\n",
       "        vertical-align: top;\n",
       "    }\n",
       "\n",
       "    .dataframe thead th {\n",
       "        text-align: right;\n",
       "    }\n",
       "</style>\n",
       "<table border=\"1\" class=\"dataframe\">\n",
       "  <thead>\n",
       "    <tr style=\"text-align: right;\">\n",
       "      <th></th>\n",
       "      <th>balance</th>\n",
       "      <th>numofproducts</th>\n",
       "      <th>hascrcard</th>\n",
       "      <th>tenure</th>\n",
       "      <th>isactivemember</th>\n",
       "      <th>exited</th>\n",
       "      <th>creditscore</th>\n",
       "      <th>age</th>\n",
       "      <th>estimatedsalary</th>\n",
       "    </tr>\n",
       "  </thead>\n",
       "  <tbody>\n",
       "    <tr>\n",
       "      <th>count</th>\n",
       "      <td>9997.000000</td>\n",
       "      <td>9997.000000</td>\n",
       "      <td>9997.000000</td>\n",
       "      <td>9997.000000</td>\n",
       "      <td>9997.000000</td>\n",
       "      <td>9997.000000</td>\n",
       "      <td>9997.000000</td>\n",
       "      <td>9997.000000</td>\n",
       "      <td>9997.000000</td>\n",
       "    </tr>\n",
       "    <tr>\n",
       "      <th>mean</th>\n",
       "      <td>76482.679807</td>\n",
       "      <td>1.530359</td>\n",
       "      <td>0.515055</td>\n",
       "      <td>5.013204</td>\n",
       "      <td>0.515055</td>\n",
       "      <td>0.203761</td>\n",
       "      <td>650.545364</td>\n",
       "      <td>38.922077</td>\n",
       "      <td>100092.222656</td>\n",
       "    </tr>\n",
       "    <tr>\n",
       "      <th>std</th>\n",
       "      <td>62397.174721</td>\n",
       "      <td>0.581669</td>\n",
       "      <td>0.499798</td>\n",
       "      <td>2.892364</td>\n",
       "      <td>0.499798</td>\n",
       "      <td>0.402814</td>\n",
       "      <td>96.657932</td>\n",
       "      <td>10.489072</td>\n",
       "      <td>57518.775702</td>\n",
       "    </tr>\n",
       "    <tr>\n",
       "      <th>min</th>\n",
       "      <td>0.000000</td>\n",
       "      <td>1.000000</td>\n",
       "      <td>0.000000</td>\n",
       "      <td>0.000000</td>\n",
       "      <td>0.000000</td>\n",
       "      <td>0.000000</td>\n",
       "      <td>350.000000</td>\n",
       "      <td>18.000000</td>\n",
       "      <td>11.580000</td>\n",
       "    </tr>\n",
       "    <tr>\n",
       "      <th>25%</th>\n",
       "      <td>0.000000</td>\n",
       "      <td>1.000000</td>\n",
       "      <td>0.000000</td>\n",
       "      <td>3.000000</td>\n",
       "      <td>0.000000</td>\n",
       "      <td>0.000000</td>\n",
       "      <td>584.000000</td>\n",
       "      <td>32.000000</td>\n",
       "      <td>50974.570000</td>\n",
       "    </tr>\n",
       "    <tr>\n",
       "      <th>50%</th>\n",
       "      <td>97188.620000</td>\n",
       "      <td>1.000000</td>\n",
       "      <td>1.000000</td>\n",
       "      <td>5.000000</td>\n",
       "      <td>1.000000</td>\n",
       "      <td>0.000000</td>\n",
       "      <td>652.000000</td>\n",
       "      <td>37.000000</td>\n",
       "      <td>100236.020000</td>\n",
       "    </tr>\n",
       "    <tr>\n",
       "      <th>75%</th>\n",
       "      <td>127642.440000</td>\n",
       "      <td>2.000000</td>\n",
       "      <td>1.000000</td>\n",
       "      <td>7.000000</td>\n",
       "      <td>1.000000</td>\n",
       "      <td>0.000000</td>\n",
       "      <td>718.000000</td>\n",
       "      <td>44.000000</td>\n",
       "      <td>149399.700000</td>\n",
       "    </tr>\n",
       "    <tr>\n",
       "      <th>max</th>\n",
       "      <td>250898.090000</td>\n",
       "      <td>4.000000</td>\n",
       "      <td>1.000000</td>\n",
       "      <td>10.000000</td>\n",
       "      <td>1.000000</td>\n",
       "      <td>1.000000</td>\n",
       "      <td>850.000000</td>\n",
       "      <td>92.000000</td>\n",
       "      <td>199992.480000</td>\n",
       "    </tr>\n",
       "  </tbody>\n",
       "</table>\n",
       "</div>"
      ],
      "text/plain": [
       "             balance  numofproducts    hascrcard       tenure  isactivemember  \\\n",
       "count    9997.000000    9997.000000  9997.000000  9997.000000     9997.000000   \n",
       "mean    76482.679807       1.530359     0.515055     5.013204        0.515055   \n",
       "std     62397.174721       0.581669     0.499798     2.892364        0.499798   \n",
       "min         0.000000       1.000000     0.000000     0.000000        0.000000   \n",
       "25%         0.000000       1.000000     0.000000     3.000000        0.000000   \n",
       "50%     97188.620000       1.000000     1.000000     5.000000        1.000000   \n",
       "75%    127642.440000       2.000000     1.000000     7.000000        1.000000   \n",
       "max    250898.090000       4.000000     1.000000    10.000000        1.000000   \n",
       "\n",
       "            exited  creditscore          age  estimatedsalary  \n",
       "count  9997.000000  9997.000000  9997.000000      9997.000000  \n",
       "mean      0.203761   650.545364    38.922077    100092.222656  \n",
       "std       0.402814    96.657932    10.489072     57518.775702  \n",
       "min       0.000000   350.000000    18.000000        11.580000  \n",
       "25%       0.000000   584.000000    32.000000     50974.570000  \n",
       "50%       0.000000   652.000000    37.000000    100236.020000  \n",
       "75%       0.000000   718.000000    44.000000    149399.700000  \n",
       "max       1.000000   850.000000    92.000000    199992.480000  "
      ]
     },
     "execution_count": 99,
     "metadata": {},
     "output_type": "execute_result"
    }
   ],
   "source": [
    "bank_account_df.describe()"
   ]
  },
  {
   "cell_type": "code",
   "execution_count": null,
   "id": "7b87af26",
   "metadata": {},
   "outputs": [],
   "source": []
  }
 ],
 "metadata": {
  "kernelspec": {
   "display_name": "Python 3",
   "language": "python",
   "name": "python3"
  },
  "language_info": {
   "codemirror_mode": {
    "name": "ipython",
    "version": 3
   },
   "file_extension": ".py",
   "mimetype": "text/x-python",
   "name": "python",
   "nbconvert_exporter": "python",
   "pygments_lexer": "ipython3",
   "version": "3.13.0"
  }
 },
 "nbformat": 4,
 "nbformat_minor": 5
}
