{
 "cells": [
  {
   "cell_type": "code",
   "execution_count": 848,
   "id": "2a477af9",
   "metadata": {},
   "outputs": [],
   "source": [
    "import pandas as pd #for data cleaning\n",
    "import numpy as np #for numerical data handling\n",
    "import matplotlib.pyplot as plt #for visualization\n",
    "import seaborn as sns #for advanced visualization\n",
    "from scipy import stats #statistical tests"
   ]
  },
  {
   "cell_type": "markdown",
   "id": "26c2a881",
   "metadata": {},
   "source": [
    "# **Data Cleaning**\n",
    "\n",
    "## **Extract data from customer sheet in messy excel**\n"
   ]
  },
  {
   "cell_type": "code",
   "execution_count": 849,
   "id": "a7f2fa58",
   "metadata": {},
   "outputs": [],
   "source": [
    "file_path = 'Bank_Churn_Messy.xlsx'"
   ]
  },
  {
   "cell_type": "code",
   "execution_count": 850,
   "id": "958d72d7",
   "metadata": {},
   "outputs": [],
   "source": [
    "customer_df = pd.read_excel(file_path,sheet_name=0)\n",
    "customer_df = pd.DataFrame(customer_df)"
   ]
  },
  {
   "cell_type": "code",
   "execution_count": 851,
   "id": "3fc77890",
   "metadata": {},
   "outputs": [
    {
     "data": {
      "text/html": [
       "<div>\n",
       "<style scoped>\n",
       "    .dataframe tbody tr th:only-of-type {\n",
       "        vertical-align: middle;\n",
       "    }\n",
       "\n",
       "    .dataframe tbody tr th {\n",
       "        vertical-align: top;\n",
       "    }\n",
       "\n",
       "    .dataframe thead th {\n",
       "        text-align: right;\n",
       "    }\n",
       "</style>\n",
       "<table border=\"1\" class=\"dataframe\">\n",
       "  <thead>\n",
       "    <tr style=\"text-align: right;\">\n",
       "      <th></th>\n",
       "      <th>CustomerId</th>\n",
       "      <th>Surname</th>\n",
       "      <th>CreditScore</th>\n",
       "      <th>Geography</th>\n",
       "      <th>Gender</th>\n",
       "      <th>Age</th>\n",
       "      <th>Tenure</th>\n",
       "      <th>EstimatedSalary</th>\n",
       "    </tr>\n",
       "  </thead>\n",
       "  <tbody>\n",
       "    <tr>\n",
       "      <th>0</th>\n",
       "      <td>15634602</td>\n",
       "      <td>Hargrave</td>\n",
       "      <td>619</td>\n",
       "      <td>FRA</td>\n",
       "      <td>Female</td>\n",
       "      <td>42.0</td>\n",
       "      <td>2</td>\n",
       "      <td>€101348.88</td>\n",
       "    </tr>\n",
       "    <tr>\n",
       "      <th>1</th>\n",
       "      <td>15647311</td>\n",
       "      <td>Hill</td>\n",
       "      <td>608</td>\n",
       "      <td>Spain</td>\n",
       "      <td>Female</td>\n",
       "      <td>41.0</td>\n",
       "      <td>1</td>\n",
       "      <td>€112542.58</td>\n",
       "    </tr>\n",
       "    <tr>\n",
       "      <th>2</th>\n",
       "      <td>15619304</td>\n",
       "      <td>Onio</td>\n",
       "      <td>502</td>\n",
       "      <td>French</td>\n",
       "      <td>Female</td>\n",
       "      <td>42.0</td>\n",
       "      <td>8</td>\n",
       "      <td>€113931.57</td>\n",
       "    </tr>\n",
       "    <tr>\n",
       "      <th>3</th>\n",
       "      <td>15701354</td>\n",
       "      <td>Boni</td>\n",
       "      <td>699</td>\n",
       "      <td>FRA</td>\n",
       "      <td>Female</td>\n",
       "      <td>39.0</td>\n",
       "      <td>1</td>\n",
       "      <td>€93826.63</td>\n",
       "    </tr>\n",
       "    <tr>\n",
       "      <th>4</th>\n",
       "      <td>15737888</td>\n",
       "      <td>Mitchell</td>\n",
       "      <td>850</td>\n",
       "      <td>Spain</td>\n",
       "      <td>Female</td>\n",
       "      <td>43.0</td>\n",
       "      <td>2</td>\n",
       "      <td>€79084.1</td>\n",
       "    </tr>\n",
       "  </tbody>\n",
       "</table>\n",
       "</div>"
      ],
      "text/plain": [
       "   CustomerId   Surname  CreditScore Geography  Gender   Age  Tenure  \\\n",
       "0    15634602  Hargrave          619       FRA  Female  42.0       2   \n",
       "1    15647311      Hill          608     Spain  Female  41.0       1   \n",
       "2    15619304      Onio          502    French  Female  42.0       8   \n",
       "3    15701354      Boni          699       FRA  Female  39.0       1   \n",
       "4    15737888  Mitchell          850     Spain  Female  43.0       2   \n",
       "\n",
       "  EstimatedSalary  \n",
       "0      €101348.88  \n",
       "1      €112542.58  \n",
       "2      €113931.57  \n",
       "3       €93826.63  \n",
       "4        €79084.1  "
      ]
     },
     "execution_count": 851,
     "metadata": {},
     "output_type": "execute_result"
    }
   ],
   "source": [
    "customer_df.head()"
   ]
  },
  {
   "cell_type": "markdown",
   "id": "e74d0cf4",
   "metadata": {},
   "source": [
    "## **CustomerID Type Checking**"
   ]
  },
  {
   "cell_type": "code",
   "execution_count": 852,
   "id": "0730f1d7",
   "metadata": {},
   "outputs": [
    {
     "data": {
      "text/plain": [
       "dtype('int64')"
      ]
     },
     "execution_count": 852,
     "metadata": {},
     "output_type": "execute_result"
    }
   ],
   "source": [
    "customer_df['CustomerId'].dtype"
   ]
  },
  {
   "cell_type": "code",
   "execution_count": 853,
   "id": "13656649",
   "metadata": {},
   "outputs": [],
   "source": [
    "customer_df['CustomerId'] = customer_df['CustomerId'].astype('string')"
   ]
  },
  {
   "cell_type": "code",
   "execution_count": 854,
   "id": "80367f01",
   "metadata": {},
   "outputs": [
    {
     "data": {
      "text/plain": [
       "string[python]"
      ]
     },
     "execution_count": 854,
     "metadata": {},
     "output_type": "execute_result"
    }
   ],
   "source": [
    "customer_df['CustomerId'].dtype"
   ]
  },
  {
   "cell_type": "markdown",
   "id": "a215ebd4",
   "metadata": {},
   "source": [
    "## **Extract data from account info sheet in messy excel**"
   ]
  },
  {
   "cell_type": "code",
   "execution_count": 855,
   "id": "6aca1599",
   "metadata": {},
   "outputs": [],
   "source": [
    "account_df = pd.read_excel(file_path,sheet_name=1)\n",
    "account_df = pd.DataFrame(account_df)"
   ]
  },
  {
   "cell_type": "code",
   "execution_count": 856,
   "id": "0556df9a",
   "metadata": {},
   "outputs": [
    {
     "data": {
      "text/html": [
       "<div>\n",
       "<style scoped>\n",
       "    .dataframe tbody tr th:only-of-type {\n",
       "        vertical-align: middle;\n",
       "    }\n",
       "\n",
       "    .dataframe tbody tr th {\n",
       "        vertical-align: top;\n",
       "    }\n",
       "\n",
       "    .dataframe thead th {\n",
       "        text-align: right;\n",
       "    }\n",
       "</style>\n",
       "<table border=\"1\" class=\"dataframe\">\n",
       "  <thead>\n",
       "    <tr style=\"text-align: right;\">\n",
       "      <th></th>\n",
       "      <th>CustomerId</th>\n",
       "      <th>Balance</th>\n",
       "      <th>NumOfProducts</th>\n",
       "      <th>HasCrCard</th>\n",
       "      <th>Tenure</th>\n",
       "      <th>IsActiveMember</th>\n",
       "      <th>Exited</th>\n",
       "    </tr>\n",
       "  </thead>\n",
       "  <tbody>\n",
       "    <tr>\n",
       "      <th>0</th>\n",
       "      <td>15634602</td>\n",
       "      <td>€0.0</td>\n",
       "      <td>1</td>\n",
       "      <td>Yes</td>\n",
       "      <td>2</td>\n",
       "      <td>Yes</td>\n",
       "      <td>1</td>\n",
       "    </tr>\n",
       "    <tr>\n",
       "      <th>1</th>\n",
       "      <td>15634602</td>\n",
       "      <td>€0.0</td>\n",
       "      <td>1</td>\n",
       "      <td>Yes</td>\n",
       "      <td>2</td>\n",
       "      <td>Yes</td>\n",
       "      <td>1</td>\n",
       "    </tr>\n",
       "    <tr>\n",
       "      <th>2</th>\n",
       "      <td>15647311</td>\n",
       "      <td>€83807.86</td>\n",
       "      <td>1</td>\n",
       "      <td>Yes</td>\n",
       "      <td>1</td>\n",
       "      <td>Yes</td>\n",
       "      <td>0</td>\n",
       "    </tr>\n",
       "    <tr>\n",
       "      <th>3</th>\n",
       "      <td>15619304</td>\n",
       "      <td>€159660.8</td>\n",
       "      <td>3</td>\n",
       "      <td>No</td>\n",
       "      <td>8</td>\n",
       "      <td>No</td>\n",
       "      <td>1</td>\n",
       "    </tr>\n",
       "    <tr>\n",
       "      <th>4</th>\n",
       "      <td>15701354</td>\n",
       "      <td>€0.0</td>\n",
       "      <td>2</td>\n",
       "      <td>No</td>\n",
       "      <td>1</td>\n",
       "      <td>No</td>\n",
       "      <td>0</td>\n",
       "    </tr>\n",
       "  </tbody>\n",
       "</table>\n",
       "</div>"
      ],
      "text/plain": [
       "   CustomerId    Balance  NumOfProducts HasCrCard  Tenure IsActiveMember  \\\n",
       "0    15634602       €0.0              1       Yes       2            Yes   \n",
       "1    15634602       €0.0              1       Yes       2            Yes   \n",
       "2    15647311  €83807.86              1       Yes       1            Yes   \n",
       "3    15619304  €159660.8              3        No       8             No   \n",
       "4    15701354       €0.0              2        No       1             No   \n",
       "\n",
       "   Exited  \n",
       "0       1  \n",
       "1       1  \n",
       "2       0  \n",
       "3       1  \n",
       "4       0  "
      ]
     },
     "execution_count": 856,
     "metadata": {},
     "output_type": "execute_result"
    }
   ],
   "source": [
    "account_df.head()"
   ]
  },
  {
   "cell_type": "code",
   "execution_count": 857,
   "id": "b1879942",
   "metadata": {},
   "outputs": [
    {
     "data": {
      "text/plain": [
       "dtype('int64')"
      ]
     },
     "execution_count": 857,
     "metadata": {},
     "output_type": "execute_result"
    }
   ],
   "source": [
    "account_df['CustomerId'].dtype"
   ]
  },
  {
   "cell_type": "code",
   "execution_count": 858,
   "id": "f50e2d87",
   "metadata": {},
   "outputs": [],
   "source": [
    "account_df['CustomerId'] = account_df['CustomerId'].astype('string')"
   ]
  },
  {
   "cell_type": "code",
   "execution_count": 859,
   "id": "ebf97b25",
   "metadata": {},
   "outputs": [
    {
     "data": {
      "text/plain": [
       "string[python]"
      ]
     },
     "execution_count": 859,
     "metadata": {},
     "output_type": "execute_result"
    }
   ],
   "source": [
    "account_df['CustomerId'].dtype"
   ]
  },
  {
   "cell_type": "markdown",
   "id": "34d3fc8c",
   "metadata": {},
   "source": [
    "## **Merge Data from account and customer**"
   ]
  },
  {
   "cell_type": "code",
   "execution_count": 860,
   "id": "ae570516",
   "metadata": {},
   "outputs": [],
   "source": [
    "bank_account_df = account_df.merge(customer_df,on='CustomerId',how='left')"
   ]
  },
  {
   "cell_type": "code",
   "execution_count": 861,
   "id": "2591172d",
   "metadata": {},
   "outputs": [
    {
     "data": {
      "text/plain": [
       "np.int64(10002)"
      ]
     },
     "execution_count": 861,
     "metadata": {},
     "output_type": "execute_result"
    }
   ],
   "source": [
    "account_df['CustomerId'].count()"
   ]
  },
  {
   "cell_type": "code",
   "execution_count": 862,
   "id": "a09e520c",
   "metadata": {},
   "outputs": [
    {
     "data": {
      "text/plain": [
       "np.int64(10001)"
      ]
     },
     "execution_count": 862,
     "metadata": {},
     "output_type": "execute_result"
    }
   ],
   "source": [
    "customer_df['CustomerId'].count()"
   ]
  },
  {
   "cell_type": "code",
   "execution_count": 863,
   "id": "20da071e",
   "metadata": {},
   "outputs": [
    {
     "data": {
      "text/plain": [
       "np.int64(10004)"
      ]
     },
     "execution_count": 863,
     "metadata": {},
     "output_type": "execute_result"
    }
   ],
   "source": [
    "bank_account_df['CustomerId'].count()"
   ]
  },
  {
   "cell_type": "markdown",
   "id": "fd3300b5",
   "metadata": {},
   "source": [
    "## **Check Duplicate Rows**"
   ]
  },
  {
   "cell_type": "code",
   "execution_count": 864,
   "id": "154cdd52",
   "metadata": {},
   "outputs": [
    {
     "data": {
      "text/html": [
       "<div>\n",
       "<style scoped>\n",
       "    .dataframe tbody tr th:only-of-type {\n",
       "        vertical-align: middle;\n",
       "    }\n",
       "\n",
       "    .dataframe tbody tr th {\n",
       "        vertical-align: top;\n",
       "    }\n",
       "\n",
       "    .dataframe thead th {\n",
       "        text-align: right;\n",
       "    }\n",
       "</style>\n",
       "<table border=\"1\" class=\"dataframe\">\n",
       "  <thead>\n",
       "    <tr style=\"text-align: right;\">\n",
       "      <th></th>\n",
       "      <th>CustomerId</th>\n",
       "      <th>Balance</th>\n",
       "      <th>NumOfProducts</th>\n",
       "      <th>HasCrCard</th>\n",
       "      <th>Tenure_x</th>\n",
       "      <th>IsActiveMember</th>\n",
       "      <th>Exited</th>\n",
       "      <th>Surname</th>\n",
       "      <th>CreditScore</th>\n",
       "      <th>Geography</th>\n",
       "      <th>Gender</th>\n",
       "      <th>Age</th>\n",
       "      <th>Tenure_y</th>\n",
       "      <th>EstimatedSalary</th>\n",
       "    </tr>\n",
       "  </thead>\n",
       "  <tbody>\n",
       "    <tr>\n",
       "      <th>0</th>\n",
       "      <td>15634602</td>\n",
       "      <td>€0.0</td>\n",
       "      <td>1</td>\n",
       "      <td>Yes</td>\n",
       "      <td>2</td>\n",
       "      <td>Yes</td>\n",
       "      <td>1</td>\n",
       "      <td>Hargrave</td>\n",
       "      <td>619</td>\n",
       "      <td>FRA</td>\n",
       "      <td>Female</td>\n",
       "      <td>42.0</td>\n",
       "      <td>2</td>\n",
       "      <td>€101348.88</td>\n",
       "    </tr>\n",
       "    <tr>\n",
       "      <th>1</th>\n",
       "      <td>15634602</td>\n",
       "      <td>€0.0</td>\n",
       "      <td>1</td>\n",
       "      <td>Yes</td>\n",
       "      <td>2</td>\n",
       "      <td>Yes</td>\n",
       "      <td>1</td>\n",
       "      <td>Hargrave</td>\n",
       "      <td>619</td>\n",
       "      <td>FRA</td>\n",
       "      <td>Female</td>\n",
       "      <td>42.0</td>\n",
       "      <td>2</td>\n",
       "      <td>€101348.88</td>\n",
       "    </tr>\n",
       "    <tr>\n",
       "      <th>10000</th>\n",
       "      <td>15628319</td>\n",
       "      <td>€130142.79</td>\n",
       "      <td>1</td>\n",
       "      <td>No</td>\n",
       "      <td>4</td>\n",
       "      <td>No</td>\n",
       "      <td>0</td>\n",
       "      <td>Walker</td>\n",
       "      <td>792</td>\n",
       "      <td>French</td>\n",
       "      <td>Female</td>\n",
       "      <td>28.0</td>\n",
       "      <td>4</td>\n",
       "      <td>€38190.78</td>\n",
       "    </tr>\n",
       "    <tr>\n",
       "      <th>10001</th>\n",
       "      <td>15628319</td>\n",
       "      <td>€130142.79</td>\n",
       "      <td>1</td>\n",
       "      <td>No</td>\n",
       "      <td>4</td>\n",
       "      <td>No</td>\n",
       "      <td>0</td>\n",
       "      <td>Walker</td>\n",
       "      <td>792</td>\n",
       "      <td>French</td>\n",
       "      <td>Female</td>\n",
       "      <td>28.0</td>\n",
       "      <td>4</td>\n",
       "      <td>€38190.78</td>\n",
       "    </tr>\n",
       "    <tr>\n",
       "      <th>10002</th>\n",
       "      <td>15628319</td>\n",
       "      <td>€130142.79</td>\n",
       "      <td>1</td>\n",
       "      <td>No</td>\n",
       "      <td>4</td>\n",
       "      <td>No</td>\n",
       "      <td>0</td>\n",
       "      <td>Walker</td>\n",
       "      <td>792</td>\n",
       "      <td>French</td>\n",
       "      <td>Female</td>\n",
       "      <td>28.0</td>\n",
       "      <td>4</td>\n",
       "      <td>€38190.78</td>\n",
       "    </tr>\n",
       "    <tr>\n",
       "      <th>10003</th>\n",
       "      <td>15628319</td>\n",
       "      <td>€130142.79</td>\n",
       "      <td>1</td>\n",
       "      <td>No</td>\n",
       "      <td>4</td>\n",
       "      <td>No</td>\n",
       "      <td>0</td>\n",
       "      <td>Walker</td>\n",
       "      <td>792</td>\n",
       "      <td>French</td>\n",
       "      <td>Female</td>\n",
       "      <td>28.0</td>\n",
       "      <td>4</td>\n",
       "      <td>€38190.78</td>\n",
       "    </tr>\n",
       "  </tbody>\n",
       "</table>\n",
       "</div>"
      ],
      "text/plain": [
       "      CustomerId     Balance  NumOfProducts HasCrCard  Tenure_x  \\\n",
       "0       15634602        €0.0              1       Yes         2   \n",
       "1       15634602        €0.0              1       Yes         2   \n",
       "10000   15628319  €130142.79              1        No         4   \n",
       "10001   15628319  €130142.79              1        No         4   \n",
       "10002   15628319  €130142.79              1        No         4   \n",
       "10003   15628319  €130142.79              1        No         4   \n",
       "\n",
       "      IsActiveMember  Exited   Surname  CreditScore Geography  Gender   Age  \\\n",
       "0                Yes       1  Hargrave          619       FRA  Female  42.0   \n",
       "1                Yes       1  Hargrave          619       FRA  Female  42.0   \n",
       "10000             No       0    Walker          792    French  Female  28.0   \n",
       "10001             No       0    Walker          792    French  Female  28.0   \n",
       "10002             No       0    Walker          792    French  Female  28.0   \n",
       "10003             No       0    Walker          792    French  Female  28.0   \n",
       "\n",
       "       Tenure_y EstimatedSalary  \n",
       "0             2      €101348.88  \n",
       "1             2      €101348.88  \n",
       "10000         4       €38190.78  \n",
       "10001         4       €38190.78  \n",
       "10002         4       €38190.78  \n",
       "10003         4       €38190.78  "
      ]
     },
     "execution_count": 864,
     "metadata": {},
     "output_type": "execute_result"
    }
   ],
   "source": [
    "bank_account_df[bank_account_df.duplicated(keep=False)]"
   ]
  },
  {
   "cell_type": "code",
   "execution_count": 865,
   "id": "9efc6413",
   "metadata": {},
   "outputs": [],
   "source": [
    "bank_account_df = bank_account_df.drop_duplicates()"
   ]
  },
  {
   "cell_type": "code",
   "execution_count": 866,
   "id": "fe91d276",
   "metadata": {},
   "outputs": [
    {
     "data": {
      "text/html": [
       "<div>\n",
       "<style scoped>\n",
       "    .dataframe tbody tr th:only-of-type {\n",
       "        vertical-align: middle;\n",
       "    }\n",
       "\n",
       "    .dataframe tbody tr th {\n",
       "        vertical-align: top;\n",
       "    }\n",
       "\n",
       "    .dataframe thead th {\n",
       "        text-align: right;\n",
       "    }\n",
       "</style>\n",
       "<table border=\"1\" class=\"dataframe\">\n",
       "  <thead>\n",
       "    <tr style=\"text-align: right;\">\n",
       "      <th></th>\n",
       "      <th>CustomerId</th>\n",
       "      <th>Balance</th>\n",
       "      <th>NumOfProducts</th>\n",
       "      <th>HasCrCard</th>\n",
       "      <th>Tenure_x</th>\n",
       "      <th>IsActiveMember</th>\n",
       "      <th>Exited</th>\n",
       "      <th>Surname</th>\n",
       "      <th>CreditScore</th>\n",
       "      <th>Geography</th>\n",
       "      <th>Gender</th>\n",
       "      <th>Age</th>\n",
       "      <th>Tenure_y</th>\n",
       "      <th>EstimatedSalary</th>\n",
       "    </tr>\n",
       "  </thead>\n",
       "  <tbody>\n",
       "  </tbody>\n",
       "</table>\n",
       "</div>"
      ],
      "text/plain": [
       "Empty DataFrame\n",
       "Columns: [CustomerId, Balance, NumOfProducts, HasCrCard, Tenure_x, IsActiveMember, Exited, Surname, CreditScore, Geography, Gender, Age, Tenure_y, EstimatedSalary]\n",
       "Index: []"
      ]
     },
     "execution_count": 866,
     "metadata": {},
     "output_type": "execute_result"
    }
   ],
   "source": [
    "bank_account_df[bank_account_df.duplicated(keep=False)]"
   ]
  },
  {
   "cell_type": "code",
   "execution_count": 867,
   "id": "9f61a01a",
   "metadata": {},
   "outputs": [
    {
     "data": {
      "text/plain": [
       "np.int64(10000)"
      ]
     },
     "execution_count": 867,
     "metadata": {},
     "output_type": "execute_result"
    }
   ],
   "source": [
    "bank_account_df['CustomerId'].count()"
   ]
  },
  {
   "cell_type": "code",
   "execution_count": 868,
   "id": "2ef8d988",
   "metadata": {},
   "outputs": [],
   "source": [
    "bank_account_df.columns = bank_account_df.columns.str.strip().str.lower().str.replace(' ','_')"
   ]
  },
  {
   "cell_type": "code",
   "execution_count": 869,
   "id": "8a2a7243",
   "metadata": {},
   "outputs": [
    {
     "data": {
      "text/plain": [
       "Index(['customerid', 'balance', 'numofproducts', 'hascrcard', 'tenure_x',\n",
       "       'isactivemember', 'exited', 'surname', 'creditscore', 'geography',\n",
       "       'gender', 'age', 'tenure_y', 'estimatedsalary'],\n",
       "      dtype='object')"
      ]
     },
     "execution_count": 869,
     "metadata": {},
     "output_type": "execute_result"
    }
   ],
   "source": [
    "bank_account_df.columns"
   ]
  },
  {
   "cell_type": "markdown",
   "id": "6f2e2fb4",
   "metadata": {},
   "source": [
    "## **Check Duplicate Columns**"
   ]
  },
  {
   "cell_type": "code",
   "execution_count": 870,
   "id": "0dd85298",
   "metadata": {},
   "outputs": [
    {
     "data": {
      "text/plain": [
       "array([ True])"
      ]
     },
     "execution_count": 870,
     "metadata": {},
     "output_type": "execute_result"
    }
   ],
   "source": [
    "(bank_account_df['tenure_x'] == bank_account_df['tenure_y']).unique()"
   ]
  },
  {
   "cell_type": "code",
   "execution_count": 871,
   "id": "3b620871",
   "metadata": {},
   "outputs": [],
   "source": [
    "bank_account_df.drop(columns='tenure_y',inplace=True)"
   ]
  },
  {
   "cell_type": "code",
   "execution_count": 872,
   "id": "be756c0e",
   "metadata": {},
   "outputs": [
    {
     "data": {
      "text/plain": [
       "Index(['customerid', 'balance', 'numofproducts', 'hascrcard', 'tenure_x',\n",
       "       'isactivemember', 'exited', 'surname', 'creditscore', 'geography',\n",
       "       'gender', 'age', 'estimatedsalary'],\n",
       "      dtype='object')"
      ]
     },
     "execution_count": 872,
     "metadata": {},
     "output_type": "execute_result"
    }
   ],
   "source": [
    "bank_account_df.columns"
   ]
  },
  {
   "cell_type": "markdown",
   "id": "371b823d",
   "metadata": {},
   "source": [
    "## **Standardizing Column Name for preventing coding error**"
   ]
  },
  {
   "cell_type": "code",
   "execution_count": 873,
   "id": "e8a10143",
   "metadata": {},
   "outputs": [],
   "source": [
    "bank_account_df = bank_account_df.rename(columns={'tenure_x':'tenure'})"
   ]
  },
  {
   "cell_type": "code",
   "execution_count": 874,
   "id": "e46f47cf",
   "metadata": {},
   "outputs": [
    {
     "data": {
      "text/plain": [
       "Index(['customerid', 'balance', 'numofproducts', 'hascrcard', 'tenure',\n",
       "       'isactivemember', 'exited', 'surname', 'creditscore', 'geography',\n",
       "       'gender', 'age', 'estimatedsalary'],\n",
       "      dtype='object')"
      ]
     },
     "execution_count": 874,
     "metadata": {},
     "output_type": "execute_result"
    }
   ],
   "source": [
    "bank_account_df.columns"
   ]
  },
  {
   "cell_type": "markdown",
   "id": "484de321",
   "metadata": {},
   "source": [
    "## **Check DataType Mismatch & Fix**"
   ]
  },
  {
   "cell_type": "code",
   "execution_count": 875,
   "id": "e6397545",
   "metadata": {},
   "outputs": [
    {
     "data": {
      "text/plain": [
       "customerid         string[python]\n",
       "balance                    object\n",
       "numofproducts               int64\n",
       "hascrcard                  object\n",
       "tenure                      int64\n",
       "isactivemember             object\n",
       "exited                      int64\n",
       "surname                    object\n",
       "creditscore                 int64\n",
       "geography                  object\n",
       "gender                     object\n",
       "age                       float64\n",
       "estimatedsalary            object\n",
       "dtype: object"
      ]
     },
     "execution_count": 875,
     "metadata": {},
     "output_type": "execute_result"
    }
   ],
   "source": [
    "bank_account_df.dtypes"
   ]
  },
  {
   "cell_type": "code",
   "execution_count": 876,
   "id": "b1055bca",
   "metadata": {},
   "outputs": [
    {
     "data": {
      "text/plain": [
       "array(['Yes', 'No'], dtype=object)"
      ]
     },
     "execution_count": 876,
     "metadata": {},
     "output_type": "execute_result"
    }
   ],
   "source": [
    "bank_account_df['hascrcard'].unique()"
   ]
  },
  {
   "cell_type": "code",
   "execution_count": 877,
   "id": "ee73b3ac",
   "metadata": {},
   "outputs": [
    {
     "data": {
      "text/plain": [
       "0        €101348.88\n",
       "2        €112542.58\n",
       "3        €113931.57\n",
       "4         €93826.63\n",
       "5          €79084.1\n",
       "            ...    \n",
       "9996      €96270.64\n",
       "9997     €101699.77\n",
       "9998      €42085.58\n",
       "9999      €92888.52\n",
       "10000     €38190.78\n",
       "Name: estimatedsalary, Length: 10000, dtype: object"
      ]
     },
     "execution_count": 877,
     "metadata": {},
     "output_type": "execute_result"
    }
   ],
   "source": [
    "bank_account_df['estimatedsalary']"
   ]
  },
  {
   "cell_type": "code",
   "execution_count": 878,
   "id": "5ab82edc",
   "metadata": {},
   "outputs": [],
   "source": [
    "bank_account_df[['estimatedsalary','balance']] = bank_account_df[['estimatedsalary','balance']].astype('string')"
   ]
  },
  {
   "cell_type": "code",
   "execution_count": 879,
   "id": "681799b3",
   "metadata": {},
   "outputs": [],
   "source": [
    "# bank_account_df['estimatedsalary'].astype(float)"
   ]
  },
  {
   "cell_type": "code",
   "execution_count": 880,
   "id": "21289dcb",
   "metadata": {},
   "outputs": [],
   "source": [
    "bank_account_df[['estimatedsalary','balance']] = bank_account_df[['estimatedsalary','balance']].replace(r'[€,]','',regex=True)"
   ]
  },
  {
   "cell_type": "code",
   "execution_count": 881,
   "id": "cbfb92e3",
   "metadata": {},
   "outputs": [],
   "source": [
    "bank_account_df[['estimatedsalary','balance']] = bank_account_df[['estimatedsalary','balance']].astype(float)"
   ]
  },
  {
   "cell_type": "code",
   "execution_count": 882,
   "id": "a98ab0e3",
   "metadata": {},
   "outputs": [
    {
     "data": {
      "text/plain": [
       "customerid         string[python]\n",
       "balance                   float64\n",
       "numofproducts               int64\n",
       "hascrcard                  object\n",
       "tenure                      int64\n",
       "isactivemember             object\n",
       "exited                      int64\n",
       "surname                    object\n",
       "creditscore                 int64\n",
       "geography                  object\n",
       "gender                     object\n",
       "age                       float64\n",
       "estimatedsalary           float64\n",
       "dtype: object"
      ]
     },
     "execution_count": 882,
     "metadata": {},
     "output_type": "execute_result"
    }
   ],
   "source": [
    "bank_account_df.dtypes"
   ]
  },
  {
   "cell_type": "code",
   "execution_count": 883,
   "id": "e11bf027",
   "metadata": {},
   "outputs": [
    {
     "data": {
      "text/plain": [
       "array(['Yes', 'No'], dtype=object)"
      ]
     },
     "execution_count": 883,
     "metadata": {},
     "output_type": "execute_result"
    }
   ],
   "source": [
    "bank_account_df['hascrcard'].unique()"
   ]
  },
  {
   "cell_type": "code",
   "execution_count": 884,
   "id": "2e0559e9",
   "metadata": {},
   "outputs": [
    {
     "data": {
      "text/plain": [
       "array(['Yes', 'No'], dtype=object)"
      ]
     },
     "execution_count": 884,
     "metadata": {},
     "output_type": "execute_result"
    }
   ],
   "source": [
    "bank_account_df['isactivemember'].unique()"
   ]
  },
  {
   "cell_type": "code",
   "execution_count": 885,
   "id": "6a4e2e4f",
   "metadata": {},
   "outputs": [],
   "source": [
    "bank_account_df[['hascrcard','isactivemember']] = bank_account_df[['hascrcard','isactivemember']].astype('string').replace({'Yes':'1','No':'0'})"
   ]
  },
  {
   "cell_type": "code",
   "execution_count": 886,
   "id": "c64623e3",
   "metadata": {},
   "outputs": [],
   "source": [
    "bank_account_df[['hascrcard','isactivemember']] = bank_account_df[['hascrcard','isactivemember']].astype('int')"
   ]
  },
  {
   "cell_type": "code",
   "execution_count": 887,
   "id": "004dfae5",
   "metadata": {},
   "outputs": [],
   "source": [
    "bank_account_df[['geography','gender']] = bank_account_df[['geography','gender']].astype('string')"
   ]
  },
  {
   "cell_type": "code",
   "execution_count": 888,
   "id": "a7bf05ea",
   "metadata": {},
   "outputs": [],
   "source": [
    "bank_account_df['geography'] = bank_account_df['geography'].str.lower().str.strip()"
   ]
  },
  {
   "cell_type": "code",
   "execution_count": 889,
   "id": "415953c6",
   "metadata": {},
   "outputs": [],
   "source": [
    "bank_account_df['gender'] = bank_account_df['gender'].str.lower().str.strip()"
   ]
  },
  {
   "cell_type": "code",
   "execution_count": 890,
   "id": "5eb630b6",
   "metadata": {},
   "outputs": [
    {
     "data": {
      "text/plain": [
       "customerid         1\n",
       "balance            1\n",
       "numofproducts      1\n",
       "hascrcard          1\n",
       "tenure             1\n",
       "isactivemember     1\n",
       "exited             1\n",
       "surname            2\n",
       "creditscore        1\n",
       "geography          1\n",
       "gender             1\n",
       "age                1\n",
       "estimatedsalary    1\n",
       "dtype: int64"
      ]
     },
     "execution_count": 890,
     "metadata": {},
     "output_type": "execute_result"
    }
   ],
   "source": [
    "bank_account_df.map(type).nunique()"
   ]
  },
  {
   "cell_type": "code",
   "execution_count": 891,
   "id": "5feadbe1",
   "metadata": {},
   "outputs": [
    {
     "data": {
      "text/plain": [
       "customerid         0\n",
       "balance            0\n",
       "numofproducts      0\n",
       "hascrcard          0\n",
       "tenure             0\n",
       "isactivemember     0\n",
       "exited             0\n",
       "surname            3\n",
       "creditscore        0\n",
       "geography          0\n",
       "gender             0\n",
       "age                3\n",
       "estimatedsalary    0\n",
       "dtype: int64"
      ]
     },
     "execution_count": 891,
     "metadata": {},
     "output_type": "execute_result"
    }
   ],
   "source": [
    "bank_account_df.isnull().sum()"
   ]
  },
  {
   "cell_type": "code",
   "execution_count": 892,
   "id": "db8a1f9b",
   "metadata": {},
   "outputs": [
    {
     "data": {
      "text/html": [
       "<div>\n",
       "<style scoped>\n",
       "    .dataframe tbody tr th:only-of-type {\n",
       "        vertical-align: middle;\n",
       "    }\n",
       "\n",
       "    .dataframe tbody tr th {\n",
       "        vertical-align: top;\n",
       "    }\n",
       "\n",
       "    .dataframe thead th {\n",
       "        text-align: right;\n",
       "    }\n",
       "</style>\n",
       "<table border=\"1\" class=\"dataframe\">\n",
       "  <thead>\n",
       "    <tr style=\"text-align: right;\">\n",
       "      <th></th>\n",
       "      <th>customerid</th>\n",
       "      <th>balance</th>\n",
       "      <th>numofproducts</th>\n",
       "      <th>hascrcard</th>\n",
       "      <th>tenure</th>\n",
       "      <th>isactivemember</th>\n",
       "      <th>exited</th>\n",
       "      <th>surname</th>\n",
       "      <th>creditscore</th>\n",
       "      <th>geography</th>\n",
       "      <th>gender</th>\n",
       "      <th>age</th>\n",
       "      <th>estimatedsalary</th>\n",
       "    </tr>\n",
       "  </thead>\n",
       "  <tbody>\n",
       "    <tr>\n",
       "      <th>29</th>\n",
       "      <td>15728693</td>\n",
       "      <td>141349.43</td>\n",
       "      <td>1</td>\n",
       "      <td>1</td>\n",
       "      <td>3</td>\n",
       "      <td>1</td>\n",
       "      <td>0</td>\n",
       "      <td>NaN</td>\n",
       "      <td>574</td>\n",
       "      <td>germany</td>\n",
       "      <td>female</td>\n",
       "      <td>NaN</td>\n",
       "      <td>-999999.0</td>\n",
       "    </tr>\n",
       "    <tr>\n",
       "      <th>122</th>\n",
       "      <td>15580203</td>\n",
       "      <td>120193.42</td>\n",
       "      <td>1</td>\n",
       "      <td>0</td>\n",
       "      <td>6</td>\n",
       "      <td>0</td>\n",
       "      <td>0</td>\n",
       "      <td>NaN</td>\n",
       "      <td>674</td>\n",
       "      <td>spain</td>\n",
       "      <td>male</td>\n",
       "      <td>NaN</td>\n",
       "      <td>-999999.0</td>\n",
       "    </tr>\n",
       "    <tr>\n",
       "      <th>9390</th>\n",
       "      <td>15756954</td>\n",
       "      <td>0.00</td>\n",
       "      <td>1</td>\n",
       "      <td>1</td>\n",
       "      <td>2</td>\n",
       "      <td>1</td>\n",
       "      <td>0</td>\n",
       "      <td>NaN</td>\n",
       "      <td>538</td>\n",
       "      <td>france</td>\n",
       "      <td>female</td>\n",
       "      <td>NaN</td>\n",
       "      <td>-999999.0</td>\n",
       "    </tr>\n",
       "  </tbody>\n",
       "</table>\n",
       "</div>"
      ],
      "text/plain": [
       "     customerid    balance  numofproducts  hascrcard  tenure  isactivemember  \\\n",
       "29     15728693  141349.43              1          1       3               1   \n",
       "122    15580203  120193.42              1          0       6               0   \n",
       "9390   15756954       0.00              1          1       2               1   \n",
       "\n",
       "      exited surname  creditscore geography  gender  age  estimatedsalary  \n",
       "29         0     NaN          574   germany  female  NaN        -999999.0  \n",
       "122        0     NaN          674     spain    male  NaN        -999999.0  \n",
       "9390       0     NaN          538    france  female  NaN        -999999.0  "
      ]
     },
     "execution_count": 892,
     "metadata": {},
     "output_type": "execute_result"
    }
   ],
   "source": [
    "bank_account_df[bank_account_df['age'].isnull()]"
   ]
  },
  {
   "cell_type": "code",
   "execution_count": 893,
   "id": "4b515095",
   "metadata": {},
   "outputs": [],
   "source": [
    "bank_account_df = bank_account_df.dropna(subset=['balance','age','estimatedsalary','creditscore'])"
   ]
  },
  {
   "cell_type": "code",
   "execution_count": 894,
   "id": "6b7c1159",
   "metadata": {},
   "outputs": [],
   "source": [
    "bank_account_df['age'] = bank_account_df['age'].astype(int)"
   ]
  },
  {
   "cell_type": "code",
   "execution_count": 895,
   "id": "60d8a7c5",
   "metadata": {},
   "outputs": [
    {
     "data": {
      "text/plain": [
       "customerid         string[python]\n",
       "balance                   float64\n",
       "numofproducts               int64\n",
       "hascrcard                   int64\n",
       "tenure                      int64\n",
       "isactivemember              int64\n",
       "exited                      int64\n",
       "surname                    object\n",
       "creditscore                 int64\n",
       "geography          string[python]\n",
       "gender             string[python]\n",
       "age                         int64\n",
       "estimatedsalary           float64\n",
       "dtype: object"
      ]
     },
     "execution_count": 895,
     "metadata": {},
     "output_type": "execute_result"
    }
   ],
   "source": [
    "bank_account_df.dtypes"
   ]
  },
  {
   "cell_type": "code",
   "execution_count": 896,
   "id": "5eb40735",
   "metadata": {},
   "outputs": [],
   "source": [
    "bank_account_df = bank_account_df.drop(columns=['customerid','surname'])"
   ]
  },
  {
   "cell_type": "code",
   "execution_count": 897,
   "id": "40ab1579",
   "metadata": {},
   "outputs": [
    {
     "data": {
      "text/plain": [
       "balance            1\n",
       "numofproducts      1\n",
       "hascrcard          1\n",
       "tenure             1\n",
       "isactivemember     1\n",
       "exited             1\n",
       "creditscore        1\n",
       "geography          1\n",
       "gender             1\n",
       "age                1\n",
       "estimatedsalary    1\n",
       "dtype: int64"
      ]
     },
     "execution_count": 897,
     "metadata": {},
     "output_type": "execute_result"
    }
   ],
   "source": [
    "bank_account_df.map(type).nunique()"
   ]
  },
  {
   "cell_type": "markdown",
   "id": "ea0f7184",
   "metadata": {},
   "source": [
    "## **Standardize categorical data**"
   ]
  },
  {
   "cell_type": "code",
   "execution_count": 898,
   "id": "bf80fec8",
   "metadata": {},
   "outputs": [
    {
     "data": {
      "text/plain": [
       "<StringArray>\n",
       "['fra', 'spain', 'french', 'france', 'germany']\n",
       "Length: 5, dtype: string"
      ]
     },
     "execution_count": 898,
     "metadata": {},
     "output_type": "execute_result"
    }
   ],
   "source": [
    "bank_account_df['geography'].unique()"
   ]
  },
  {
   "cell_type": "code",
   "execution_count": 899,
   "id": "665072d4",
   "metadata": {},
   "outputs": [],
   "source": [
    "bank_account_df['geography'] = bank_account_df['geography'].replace(['fra','french'],'france')"
   ]
  },
  {
   "cell_type": "code",
   "execution_count": 900,
   "id": "96c0b2a3",
   "metadata": {},
   "outputs": [
    {
     "data": {
      "text/plain": [
       "<StringArray>\n",
       "['france', 'spain', 'germany']\n",
       "Length: 3, dtype: string"
      ]
     },
     "execution_count": 900,
     "metadata": {},
     "output_type": "execute_result"
    }
   ],
   "source": [
    "bank_account_df['geography'].unique()"
   ]
  },
  {
   "cell_type": "code",
   "execution_count": 901,
   "id": "11927226",
   "metadata": {},
   "outputs": [
    {
     "data": {
      "text/plain": [
       "<StringArray>\n",
       "['female', 'male']\n",
       "Length: 2, dtype: string"
      ]
     },
     "execution_count": 901,
     "metadata": {},
     "output_type": "execute_result"
    }
   ],
   "source": [
    "bank_account_df['gender'].unique()"
   ]
  },
  {
   "cell_type": "code",
   "execution_count": 902,
   "id": "bceb1522",
   "metadata": {},
   "outputs": [
    {
     "data": {
      "text/html": [
       "<div>\n",
       "<style scoped>\n",
       "    .dataframe tbody tr th:only-of-type {\n",
       "        vertical-align: middle;\n",
       "    }\n",
       "\n",
       "    .dataframe tbody tr th {\n",
       "        vertical-align: top;\n",
       "    }\n",
       "\n",
       "    .dataframe thead th {\n",
       "        text-align: right;\n",
       "    }\n",
       "</style>\n",
       "<table border=\"1\" class=\"dataframe\">\n",
       "  <thead>\n",
       "    <tr style=\"text-align: right;\">\n",
       "      <th></th>\n",
       "      <th>balance</th>\n",
       "      <th>numofproducts</th>\n",
       "      <th>hascrcard</th>\n",
       "      <th>tenure</th>\n",
       "      <th>isactivemember</th>\n",
       "      <th>exited</th>\n",
       "      <th>creditscore</th>\n",
       "      <th>age</th>\n",
       "      <th>estimatedsalary</th>\n",
       "    </tr>\n",
       "  </thead>\n",
       "  <tbody>\n",
       "    <tr>\n",
       "      <th>count</th>\n",
       "      <td>9997.000000</td>\n",
       "      <td>9997.000000</td>\n",
       "      <td>9997.000000</td>\n",
       "      <td>9997.000000</td>\n",
       "      <td>9997.000000</td>\n",
       "      <td>9997.000000</td>\n",
       "      <td>9997.000000</td>\n",
       "      <td>9997.000000</td>\n",
       "      <td>9997.000000</td>\n",
       "    </tr>\n",
       "    <tr>\n",
       "      <th>mean</th>\n",
       "      <td>76482.679807</td>\n",
       "      <td>1.530359</td>\n",
       "      <td>0.515055</td>\n",
       "      <td>5.013204</td>\n",
       "      <td>0.515055</td>\n",
       "      <td>0.203761</td>\n",
       "      <td>650.545364</td>\n",
       "      <td>38.922077</td>\n",
       "      <td>100092.222656</td>\n",
       "    </tr>\n",
       "    <tr>\n",
       "      <th>std</th>\n",
       "      <td>62397.174721</td>\n",
       "      <td>0.581669</td>\n",
       "      <td>0.499798</td>\n",
       "      <td>2.892364</td>\n",
       "      <td>0.499798</td>\n",
       "      <td>0.402814</td>\n",
       "      <td>96.657932</td>\n",
       "      <td>10.489072</td>\n",
       "      <td>57518.775702</td>\n",
       "    </tr>\n",
       "    <tr>\n",
       "      <th>min</th>\n",
       "      <td>0.000000</td>\n",
       "      <td>1.000000</td>\n",
       "      <td>0.000000</td>\n",
       "      <td>0.000000</td>\n",
       "      <td>0.000000</td>\n",
       "      <td>0.000000</td>\n",
       "      <td>350.000000</td>\n",
       "      <td>18.000000</td>\n",
       "      <td>11.580000</td>\n",
       "    </tr>\n",
       "    <tr>\n",
       "      <th>25%</th>\n",
       "      <td>0.000000</td>\n",
       "      <td>1.000000</td>\n",
       "      <td>0.000000</td>\n",
       "      <td>3.000000</td>\n",
       "      <td>0.000000</td>\n",
       "      <td>0.000000</td>\n",
       "      <td>584.000000</td>\n",
       "      <td>32.000000</td>\n",
       "      <td>50974.570000</td>\n",
       "    </tr>\n",
       "    <tr>\n",
       "      <th>50%</th>\n",
       "      <td>97188.620000</td>\n",
       "      <td>1.000000</td>\n",
       "      <td>1.000000</td>\n",
       "      <td>5.000000</td>\n",
       "      <td>1.000000</td>\n",
       "      <td>0.000000</td>\n",
       "      <td>652.000000</td>\n",
       "      <td>37.000000</td>\n",
       "      <td>100236.020000</td>\n",
       "    </tr>\n",
       "    <tr>\n",
       "      <th>75%</th>\n",
       "      <td>127642.440000</td>\n",
       "      <td>2.000000</td>\n",
       "      <td>1.000000</td>\n",
       "      <td>7.000000</td>\n",
       "      <td>1.000000</td>\n",
       "      <td>0.000000</td>\n",
       "      <td>718.000000</td>\n",
       "      <td>44.000000</td>\n",
       "      <td>149399.700000</td>\n",
       "    </tr>\n",
       "    <tr>\n",
       "      <th>max</th>\n",
       "      <td>250898.090000</td>\n",
       "      <td>4.000000</td>\n",
       "      <td>1.000000</td>\n",
       "      <td>10.000000</td>\n",
       "      <td>1.000000</td>\n",
       "      <td>1.000000</td>\n",
       "      <td>850.000000</td>\n",
       "      <td>92.000000</td>\n",
       "      <td>199992.480000</td>\n",
       "    </tr>\n",
       "  </tbody>\n",
       "</table>\n",
       "</div>"
      ],
      "text/plain": [
       "             balance  numofproducts    hascrcard       tenure  isactivemember  \\\n",
       "count    9997.000000    9997.000000  9997.000000  9997.000000     9997.000000   \n",
       "mean    76482.679807       1.530359     0.515055     5.013204        0.515055   \n",
       "std     62397.174721       0.581669     0.499798     2.892364        0.499798   \n",
       "min         0.000000       1.000000     0.000000     0.000000        0.000000   \n",
       "25%         0.000000       1.000000     0.000000     3.000000        0.000000   \n",
       "50%     97188.620000       1.000000     1.000000     5.000000        1.000000   \n",
       "75%    127642.440000       2.000000     1.000000     7.000000        1.000000   \n",
       "max    250898.090000       4.000000     1.000000    10.000000        1.000000   \n",
       "\n",
       "            exited  creditscore          age  estimatedsalary  \n",
       "count  9997.000000  9997.000000  9997.000000      9997.000000  \n",
       "mean      0.203761   650.545364    38.922077    100092.222656  \n",
       "std       0.402814    96.657932    10.489072     57518.775702  \n",
       "min       0.000000   350.000000    18.000000        11.580000  \n",
       "25%       0.000000   584.000000    32.000000     50974.570000  \n",
       "50%       0.000000   652.000000    37.000000    100236.020000  \n",
       "75%       0.000000   718.000000    44.000000    149399.700000  \n",
       "max       1.000000   850.000000    92.000000    199992.480000  "
      ]
     },
     "execution_count": 902,
     "metadata": {},
     "output_type": "execute_result"
    }
   ],
   "source": [
    "bank_account_df.describe()"
   ]
  },
  {
   "cell_type": "markdown",
   "id": "6ce4eef2",
   "metadata": {},
   "source": [
    "There are 30% no saving customers and saving customers' balance behaviors are stable. To study difference between no saving and saving customers. While most customers used only 1 or 2 products, few customers only used more than 2 products. Credit card is direct related with active status. To increase more engagement, we should provide credit card plan. Most customers are long term customers around 5 years and longest term is 10 year old customers. New customers like 0 and oldest customers like 10 is quite few. 20% customers are churner so we need to explore why churn. There are few customers with worst credit score. although there are around 6% customers who have below 500 credit score, among them 30% of low credit score customers have higher income and saving. We can approve suitable low risk loan using strict policies to prevent churn customers. Our target customer is around 32 to 44. expanded range is 24- 60. Customer age do not impact on saving.74% of customers' income is around 50 k to 2 lakhs,14% of customers are 20k to 50 k. Below 20 k is around 10% of customers. So, most of customers' income range is 20k to 2 lakhs. 50% of our customers located in france and each 25% of customers exist in spain and germany. Male and female customers count are not quite different. so we should plan for further project with gender equality."
   ]
  },
  {
   "cell_type": "code",
   "execution_count": 903,
   "id": "c3b4dcda",
   "metadata": {},
   "outputs": [
    {
     "data": {
      "text/plain": [
       "geography\n",
       "france     5013\n",
       "germany    2508\n",
       "spain      2476\n",
       "Name: count, dtype: Int64"
      ]
     },
     "execution_count": 903,
     "metadata": {},
     "output_type": "execute_result"
    }
   ],
   "source": [
    "bank_account_df['geography'].value_counts()"
   ]
  },
  {
   "cell_type": "code",
   "execution_count": 904,
   "id": "47506e36",
   "metadata": {},
   "outputs": [
    {
     "data": {
      "text/plain": [
       "gender\n",
       "male      5456\n",
       "female    4541\n",
       "Name: count, dtype: Int64"
      ]
     },
     "execution_count": 904,
     "metadata": {},
     "output_type": "execute_result"
    }
   ],
   "source": [
    "bank_account_df['gender'].value_counts()"
   ]
  },
  {
   "cell_type": "code",
   "execution_count": 905,
   "id": "1caa7b12",
   "metadata": {},
   "outputs": [
    {
     "data": {
      "text/html": [
       "<div>\n",
       "<style scoped>\n",
       "    .dataframe tbody tr th:only-of-type {\n",
       "        vertical-align: middle;\n",
       "    }\n",
       "\n",
       "    .dataframe tbody tr th {\n",
       "        vertical-align: top;\n",
       "    }\n",
       "\n",
       "    .dataframe thead th {\n",
       "        text-align: right;\n",
       "    }\n",
       "</style>\n",
       "<table border=\"1\" class=\"dataframe\">\n",
       "  <thead>\n",
       "    <tr style=\"text-align: right;\">\n",
       "      <th></th>\n",
       "      <th>balance</th>\n",
       "      <th>numofproducts</th>\n",
       "      <th>hascrcard</th>\n",
       "      <th>tenure</th>\n",
       "      <th>isactivemember</th>\n",
       "      <th>exited</th>\n",
       "      <th>creditscore</th>\n",
       "      <th>age</th>\n",
       "      <th>estimatedsalary</th>\n",
       "    </tr>\n",
       "  </thead>\n",
       "  <tbody>\n",
       "    <tr>\n",
       "      <th>count</th>\n",
       "      <td>986.000000</td>\n",
       "      <td>986.000000</td>\n",
       "      <td>986.000000</td>\n",
       "      <td>986.000000</td>\n",
       "      <td>986.000000</td>\n",
       "      <td>986.000000</td>\n",
       "      <td>986.000000</td>\n",
       "      <td>986.000000</td>\n",
       "      <td>986.000000</td>\n",
       "    </tr>\n",
       "    <tr>\n",
       "      <th>mean</th>\n",
       "      <td>71806.964625</td>\n",
       "      <td>1.529412</td>\n",
       "      <td>0.522312</td>\n",
       "      <td>4.997972</td>\n",
       "      <td>0.522312</td>\n",
       "      <td>0.200811</td>\n",
       "      <td>649.282961</td>\n",
       "      <td>38.641988</td>\n",
       "      <td>9820.001085</td>\n",
       "    </tr>\n",
       "    <tr>\n",
       "      <th>std</th>\n",
       "      <td>63053.008010</td>\n",
       "      <td>0.580256</td>\n",
       "      <td>0.499755</td>\n",
       "      <td>2.864450</td>\n",
       "      <td>0.499755</td>\n",
       "      <td>0.400811</td>\n",
       "      <td>98.407100</td>\n",
       "      <td>10.370723</td>\n",
       "      <td>5815.136401</td>\n",
       "    </tr>\n",
       "    <tr>\n",
       "      <th>min</th>\n",
       "      <td>0.000000</td>\n",
       "      <td>1.000000</td>\n",
       "      <td>0.000000</td>\n",
       "      <td>0.000000</td>\n",
       "      <td>0.000000</td>\n",
       "      <td>0.000000</td>\n",
       "      <td>395.000000</td>\n",
       "      <td>18.000000</td>\n",
       "      <td>11.580000</td>\n",
       "    </tr>\n",
       "    <tr>\n",
       "      <th>25%</th>\n",
       "      <td>0.000000</td>\n",
       "      <td>1.000000</td>\n",
       "      <td>0.000000</td>\n",
       "      <td>2.250000</td>\n",
       "      <td>0.000000</td>\n",
       "      <td>0.000000</td>\n",
       "      <td>580.000000</td>\n",
       "      <td>31.000000</td>\n",
       "      <td>4655.937500</td>\n",
       "    </tr>\n",
       "    <tr>\n",
       "      <th>50%</th>\n",
       "      <td>91364.485000</td>\n",
       "      <td>1.000000</td>\n",
       "      <td>1.000000</td>\n",
       "      <td>5.000000</td>\n",
       "      <td>1.000000</td>\n",
       "      <td>0.000000</td>\n",
       "      <td>648.500000</td>\n",
       "      <td>37.000000</td>\n",
       "      <td>9681.900000</td>\n",
       "    </tr>\n",
       "    <tr>\n",
       "      <th>75%</th>\n",
       "      <td>126206.862500</td>\n",
       "      <td>2.000000</td>\n",
       "      <td>1.000000</td>\n",
       "      <td>7.000000</td>\n",
       "      <td>1.000000</td>\n",
       "      <td>0.000000</td>\n",
       "      <td>716.000000</td>\n",
       "      <td>43.000000</td>\n",
       "      <td>14711.302500</td>\n",
       "    </tr>\n",
       "    <tr>\n",
       "      <th>max</th>\n",
       "      <td>206663.750000</td>\n",
       "      <td>4.000000</td>\n",
       "      <td>1.000000</td>\n",
       "      <td>10.000000</td>\n",
       "      <td>1.000000</td>\n",
       "      <td>1.000000</td>\n",
       "      <td>850.000000</td>\n",
       "      <td>77.000000</td>\n",
       "      <td>19998.310000</td>\n",
       "    </tr>\n",
       "  </tbody>\n",
       "</table>\n",
       "</div>"
      ],
      "text/plain": [
       "             balance  numofproducts   hascrcard      tenure  isactivemember  \\\n",
       "count     986.000000     986.000000  986.000000  986.000000      986.000000   \n",
       "mean    71806.964625       1.529412    0.522312    4.997972        0.522312   \n",
       "std     63053.008010       0.580256    0.499755    2.864450        0.499755   \n",
       "min         0.000000       1.000000    0.000000    0.000000        0.000000   \n",
       "25%         0.000000       1.000000    0.000000    2.250000        0.000000   \n",
       "50%     91364.485000       1.000000    1.000000    5.000000        1.000000   \n",
       "75%    126206.862500       2.000000    1.000000    7.000000        1.000000   \n",
       "max    206663.750000       4.000000    1.000000   10.000000        1.000000   \n",
       "\n",
       "           exited  creditscore         age  estimatedsalary  \n",
       "count  986.000000   986.000000  986.000000       986.000000  \n",
       "mean     0.200811   649.282961   38.641988      9820.001085  \n",
       "std      0.400811    98.407100   10.370723      5815.136401  \n",
       "min      0.000000   395.000000   18.000000        11.580000  \n",
       "25%      0.000000   580.000000   31.000000      4655.937500  \n",
       "50%      0.000000   648.500000   37.000000      9681.900000  \n",
       "75%      0.000000   716.000000   43.000000     14711.302500  \n",
       "max      1.000000   850.000000   77.000000     19998.310000  "
      ]
     },
     "execution_count": 905,
     "metadata": {},
     "output_type": "execute_result"
    }
   ],
   "source": [
    "bank_account_df[bank_account_df['estimatedsalary']<=20000].describe()"
   ]
  },
  {
   "cell_type": "code",
   "execution_count": 906,
   "id": "1391acf8",
   "metadata": {},
   "outputs": [
    {
     "data": {
      "text/plain": [
       "estimatedsalary_group\n",
       "1 lakh - 1.5 lakhs     0.255377\n",
       "50k - 1 lakh           0.253676\n",
       "1.5 lakhs - 2 lakhs    0.245574\n",
       "20k-50k                0.146744\n",
       "1k-20k                 0.092728\n",
       "below 1k               0.005902\n",
       "above 2 lakhs          0.000000\n",
       "Name: proportion, dtype: float64"
      ]
     },
     "execution_count": 906,
     "metadata": {},
     "output_type": "execute_result"
    }
   ],
   "source": [
    "bank_account_df['estimatedsalary_group'] = pd.cut(bank_account_df['estimatedsalary'],bins=[0,1000,20000,50000,100000,150000,200000,400000],labels=['below 1k','1k-20k','20k-50k','50k - 1 lakh','1 lakh - 1.5 lakhs','1.5 lakhs - 2 lakhs','above 2 lakhs'])\n",
    "bank_account_df['estimatedsalary_group'].value_counts(normalize=True)"
   ]
  },
  {
   "cell_type": "code",
   "execution_count": 907,
   "id": "96dd7e2d",
   "metadata": {},
   "outputs": [],
   "source": [
    "bank_account_df['age_group'] = pd.cut(bank_account_df['age'],bins=[17,20,23,32,44,60,120],labels=['18-20','21-23','24-32','33-44','45-60','above 60'])"
   ]
  },
  {
   "cell_type": "code",
   "execution_count": 908,
   "id": "28192921",
   "metadata": {},
   "outputs": [
    {
     "data": {
      "text/plain": [
       "age_group\n",
       "33-44       1780\n",
       "24-32        942\n",
       "45-60        600\n",
       "above 60     167\n",
       "21-23         91\n",
       "18-20         36\n",
       "Name: count, dtype: int64"
      ]
     },
     "execution_count": 908,
     "metadata": {},
     "output_type": "execute_result"
    }
   ],
   "source": [
    "bank_account_df[bank_account_df['balance']==0]['age_group'].value_counts()"
   ]
  },
  {
   "cell_type": "code",
   "execution_count": 909,
   "id": "54bb39b6",
   "metadata": {},
   "outputs": [
    {
     "data": {
      "text/html": [
       "<div>\n",
       "<style scoped>\n",
       "    .dataframe tbody tr th:only-of-type {\n",
       "        vertical-align: middle;\n",
       "    }\n",
       "\n",
       "    .dataframe tbody tr th {\n",
       "        vertical-align: top;\n",
       "    }\n",
       "\n",
       "    .dataframe thead th {\n",
       "        text-align: right;\n",
       "    }\n",
       "</style>\n",
       "<table border=\"1\" class=\"dataframe\">\n",
       "  <thead>\n",
       "    <tr style=\"text-align: right;\">\n",
       "      <th></th>\n",
       "      <th>balance</th>\n",
       "      <th>numofproducts</th>\n",
       "      <th>hascrcard</th>\n",
       "      <th>tenure</th>\n",
       "      <th>isactivemember</th>\n",
       "      <th>exited</th>\n",
       "      <th>creditscore</th>\n",
       "      <th>age</th>\n",
       "      <th>estimatedsalary</th>\n",
       "    </tr>\n",
       "  </thead>\n",
       "  <tbody>\n",
       "    <tr>\n",
       "      <th>count</th>\n",
       "      <td>632.000000</td>\n",
       "      <td>632.000000</td>\n",
       "      <td>632.000000</td>\n",
       "      <td>632.000000</td>\n",
       "      <td>632.000000</td>\n",
       "      <td>632.000000</td>\n",
       "      <td>632.000000</td>\n",
       "      <td>632.000000</td>\n",
       "      <td>632.000000</td>\n",
       "    </tr>\n",
       "    <tr>\n",
       "      <th>mean</th>\n",
       "      <td>80294.231329</td>\n",
       "      <td>1.515823</td>\n",
       "      <td>0.468354</td>\n",
       "      <td>5.077532</td>\n",
       "      <td>0.468354</td>\n",
       "      <td>0.237342</td>\n",
       "      <td>462.925633</td>\n",
       "      <td>38.908228</td>\n",
       "      <td>103307.478418</td>\n",
       "    </tr>\n",
       "    <tr>\n",
       "      <th>std</th>\n",
       "      <td>62792.369008</td>\n",
       "      <td>0.579417</td>\n",
       "      <td>0.499393</td>\n",
       "      <td>2.824839</td>\n",
       "      <td>0.499393</td>\n",
       "      <td>0.425790</td>\n",
       "      <td>30.113033</td>\n",
       "      <td>10.265777</td>\n",
       "      <td>57842.565848</td>\n",
       "    </tr>\n",
       "    <tr>\n",
       "      <th>min</th>\n",
       "      <td>0.000000</td>\n",
       "      <td>1.000000</td>\n",
       "      <td>0.000000</td>\n",
       "      <td>0.000000</td>\n",
       "      <td>0.000000</td>\n",
       "      <td>0.000000</td>\n",
       "      <td>350.000000</td>\n",
       "      <td>19.000000</td>\n",
       "      <td>878.870000</td>\n",
       "    </tr>\n",
       "    <tr>\n",
       "      <th>25%</th>\n",
       "      <td>0.000000</td>\n",
       "      <td>1.000000</td>\n",
       "      <td>0.000000</td>\n",
       "      <td>3.000000</td>\n",
       "      <td>0.000000</td>\n",
       "      <td>0.000000</td>\n",
       "      <td>445.000000</td>\n",
       "      <td>32.000000</td>\n",
       "      <td>56598.880000</td>\n",
       "    </tr>\n",
       "    <tr>\n",
       "      <th>50%</th>\n",
       "      <td>100697.760000</td>\n",
       "      <td>1.000000</td>\n",
       "      <td>0.000000</td>\n",
       "      <td>5.000000</td>\n",
       "      <td>0.000000</td>\n",
       "      <td>0.000000</td>\n",
       "      <td>470.000000</td>\n",
       "      <td>37.000000</td>\n",
       "      <td>101297.595000</td>\n",
       "    </tr>\n",
       "    <tr>\n",
       "      <th>75%</th>\n",
       "      <td>131097.260000</td>\n",
       "      <td>2.000000</td>\n",
       "      <td>1.000000</td>\n",
       "      <td>8.000000</td>\n",
       "      <td>1.000000</td>\n",
       "      <td>0.000000</td>\n",
       "      <td>487.000000</td>\n",
       "      <td>44.000000</td>\n",
       "      <td>155828.382500</td>\n",
       "    </tr>\n",
       "    <tr>\n",
       "      <th>max</th>\n",
       "      <td>221532.800000</td>\n",
       "      <td>4.000000</td>\n",
       "      <td>1.000000</td>\n",
       "      <td>10.000000</td>\n",
       "      <td>1.000000</td>\n",
       "      <td>1.000000</td>\n",
       "      <td>499.000000</td>\n",
       "      <td>84.000000</td>\n",
       "      <td>199505.530000</td>\n",
       "    </tr>\n",
       "  </tbody>\n",
       "</table>\n",
       "</div>"
      ],
      "text/plain": [
       "             balance  numofproducts   hascrcard      tenure  isactivemember  \\\n",
       "count     632.000000     632.000000  632.000000  632.000000      632.000000   \n",
       "mean    80294.231329       1.515823    0.468354    5.077532        0.468354   \n",
       "std     62792.369008       0.579417    0.499393    2.824839        0.499393   \n",
       "min         0.000000       1.000000    0.000000    0.000000        0.000000   \n",
       "25%         0.000000       1.000000    0.000000    3.000000        0.000000   \n",
       "50%    100697.760000       1.000000    0.000000    5.000000        0.000000   \n",
       "75%    131097.260000       2.000000    1.000000    8.000000        1.000000   \n",
       "max    221532.800000       4.000000    1.000000   10.000000        1.000000   \n",
       "\n",
       "           exited  creditscore         age  estimatedsalary  \n",
       "count  632.000000   632.000000  632.000000       632.000000  \n",
       "mean     0.237342   462.925633   38.908228    103307.478418  \n",
       "std      0.425790    30.113033   10.265777     57842.565848  \n",
       "min      0.000000   350.000000   19.000000       878.870000  \n",
       "25%      0.000000   445.000000   32.000000     56598.880000  \n",
       "50%      0.000000   470.000000   37.000000    101297.595000  \n",
       "75%      0.000000   487.000000   44.000000    155828.382500  \n",
       "max      1.000000   499.000000   84.000000    199505.530000  "
      ]
     },
     "execution_count": 909,
     "metadata": {},
     "output_type": "execute_result"
    }
   ],
   "source": [
    "bank_account_df[bank_account_df['creditscore']< 500].describe()"
   ]
  },
  {
   "cell_type": "code",
   "execution_count": 910,
   "id": "13f2c1d6",
   "metadata": {},
   "outputs": [
    {
     "data": {
      "text/html": [
       "<div>\n",
       "<style scoped>\n",
       "    .dataframe tbody tr th:only-of-type {\n",
       "        vertical-align: middle;\n",
       "    }\n",
       "\n",
       "    .dataframe tbody tr th {\n",
       "        vertical-align: top;\n",
       "    }\n",
       "\n",
       "    .dataframe thead th {\n",
       "        text-align: right;\n",
       "    }\n",
       "</style>\n",
       "<table border=\"1\" class=\"dataframe\">\n",
       "  <thead>\n",
       "    <tr style=\"text-align: right;\">\n",
       "      <th></th>\n",
       "      <th>balance</th>\n",
       "      <th>numofproducts</th>\n",
       "      <th>hascrcard</th>\n",
       "      <th>tenure</th>\n",
       "      <th>isactivemember</th>\n",
       "      <th>exited</th>\n",
       "      <th>creditscore</th>\n",
       "      <th>age</th>\n",
       "      <th>estimatedsalary</th>\n",
       "    </tr>\n",
       "  </thead>\n",
       "  <tbody>\n",
       "    <tr>\n",
       "      <th>count</th>\n",
       "      <td>162.000000</td>\n",
       "      <td>162.000000</td>\n",
       "      <td>162.000000</td>\n",
       "      <td>162.000000</td>\n",
       "      <td>162.000000</td>\n",
       "      <td>162.000000</td>\n",
       "      <td>162.000000</td>\n",
       "      <td>162.000000</td>\n",
       "      <td>162.000000</td>\n",
       "    </tr>\n",
       "    <tr>\n",
       "      <th>mean</th>\n",
       "      <td>135566.586975</td>\n",
       "      <td>1.469136</td>\n",
       "      <td>0.419753</td>\n",
       "      <td>5.141975</td>\n",
       "      <td>0.419753</td>\n",
       "      <td>0.228395</td>\n",
       "      <td>461.635802</td>\n",
       "      <td>39.000000</td>\n",
       "      <td>153647.638951</td>\n",
       "    </tr>\n",
       "    <tr>\n",
       "      <th>std</th>\n",
       "      <td>23136.398341</td>\n",
       "      <td>0.601993</td>\n",
       "      <td>0.495049</td>\n",
       "      <td>2.906124</td>\n",
       "      <td>0.495049</td>\n",
       "      <td>0.421100</td>\n",
       "      <td>33.325751</td>\n",
       "      <td>11.017772</td>\n",
       "      <td>28212.792104</td>\n",
       "    </tr>\n",
       "    <tr>\n",
       "      <th>min</th>\n",
       "      <td>101257.160000</td>\n",
       "      <td>1.000000</td>\n",
       "      <td>0.000000</td>\n",
       "      <td>0.000000</td>\n",
       "      <td>0.000000</td>\n",
       "      <td>0.000000</td>\n",
       "      <td>350.000000</td>\n",
       "      <td>19.000000</td>\n",
       "      <td>100447.530000</td>\n",
       "    </tr>\n",
       "    <tr>\n",
       "      <th>25%</th>\n",
       "      <td>117314.232500</td>\n",
       "      <td>1.000000</td>\n",
       "      <td>0.000000</td>\n",
       "      <td>2.250000</td>\n",
       "      <td>0.000000</td>\n",
       "      <td>0.000000</td>\n",
       "      <td>446.750000</td>\n",
       "      <td>32.000000</td>\n",
       "      <td>128459.090000</td>\n",
       "    </tr>\n",
       "    <tr>\n",
       "      <th>50%</th>\n",
       "      <td>131601.650000</td>\n",
       "      <td>1.000000</td>\n",
       "      <td>0.000000</td>\n",
       "      <td>6.000000</td>\n",
       "      <td>0.000000</td>\n",
       "      <td>0.000000</td>\n",
       "      <td>468.500000</td>\n",
       "      <td>37.000000</td>\n",
       "      <td>155041.060000</td>\n",
       "    </tr>\n",
       "    <tr>\n",
       "      <th>75%</th>\n",
       "      <td>152011.547500</td>\n",
       "      <td>2.000000</td>\n",
       "      <td>1.000000</td>\n",
       "      <td>8.000000</td>\n",
       "      <td>1.000000</td>\n",
       "      <td>0.000000</td>\n",
       "      <td>485.750000</td>\n",
       "      <td>44.000000</td>\n",
       "      <td>176621.162500</td>\n",
       "    </tr>\n",
       "    <tr>\n",
       "      <th>max</th>\n",
       "      <td>221532.800000</td>\n",
       "      <td>4.000000</td>\n",
       "      <td>1.000000</td>\n",
       "      <td>10.000000</td>\n",
       "      <td>1.000000</td>\n",
       "      <td>1.000000</td>\n",
       "      <td>499.000000</td>\n",
       "      <td>74.000000</td>\n",
       "      <td>198714.290000</td>\n",
       "    </tr>\n",
       "  </tbody>\n",
       "</table>\n",
       "</div>"
      ],
      "text/plain": [
       "             balance  numofproducts   hascrcard      tenure  isactivemember  \\\n",
       "count     162.000000     162.000000  162.000000  162.000000      162.000000   \n",
       "mean   135566.586975       1.469136    0.419753    5.141975        0.419753   \n",
       "std     23136.398341       0.601993    0.495049    2.906124        0.495049   \n",
       "min    101257.160000       1.000000    0.000000    0.000000        0.000000   \n",
       "25%    117314.232500       1.000000    0.000000    2.250000        0.000000   \n",
       "50%    131601.650000       1.000000    0.000000    6.000000        0.000000   \n",
       "75%    152011.547500       2.000000    1.000000    8.000000        1.000000   \n",
       "max    221532.800000       4.000000    1.000000   10.000000        1.000000   \n",
       "\n",
       "           exited  creditscore         age  estimatedsalary  \n",
       "count  162.000000   162.000000  162.000000       162.000000  \n",
       "mean     0.228395   461.635802   39.000000    153647.638951  \n",
       "std      0.421100    33.325751   11.017772     28212.792104  \n",
       "min      0.000000   350.000000   19.000000    100447.530000  \n",
       "25%      0.000000   446.750000   32.000000    128459.090000  \n",
       "50%      0.000000   468.500000   37.000000    155041.060000  \n",
       "75%      0.000000   485.750000   44.000000    176621.162500  \n",
       "max      1.000000   499.000000   74.000000    198714.290000  "
      ]
     },
     "execution_count": 910,
     "metadata": {},
     "output_type": "execute_result"
    }
   ],
   "source": [
    "bank_account_df[(bank_account_df['balance']>=100000) &\n",
    "                 (bank_account_df['estimatedsalary']>=100000) &\n",
    "                 (bank_account_df['creditscore']<500)\n",
    "                 ].describe()"
   ]
  },
  {
   "cell_type": "code",
   "execution_count": 911,
   "id": "65565fa4",
   "metadata": {},
   "outputs": [
    {
     "data": {
      "text/plain": [
       "tenure\n",
       "2     1047\n",
       "1     1035\n",
       "7     1028\n",
       "8     1025\n",
       "5     1012\n",
       "3     1008\n",
       "4      989\n",
       "9      984\n",
       "6      966\n",
       "10     490\n",
       "0      413\n",
       "Name: count, dtype: int64"
      ]
     },
     "execution_count": 911,
     "metadata": {},
     "output_type": "execute_result"
    }
   ],
   "source": [
    "bank_account_df['tenure'].value_counts()"
   ]
  },
  {
   "cell_type": "code",
   "execution_count": 912,
   "id": "213fc923",
   "metadata": {},
   "outputs": [
    {
     "data": {
      "text/html": [
       "<div>\n",
       "<style scoped>\n",
       "    .dataframe tbody tr th:only-of-type {\n",
       "        vertical-align: middle;\n",
       "    }\n",
       "\n",
       "    .dataframe tbody tr th {\n",
       "        vertical-align: top;\n",
       "    }\n",
       "\n",
       "    .dataframe thead th {\n",
       "        text-align: right;\n",
       "    }\n",
       "</style>\n",
       "<table border=\"1\" class=\"dataframe\">\n",
       "  <thead>\n",
       "    <tr style=\"text-align: right;\">\n",
       "      <th>Churn Status</th>\n",
       "      <th>0</th>\n",
       "      <th>1</th>\n",
       "    </tr>\n",
       "    <tr>\n",
       "      <th>Has Credit Card</th>\n",
       "      <th></th>\n",
       "      <th></th>\n",
       "    </tr>\n",
       "  </thead>\n",
       "  <tbody>\n",
       "    <tr>\n",
       "      <th>0</th>\n",
       "      <td>3546</td>\n",
       "      <td>1302</td>\n",
       "    </tr>\n",
       "    <tr>\n",
       "      <th>1</th>\n",
       "      <td>4414</td>\n",
       "      <td>735</td>\n",
       "    </tr>\n",
       "  </tbody>\n",
       "</table>\n",
       "</div>"
      ],
      "text/plain": [
       "Churn Status        0     1\n",
       "Has Credit Card            \n",
       "0                3546  1302\n",
       "1                4414   735"
      ]
     },
     "execution_count": 912,
     "metadata": {},
     "output_type": "execute_result"
    }
   ],
   "source": [
    "pd.crosstab(bank_account_df['hascrcard'],bank_account_df['exited'],rownames=['Has Credit Card'],colnames=['Churn Status'])"
   ]
  },
  {
   "cell_type": "code",
   "execution_count": 913,
   "id": "bd7eb9be",
   "metadata": {},
   "outputs": [
    {
     "data": {
      "text/html": [
       "<div>\n",
       "<style scoped>\n",
       "    .dataframe tbody tr th:only-of-type {\n",
       "        vertical-align: middle;\n",
       "    }\n",
       "\n",
       "    .dataframe tbody tr th {\n",
       "        vertical-align: top;\n",
       "    }\n",
       "\n",
       "    .dataframe thead th {\n",
       "        text-align: right;\n",
       "    }\n",
       "</style>\n",
       "<table border=\"1\" class=\"dataframe\">\n",
       "  <thead>\n",
       "    <tr style=\"text-align: right;\">\n",
       "      <th></th>\n",
       "      <th>balance</th>\n",
       "      <th>numofproducts</th>\n",
       "      <th>hascrcard</th>\n",
       "      <th>tenure</th>\n",
       "      <th>isactivemember</th>\n",
       "      <th>exited</th>\n",
       "      <th>creditscore</th>\n",
       "      <th>age</th>\n",
       "      <th>estimatedsalary</th>\n",
       "    </tr>\n",
       "  </thead>\n",
       "  <tbody>\n",
       "    <tr>\n",
       "      <th>count</th>\n",
       "      <td>3546.000000</td>\n",
       "      <td>3546.000000</td>\n",
       "      <td>3546.0</td>\n",
       "      <td>3546.000000</td>\n",
       "      <td>3546.0</td>\n",
       "      <td>3546.0</td>\n",
       "      <td>3546.000000</td>\n",
       "      <td>3546.000000</td>\n",
       "      <td>3546.000000</td>\n",
       "    </tr>\n",
       "    <tr>\n",
       "      <th>mean</th>\n",
       "      <td>72035.243421</td>\n",
       "      <td>1.554992</td>\n",
       "      <td>0.0</td>\n",
       "      <td>5.127750</td>\n",
       "      <td>0.0</td>\n",
       "      <td>0.0</td>\n",
       "      <td>648.907501</td>\n",
       "      <td>35.470671</td>\n",
       "      <td>100342.685237</td>\n",
       "    </tr>\n",
       "    <tr>\n",
       "      <th>std</th>\n",
       "      <td>63300.623286</td>\n",
       "      <td>0.507150</td>\n",
       "      <td>0.0</td>\n",
       "      <td>2.864851</td>\n",
       "      <td>0.0</td>\n",
       "      <td>0.0</td>\n",
       "      <td>96.228741</td>\n",
       "      <td>7.147478</td>\n",
       "      <td>57433.884371</td>\n",
       "    </tr>\n",
       "    <tr>\n",
       "      <th>min</th>\n",
       "      <td>0.000000</td>\n",
       "      <td>1.000000</td>\n",
       "      <td>0.0</td>\n",
       "      <td>0.000000</td>\n",
       "      <td>0.0</td>\n",
       "      <td>0.0</td>\n",
       "      <td>408.000000</td>\n",
       "      <td>18.000000</td>\n",
       "      <td>96.270000</td>\n",
       "    </tr>\n",
       "    <tr>\n",
       "      <th>25%</th>\n",
       "      <td>0.000000</td>\n",
       "      <td>1.000000</td>\n",
       "      <td>0.0</td>\n",
       "      <td>3.000000</td>\n",
       "      <td>0.0</td>\n",
       "      <td>0.0</td>\n",
       "      <td>582.250000</td>\n",
       "      <td>31.000000</td>\n",
       "      <td>50956.250000</td>\n",
       "    </tr>\n",
       "    <tr>\n",
       "      <th>50%</th>\n",
       "      <td>91776.980000</td>\n",
       "      <td>2.000000</td>\n",
       "      <td>0.0</td>\n",
       "      <td>5.000000</td>\n",
       "      <td>0.0</td>\n",
       "      <td>0.0</td>\n",
       "      <td>650.000000</td>\n",
       "      <td>35.000000</td>\n",
       "      <td>100168.240000</td>\n",
       "    </tr>\n",
       "    <tr>\n",
       "      <th>75%</th>\n",
       "      <td>127059.967500</td>\n",
       "      <td>2.000000</td>\n",
       "      <td>0.0</td>\n",
       "      <td>8.000000</td>\n",
       "      <td>0.0</td>\n",
       "      <td>0.0</td>\n",
       "      <td>716.000000</td>\n",
       "      <td>40.000000</td>\n",
       "      <td>148944.647500</td>\n",
       "    </tr>\n",
       "    <tr>\n",
       "      <th>max</th>\n",
       "      <td>221532.800000</td>\n",
       "      <td>3.000000</td>\n",
       "      <td>0.0</td>\n",
       "      <td>10.000000</td>\n",
       "      <td>0.0</td>\n",
       "      <td>0.0</td>\n",
       "      <td>850.000000</td>\n",
       "      <td>77.000000</td>\n",
       "      <td>199992.480000</td>\n",
       "    </tr>\n",
       "  </tbody>\n",
       "</table>\n",
       "</div>"
      ],
      "text/plain": [
       "             balance  numofproducts  hascrcard       tenure  isactivemember  \\\n",
       "count    3546.000000    3546.000000     3546.0  3546.000000          3546.0   \n",
       "mean    72035.243421       1.554992        0.0     5.127750             0.0   \n",
       "std     63300.623286       0.507150        0.0     2.864851             0.0   \n",
       "min         0.000000       1.000000        0.0     0.000000             0.0   \n",
       "25%         0.000000       1.000000        0.0     3.000000             0.0   \n",
       "50%     91776.980000       2.000000        0.0     5.000000             0.0   \n",
       "75%    127059.967500       2.000000        0.0     8.000000             0.0   \n",
       "max    221532.800000       3.000000        0.0    10.000000             0.0   \n",
       "\n",
       "       exited  creditscore          age  estimatedsalary  \n",
       "count  3546.0  3546.000000  3546.000000      3546.000000  \n",
       "mean      0.0   648.907501    35.470671    100342.685237  \n",
       "std       0.0    96.228741     7.147478     57433.884371  \n",
       "min       0.0   408.000000    18.000000        96.270000  \n",
       "25%       0.0   582.250000    31.000000     50956.250000  \n",
       "50%       0.0   650.000000    35.000000    100168.240000  \n",
       "75%       0.0   716.000000    40.000000    148944.647500  \n",
       "max       0.0   850.000000    77.000000    199992.480000  "
      ]
     },
     "execution_count": 913,
     "metadata": {},
     "output_type": "execute_result"
    }
   ],
   "source": [
    "bank_account_df[(bank_account_df['hascrcard']==0) &\n",
    "                 (bank_account_df['exited'] == 0)\n",
    "                ].describe()"
   ]
  },
  {
   "cell_type": "code",
   "execution_count": 914,
   "id": "992ab822",
   "metadata": {},
   "outputs": [],
   "source": [
    "potential_active_customers = bank_account_df[(bank_account_df['hascrcard']==0) &\n",
    "                 (bank_account_df['exited'] == 0) &\n",
    "                 (bank_account_df['creditscore'] >= 700) &\n",
    "                 (bank_account_df['estimatedsalary'] >= 100000) &\n",
    "                 (bank_account_df['balance'] >= 100000)\n",
    "                ]"
   ]
  },
  {
   "cell_type": "code",
   "execution_count": 915,
   "id": "3d4f649c",
   "metadata": {},
   "outputs": [
    {
     "data": {
      "text/plain": [
       "2.43072921876563"
      ]
     },
     "execution_count": 915,
     "metadata": {},
     "output_type": "execute_result"
    }
   ],
   "source": [
    "(len(potential_active_customers)/len(bank_account_df))*100"
   ]
  },
  {
   "cell_type": "code",
   "execution_count": 916,
   "id": "acd90e8f",
   "metadata": {},
   "outputs": [
    {
     "data": {
      "text/html": [
       "<div>\n",
       "<style scoped>\n",
       "    .dataframe tbody tr th:only-of-type {\n",
       "        vertical-align: middle;\n",
       "    }\n",
       "\n",
       "    .dataframe tbody tr th {\n",
       "        vertical-align: top;\n",
       "    }\n",
       "\n",
       "    .dataframe thead th {\n",
       "        text-align: right;\n",
       "    }\n",
       "</style>\n",
       "<table border=\"1\" class=\"dataframe\">\n",
       "  <thead>\n",
       "    <tr style=\"text-align: right;\">\n",
       "      <th>Gender</th>\n",
       "      <th>female</th>\n",
       "      <th>male</th>\n",
       "    </tr>\n",
       "    <tr>\n",
       "      <th>Geography</th>\n",
       "      <th></th>\n",
       "      <th></th>\n",
       "    </tr>\n",
       "  </thead>\n",
       "  <tbody>\n",
       "    <tr>\n",
       "      <th>france</th>\n",
       "      <td>42</td>\n",
       "      <td>74</td>\n",
       "    </tr>\n",
       "    <tr>\n",
       "      <th>germany</th>\n",
       "      <td>50</td>\n",
       "      <td>37</td>\n",
       "    </tr>\n",
       "    <tr>\n",
       "      <th>spain</th>\n",
       "      <td>17</td>\n",
       "      <td>23</td>\n",
       "    </tr>\n",
       "  </tbody>\n",
       "</table>\n",
       "</div>"
      ],
      "text/plain": [
       "Gender     female  male\n",
       "Geography              \n",
       "france         42    74\n",
       "germany        50    37\n",
       "spain          17    23"
      ]
     },
     "execution_count": 916,
     "metadata": {},
     "output_type": "execute_result"
    }
   ],
   "source": [
    "pd.crosstab(potential_active_customers['geography'],potential_active_customers['gender'],rownames=['Geography'],colnames=['Gender'])"
   ]
  },
  {
   "cell_type": "markdown",
   "id": "44658880",
   "metadata": {},
   "source": [
    "## Valuable Insight to add StreamLit\n",
    "\n",
    "We can improve **active rate** by providing **credit card** to this **2.4% inactive customers** who have high credit score, saving and income. Credit card and active member has direct correlation. We need to target france and germany which most potential customers exists. In france, male potential customers are more than female and in germany, female customers are more. It can be valuable for marketing team, key account teams of credit card campaign."
   ]
  },
  {
   "cell_type": "code",
   "execution_count": 917,
   "id": "2c8177d1",
   "metadata": {},
   "outputs": [
    {
     "data": {
      "text/plain": [
       "hascrcard\n",
       "1    0.515055\n",
       "0    0.484945\n",
       "Name: proportion, dtype: float64"
      ]
     },
     "execution_count": 917,
     "metadata": {},
     "output_type": "execute_result"
    }
   ],
   "source": [
    "bank_account_df['hascrcard'].value_counts(normalize=True)"
   ]
  },
  {
   "cell_type": "code",
   "execution_count": 918,
   "id": "ec1956a1",
   "metadata": {},
   "outputs": [
    {
     "data": {
      "text/plain": [
       "<Axes: xlabel='balance', ylabel='Count'>"
      ]
     },
     "execution_count": 918,
     "metadata": {},
     "output_type": "execute_result"
    },
    {
     "data": {
      "image/png": "[encoded data removed]",
      "text/plain": [
       "<Figure size 640x480 with 1 Axes>"
      ]
     },
     "metadata": {},
     "output_type": "display_data"
    }
   ],
   "source": [
    "sns.histplot(data=bank_account_df,x='balance',bins=30,kde=True)"
   ]
  },
  {
   "cell_type": "code",
   "execution_count": 919,
   "id": "962b3821",
   "metadata": {},
   "outputs": [],
   "source": [
    "no_saving_customer_df = bank_account_df[bank_account_df['balance']==0]\n",
    "saving_customer_df = bank_account_df[bank_account_df['balance']>0]"
   ]
  },
  {
   "cell_type": "code",
   "execution_count": 920,
   "id": "9d35abc7",
   "metadata": {},
   "outputs": [
    {
     "data": {
      "text/html": [
       "<div>\n",
       "<style scoped>\n",
       "    .dataframe tbody tr th:only-of-type {\n",
       "        vertical-align: middle;\n",
       "    }\n",
       "\n",
       "    .dataframe tbody tr th {\n",
       "        vertical-align: top;\n",
       "    }\n",
       "\n",
       "    .dataframe thead th {\n",
       "        text-align: right;\n",
       "    }\n",
       "</style>\n",
       "<table border=\"1\" class=\"dataframe\">\n",
       "  <thead>\n",
       "    <tr style=\"text-align: right;\">\n",
       "      <th>Churn Status</th>\n",
       "      <th>0</th>\n",
       "      <th>1</th>\n",
       "    </tr>\n",
       "    <tr>\n",
       "      <th>Has Credit Card</th>\n",
       "      <th></th>\n",
       "      <th></th>\n",
       "    </tr>\n",
       "  </thead>\n",
       "  <tbody>\n",
       "    <tr>\n",
       "      <th>0</th>\n",
       "      <td>3546</td>\n",
       "      <td>1302</td>\n",
       "    </tr>\n",
       "    <tr>\n",
       "      <th>1</th>\n",
       "      <td>4414</td>\n",
       "      <td>735</td>\n",
       "    </tr>\n",
       "  </tbody>\n",
       "</table>\n",
       "</div>"
      ],
      "text/plain": [
       "Churn Status        0     1\n",
       "Has Credit Card            \n",
       "0                3546  1302\n",
       "1                4414   735"
      ]
     },
     "execution_count": 920,
     "metadata": {},
     "output_type": "execute_result"
    }
   ],
   "source": [
    "pd.crosstab(bank_account_df['hascrcard'],bank_account_df['exited'],rownames=['Has Credit Card'],colnames=['Churn Status'])"
   ]
  },
  {
   "cell_type": "code",
   "execution_count": 921,
   "id": "f96c4f46",
   "metadata": {},
   "outputs": [
    {
     "data": {
      "text/html": [
       "<div>\n",
       "<style scoped>\n",
       "    .dataframe tbody tr th:only-of-type {\n",
       "        vertical-align: middle;\n",
       "    }\n",
       "\n",
       "    .dataframe tbody tr th {\n",
       "        vertical-align: top;\n",
       "    }\n",
       "\n",
       "    .dataframe thead th {\n",
       "        text-align: right;\n",
       "    }\n",
       "</style>\n",
       "<table border=\"1\" class=\"dataframe\">\n",
       "  <thead>\n",
       "    <tr style=\"text-align: right;\">\n",
       "      <th></th>\n",
       "      <th>balance</th>\n",
       "      <th>numofproducts</th>\n",
       "      <th>hascrcard</th>\n",
       "      <th>tenure</th>\n",
       "      <th>isactivemember</th>\n",
       "      <th>exited</th>\n",
       "      <th>creditscore</th>\n",
       "      <th>age</th>\n",
       "      <th>estimatedsalary</th>\n",
       "    </tr>\n",
       "  </thead>\n",
       "  <tbody>\n",
       "    <tr>\n",
       "      <th>count</th>\n",
       "      <td>3616.0</td>\n",
       "      <td>3616.000000</td>\n",
       "      <td>3616.000000</td>\n",
       "      <td>3616.000000</td>\n",
       "      <td>3616.000000</td>\n",
       "      <td>3616.000000</td>\n",
       "      <td>3616.000000</td>\n",
       "      <td>3616.000000</td>\n",
       "      <td>3616.000000</td>\n",
       "    </tr>\n",
       "    <tr>\n",
       "      <th>mean</th>\n",
       "      <td>0.0</td>\n",
       "      <td>1.784845</td>\n",
       "      <td>0.517699</td>\n",
       "      <td>5.072179</td>\n",
       "      <td>0.517699</td>\n",
       "      <td>0.138274</td>\n",
       "      <td>649.483684</td>\n",
       "      <td>38.436670</td>\n",
       "      <td>98988.773327</td>\n",
       "    </tr>\n",
       "    <tr>\n",
       "      <th>std</th>\n",
       "      <td>0.0</td>\n",
       "      <td>0.496352</td>\n",
       "      <td>0.499756</td>\n",
       "      <td>2.860721</td>\n",
       "      <td>0.499756</td>\n",
       "      <td>0.345235</td>\n",
       "      <td>96.154226</td>\n",
       "      <td>10.492907</td>\n",
       "      <td>57737.961619</td>\n",
       "    </tr>\n",
       "    <tr>\n",
       "      <th>min</th>\n",
       "      <td>0.0</td>\n",
       "      <td>1.000000</td>\n",
       "      <td>0.000000</td>\n",
       "      <td>0.000000</td>\n",
       "      <td>0.000000</td>\n",
       "      <td>0.000000</td>\n",
       "      <td>350.000000</td>\n",
       "      <td>18.000000</td>\n",
       "      <td>90.070000</td>\n",
       "    </tr>\n",
       "    <tr>\n",
       "      <th>25%</th>\n",
       "      <td>0.0</td>\n",
       "      <td>1.750000</td>\n",
       "      <td>0.000000</td>\n",
       "      <td>3.000000</td>\n",
       "      <td>0.000000</td>\n",
       "      <td>0.000000</td>\n",
       "      <td>583.000000</td>\n",
       "      <td>31.000000</td>\n",
       "      <td>49495.975000</td>\n",
       "    </tr>\n",
       "    <tr>\n",
       "      <th>50%</th>\n",
       "      <td>0.0</td>\n",
       "      <td>2.000000</td>\n",
       "      <td>1.000000</td>\n",
       "      <td>5.000000</td>\n",
       "      <td>1.000000</td>\n",
       "      <td>0.000000</td>\n",
       "      <td>651.000000</td>\n",
       "      <td>37.000000</td>\n",
       "      <td>98619.915000</td>\n",
       "    </tr>\n",
       "    <tr>\n",
       "      <th>75%</th>\n",
       "      <td>0.0</td>\n",
       "      <td>2.000000</td>\n",
       "      <td>1.000000</td>\n",
       "      <td>7.000000</td>\n",
       "      <td>1.000000</td>\n",
       "      <td>0.000000</td>\n",
       "      <td>717.000000</td>\n",
       "      <td>43.000000</td>\n",
       "      <td>148370.202500</td>\n",
       "    </tr>\n",
       "    <tr>\n",
       "      <th>max</th>\n",
       "      <td>0.0</td>\n",
       "      <td>4.000000</td>\n",
       "      <td>1.000000</td>\n",
       "      <td>10.000000</td>\n",
       "      <td>1.000000</td>\n",
       "      <td>1.000000</td>\n",
       "      <td>850.000000</td>\n",
       "      <td>88.000000</td>\n",
       "      <td>199992.480000</td>\n",
       "    </tr>\n",
       "  </tbody>\n",
       "</table>\n",
       "</div>"
      ],
      "text/plain": [
       "       balance  numofproducts    hascrcard       tenure  isactivemember  \\\n",
       "count   3616.0    3616.000000  3616.000000  3616.000000     3616.000000   \n",
       "mean       0.0       1.784845     0.517699     5.072179        0.517699   \n",
       "std        0.0       0.496352     0.499756     2.860721        0.499756   \n",
       "min        0.0       1.000000     0.000000     0.000000        0.000000   \n",
       "25%        0.0       1.750000     0.000000     3.000000        0.000000   \n",
       "50%        0.0       2.000000     1.000000     5.000000        1.000000   \n",
       "75%        0.0       2.000000     1.000000     7.000000        1.000000   \n",
       "max        0.0       4.000000     1.000000    10.000000        1.000000   \n",
       "\n",
       "            exited  creditscore          age  estimatedsalary  \n",
       "count  3616.000000  3616.000000  3616.000000      3616.000000  \n",
       "mean      0.138274   649.483684    38.436670     98988.773327  \n",
       "std       0.345235    96.154226    10.492907     57737.961619  \n",
       "min       0.000000   350.000000    18.000000        90.070000  \n",
       "25%       0.000000   583.000000    31.000000     49495.975000  \n",
       "50%       0.000000   651.000000    37.000000     98619.915000  \n",
       "75%       0.000000   717.000000    43.000000    148370.202500  \n",
       "max       1.000000   850.000000    88.000000    199992.480000  "
      ]
     },
     "execution_count": 921,
     "metadata": {},
     "output_type": "execute_result"
    }
   ],
   "source": [
    "no_saving_customer_df.describe()"
   ]
  },
  {
   "cell_type": "code",
   "execution_count": 922,
   "id": "3e704f79",
   "metadata": {},
   "outputs": [
    {
     "data": {
      "text/html": [
       "<div>\n",
       "<style scoped>\n",
       "    .dataframe tbody tr th:only-of-type {\n",
       "        vertical-align: middle;\n",
       "    }\n",
       "\n",
       "    .dataframe tbody tr th {\n",
       "        vertical-align: top;\n",
       "    }\n",
       "\n",
       "    .dataframe thead th {\n",
       "        text-align: right;\n",
       "    }\n",
       "</style>\n",
       "<table border=\"1\" class=\"dataframe\">\n",
       "  <thead>\n",
       "    <tr style=\"text-align: right;\">\n",
       "      <th>Churn Status</th>\n",
       "      <th>0</th>\n",
       "      <th>1</th>\n",
       "    </tr>\n",
       "    <tr>\n",
       "      <th>Has Credit Card</th>\n",
       "      <th></th>\n",
       "      <th></th>\n",
       "    </tr>\n",
       "  </thead>\n",
       "  <tbody>\n",
       "    <tr>\n",
       "      <th>0</th>\n",
       "      <td>1424</td>\n",
       "      <td>320</td>\n",
       "    </tr>\n",
       "    <tr>\n",
       "      <th>1</th>\n",
       "      <td>1692</td>\n",
       "      <td>180</td>\n",
       "    </tr>\n",
       "  </tbody>\n",
       "</table>\n",
       "</div>"
      ],
      "text/plain": [
       "Churn Status        0    1\n",
       "Has Credit Card           \n",
       "0                1424  320\n",
       "1                1692  180"
      ]
     },
     "execution_count": 922,
     "metadata": {},
     "output_type": "execute_result"
    }
   ],
   "source": [
    "pd.crosstab(no_saving_customer_df['hascrcard'],bank_account_df['exited'],rownames=['Has Credit Card'],colnames=['Churn Status'])"
   ]
  },
  {
   "cell_type": "code",
   "execution_count": 923,
   "id": "f9f12096",
   "metadata": {},
   "outputs": [],
   "source": [
    "potential_customers = no_saving_customer_df[(no_saving_customer_df['creditscore']>=700) &\n",
    "                      (no_saving_customer_df['estimatedsalary'] >= 100000) &\n",
    "                      (no_saving_customer_df['exited'] == 0)\n",
    "                     ]"
   ]
  },
  {
   "cell_type": "code",
   "execution_count": 924,
   "id": "790ac6ca",
   "metadata": {},
   "outputs": [
    {
     "data": {
      "text/html": [
       "<div>\n",
       "<style scoped>\n",
       "    .dataframe tbody tr th:only-of-type {\n",
       "        vertical-align: middle;\n",
       "    }\n",
       "\n",
       "    .dataframe tbody tr th {\n",
       "        vertical-align: top;\n",
       "    }\n",
       "\n",
       "    .dataframe thead th {\n",
       "        text-align: right;\n",
       "    }\n",
       "</style>\n",
       "<table border=\"1\" class=\"dataframe\">\n",
       "  <thead>\n",
       "    <tr style=\"text-align: right;\">\n",
       "      <th></th>\n",
       "      <th>balance</th>\n",
       "      <th>numofproducts</th>\n",
       "      <th>hascrcard</th>\n",
       "      <th>tenure</th>\n",
       "      <th>isactivemember</th>\n",
       "      <th>exited</th>\n",
       "      <th>creditscore</th>\n",
       "      <th>age</th>\n",
       "      <th>estimatedsalary</th>\n",
       "    </tr>\n",
       "  </thead>\n",
       "  <tbody>\n",
       "    <tr>\n",
       "      <th>count</th>\n",
       "      <td>480.0</td>\n",
       "      <td>480.000000</td>\n",
       "      <td>480.000000</td>\n",
       "      <td>480.000000</td>\n",
       "      <td>480.000000</td>\n",
       "      <td>480.0</td>\n",
       "      <td>480.000000</td>\n",
       "      <td>480.000000</td>\n",
       "      <td>480.000000</td>\n",
       "    </tr>\n",
       "    <tr>\n",
       "      <th>mean</th>\n",
       "      <td>0.0</td>\n",
       "      <td>1.864583</td>\n",
       "      <td>0.545833</td>\n",
       "      <td>5.154167</td>\n",
       "      <td>0.545833</td>\n",
       "      <td>0.0</td>\n",
       "      <td>758.675000</td>\n",
       "      <td>37.010417</td>\n",
       "      <td>149730.417167</td>\n",
       "    </tr>\n",
       "    <tr>\n",
       "      <th>std</th>\n",
       "      <td>0.0</td>\n",
       "      <td>0.371753</td>\n",
       "      <td>0.498414</td>\n",
       "      <td>2.825692</td>\n",
       "      <td>0.498414</td>\n",
       "      <td>0.0</td>\n",
       "      <td>44.677908</td>\n",
       "      <td>10.027202</td>\n",
       "      <td>28384.669531</td>\n",
       "    </tr>\n",
       "    <tr>\n",
       "      <th>min</th>\n",
       "      <td>0.0</td>\n",
       "      <td>1.000000</td>\n",
       "      <td>0.000000</td>\n",
       "      <td>0.000000</td>\n",
       "      <td>0.000000</td>\n",
       "      <td>0.0</td>\n",
       "      <td>700.000000</td>\n",
       "      <td>19.000000</td>\n",
       "      <td>100101.060000</td>\n",
       "    </tr>\n",
       "    <tr>\n",
       "      <th>25%</th>\n",
       "      <td>0.0</td>\n",
       "      <td>2.000000</td>\n",
       "      <td>0.000000</td>\n",
       "      <td>3.000000</td>\n",
       "      <td>0.000000</td>\n",
       "      <td>0.0</td>\n",
       "      <td>722.000000</td>\n",
       "      <td>30.000000</td>\n",
       "      <td>124458.567500</td>\n",
       "    </tr>\n",
       "    <tr>\n",
       "      <th>50%</th>\n",
       "      <td>0.0</td>\n",
       "      <td>2.000000</td>\n",
       "      <td>1.000000</td>\n",
       "      <td>5.000000</td>\n",
       "      <td>1.000000</td>\n",
       "      <td>0.0</td>\n",
       "      <td>748.000000</td>\n",
       "      <td>36.000000</td>\n",
       "      <td>149182.200000</td>\n",
       "    </tr>\n",
       "    <tr>\n",
       "      <th>75%</th>\n",
       "      <td>0.0</td>\n",
       "      <td>2.000000</td>\n",
       "      <td>1.000000</td>\n",
       "      <td>8.000000</td>\n",
       "      <td>1.000000</td>\n",
       "      <td>0.0</td>\n",
       "      <td>791.250000</td>\n",
       "      <td>41.000000</td>\n",
       "      <td>174432.127500</td>\n",
       "    </tr>\n",
       "    <tr>\n",
       "      <th>max</th>\n",
       "      <td>0.0</td>\n",
       "      <td>3.000000</td>\n",
       "      <td>1.000000</td>\n",
       "      <td>10.000000</td>\n",
       "      <td>1.000000</td>\n",
       "      <td>0.0</td>\n",
       "      <td>850.000000</td>\n",
       "      <td>85.000000</td>\n",
       "      <td>199775.670000</td>\n",
       "    </tr>\n",
       "  </tbody>\n",
       "</table>\n",
       "</div>"
      ],
      "text/plain": [
       "       balance  numofproducts   hascrcard      tenure  isactivemember  exited  \\\n",
       "count    480.0     480.000000  480.000000  480.000000      480.000000   480.0   \n",
       "mean       0.0       1.864583    0.545833    5.154167        0.545833     0.0   \n",
       "std        0.0       0.371753    0.498414    2.825692        0.498414     0.0   \n",
       "min        0.0       1.000000    0.000000    0.000000        0.000000     0.0   \n",
       "25%        0.0       2.000000    0.000000    3.000000        0.000000     0.0   \n",
       "50%        0.0       2.000000    1.000000    5.000000        1.000000     0.0   \n",
       "75%        0.0       2.000000    1.000000    8.000000        1.000000     0.0   \n",
       "max        0.0       3.000000    1.000000   10.000000        1.000000     0.0   \n",
       "\n",
       "       creditscore         age  estimatedsalary  \n",
       "count   480.000000  480.000000       480.000000  \n",
       "mean    758.675000   37.010417    149730.417167  \n",
       "std      44.677908   10.027202     28384.669531  \n",
       "min     700.000000   19.000000    100101.060000  \n",
       "25%     722.000000   30.000000    124458.567500  \n",
       "50%     748.000000   36.000000    149182.200000  \n",
       "75%     791.250000   41.000000    174432.127500  \n",
       "max     850.000000   85.000000    199775.670000  "
      ]
     },
     "execution_count": 924,
     "metadata": {},
     "output_type": "execute_result"
    }
   ],
   "source": [
    "potential_customers.describe()"
   ]
  },
  {
   "cell_type": "code",
   "execution_count": 925,
   "id": "daf2f692",
   "metadata": {},
   "outputs": [
    {
     "data": {
      "text/plain": [
       "age_group\n",
       "33-44       230\n",
       "24-32       154\n",
       "45-60        58\n",
       "above 60     20\n",
       "21-23        11\n",
       "18-20         7\n",
       "Name: count, dtype: int64"
      ]
     },
     "execution_count": 925,
     "metadata": {},
     "output_type": "execute_result"
    }
   ],
   "source": [
    "potential_customers['age_group'].value_counts()"
   ]
  },
  {
   "cell_type": "markdown",
   "id": "c7db9eef",
   "metadata": {},
   "source": [
    "Among no saving customers, there are over 10% of potential customers around 480 who have high credit score,high income by offering saving plan and there are also 50% of potential customers don't have credit card. By providing credit card, increase engagement and saving. Their age segments are 24-60 similar to overall customer age segment. it is better if we get customers demographic and jobs like self employed or staff and their company. we can provide more valuable and specific customer segment to marketing team. Our potential customers exists in france and spain for offering localized program."
   ]
  },
  {
   "cell_type": "code",
   "execution_count": 926,
   "id": "52a6f626",
   "metadata": {},
   "outputs": [
    {
     "data": {
      "text/plain": [
       "geography\n",
       "france    333\n",
       "spain     147\n",
       "Name: count, dtype: Int64"
      ]
     },
     "execution_count": 926,
     "metadata": {},
     "output_type": "execute_result"
    }
   ],
   "source": [
    "potential_customers['geography'].value_counts()"
   ]
  },
  {
   "cell_type": "code",
   "execution_count": 927,
   "id": "277e3a13",
   "metadata": {},
   "outputs": [
    {
     "data": {
      "text/plain": [
       "gender\n",
       "male      265\n",
       "female    215\n",
       "Name: count, dtype: Int64"
      ]
     },
     "execution_count": 927,
     "metadata": {},
     "output_type": "execute_result"
    }
   ],
   "source": [
    "potential_customers['gender'].value_counts()"
   ]
  },
  {
   "cell_type": "code",
   "execution_count": 928,
   "id": "005fd1ff",
   "metadata": {},
   "outputs": [
    {
     "data": {
      "image/png": "[encoded data removed]",
      "text/plain": [
       "<Figure size 1000x500 with 2 Axes>"
      ]
     },
     "metadata": {},
     "output_type": "display_data"
    }
   ],
   "source": [
    "numerical_columns = saving_customer_df.select_dtypes(include=np.number).columns\n",
    "saving_customer_corr = saving_customer_df[numerical_columns].corr()\n",
    "plt.figure(figsize=(10,5))\n",
    "sns.heatmap(saving_customer_corr,annot=True,cmap='coolwarm')\n",
    "plt.show()"
   ]
  },
  {
   "cell_type": "code",
   "execution_count": 929,
   "id": "4314371d",
   "metadata": {},
   "outputs": [
    {
     "data": {
      "text/html": [
       "<div>\n",
       "<style scoped>\n",
       "    .dataframe tbody tr th:only-of-type {\n",
       "        vertical-align: middle;\n",
       "    }\n",
       "\n",
       "    .dataframe tbody tr th {\n",
       "        vertical-align: top;\n",
       "    }\n",
       "\n",
       "    .dataframe thead th {\n",
       "        text-align: right;\n",
       "    }\n",
       "</style>\n",
       "<table border=\"1\" class=\"dataframe\">\n",
       "  <thead>\n",
       "    <tr style=\"text-align: right;\">\n",
       "      <th>Churn</th>\n",
       "      <th>0</th>\n",
       "      <th>1</th>\n",
       "    </tr>\n",
       "    <tr>\n",
       "      <th>Age Group</th>\n",
       "      <th></th>\n",
       "      <th></th>\n",
       "    </tr>\n",
       "  </thead>\n",
       "  <tbody>\n",
       "    <tr>\n",
       "      <th>18-20</th>\n",
       "      <td>94.339623</td>\n",
       "      <td>5.660377</td>\n",
       "    </tr>\n",
       "    <tr>\n",
       "      <th>21-23</th>\n",
       "      <td>88.965517</td>\n",
       "      <td>11.034483</td>\n",
       "    </tr>\n",
       "    <tr>\n",
       "      <th>24-32</th>\n",
       "      <td>90.604468</td>\n",
       "      <td>9.395532</td>\n",
       "    </tr>\n",
       "    <tr>\n",
       "      <th>33-44</th>\n",
       "      <td>80.829016</td>\n",
       "      <td>19.170984</td>\n",
       "    </tr>\n",
       "    <tr>\n",
       "      <th>45-60</th>\n",
       "      <td>45.768025</td>\n",
       "      <td>54.231975</td>\n",
       "    </tr>\n",
       "    <tr>\n",
       "      <th>above 60</th>\n",
       "      <td>69.360269</td>\n",
       "      <td>30.639731</td>\n",
       "    </tr>\n",
       "  </tbody>\n",
       "</table>\n",
       "</div>"
      ],
      "text/plain": [
       "Churn              0          1\n",
       "Age Group                      \n",
       "18-20      94.339623   5.660377\n",
       "21-23      88.965517  11.034483\n",
       "24-32      90.604468   9.395532\n",
       "33-44      80.829016  19.170984\n",
       "45-60      45.768025  54.231975\n",
       "above 60   69.360269  30.639731"
      ]
     },
     "execution_count": 929,
     "metadata": {},
     "output_type": "execute_result"
    }
   ],
   "source": [
    "pd.crosstab(saving_customer_df['age_group'],saving_customer_df['exited'],rownames=['Age Group'],colnames=['Churn'],normalize='index')*100"
   ]
  },
  {
   "cell_type": "code",
   "execution_count": 930,
   "id": "3faded1d",
   "metadata": {},
   "outputs": [
    {
     "data": {
      "text/html": [
       "<style type=\"text/css\">\n",
       "#T_110cb thead tr th:nth-child(1) {\n",
       "  position: sticky;\n",
       "  background-color: inherit;\n",
       "  left: 0px;\n",
       "  min-width: 75px;\n",
       "  max-width: 75px;\n",
       "  z-index: 3 !important;\n",
       "}\n",
       "#T_110cb tbody tr th.level0 {\n",
       "  position: sticky;\n",
       "  background-color: inherit;\n",
       "  left: 0px;\n",
       "  min-width: 75px;\n",
       "  max-width: 75px;\n",
       "  z-index: 1;\n",
       "}\n",
       "#T_110cb thead tr th:nth-child(2) {\n",
       "  position: sticky;\n",
       "  background-color: inherit;\n",
       "  left: 75px;\n",
       "  min-width: 75px;\n",
       "  max-width: 75px;\n",
       "  z-index: 3 !important;\n",
       "}\n",
       "#T_110cb tbody tr th.level1 {\n",
       "  position: sticky;\n",
       "  background-color: inherit;\n",
       "  left: 75px;\n",
       "  min-width: 75px;\n",
       "  max-width: 75px;\n",
       "  z-index: 1;\n",
       "}\n",
       "</style>\n",
       "<table id=\"T_110cb\">\n",
       "  <thead>\n",
       "    <tr>\n",
       "      <th class=\"blank\" >&nbsp;</th>\n",
       "      <th class=\"index_name level0\" >exited</th>\n",
       "      <th id=\"T_110cb_level0_col0\" class=\"col_heading level0 col0\" >0</th>\n",
       "      <th id=\"T_110cb_level0_col1\" class=\"col_heading level0 col1\" >1</th>\n",
       "    </tr>\n",
       "  </thead>\n",
       "  <tbody>\n",
       "    <tr>\n",
       "      <th id=\"T_110cb_level0_row0\" class=\"row_heading level0 row0\" rowspan=\"8\">balance</th>\n",
       "      <th id=\"T_110cb_level1_row0\" class=\"row_heading level1 row0\" >count</th>\n",
       "      <td id=\"T_110cb_row0_col0\" class=\"data row0 col0\" >4844.000000</td>\n",
       "      <td id=\"T_110cb_row0_col1\" class=\"data row0 col1\" >1537.000000</td>\n",
       "    </tr>\n",
       "    <tr>\n",
       "      <th id=\"T_110cb_level1_row1\" class=\"row_heading level1 row1\" >mean</th>\n",
       "      <td id=\"T_110cb_row1_col0\" class=\"data row1 col0\" >119531.225310</td>\n",
       "      <td id=\"T_110cb_row1_col1\" class=\"data row1 col1\" >120746.971132</td>\n",
       "    </tr>\n",
       "    <tr>\n",
       "      <th id=\"T_110cb_level1_row2\" class=\"row_heading level1 row2\" >std</th>\n",
       "      <td id=\"T_110cb_row2_col0\" class=\"data row2 col0\" >29949.467779</td>\n",
       "      <td id=\"T_110cb_row2_col1\" class=\"data row2 col1\" >30555.192802</td>\n",
       "    </tr>\n",
       "    <tr>\n",
       "      <th id=\"T_110cb_level1_row3\" class=\"row_heading level1 row3\" >min</th>\n",
       "      <td id=\"T_110cb_row3_col0\" class=\"data row3 col0\" >14262.800000</td>\n",
       "      <td id=\"T_110cb_row3_col1\" class=\"data row3 col1\" >3768.690000</td>\n",
       "    </tr>\n",
       "    <tr>\n",
       "      <th id=\"T_110cb_level1_row4\" class=\"row_heading level1 row4\" >25%</th>\n",
       "      <td id=\"T_110cb_row4_col0\" class=\"data row4 col0\" >99104.387500</td>\n",
       "      <td id=\"T_110cb_row4_col1\" class=\"data row4 col1\" >103700.690000</td>\n",
       "    </tr>\n",
       "    <tr>\n",
       "      <th id=\"T_110cb_level1_row5\" class=\"row_heading level1 row5\" >50%</th>\n",
       "      <td id=\"T_110cb_row5_col0\" class=\"data row5 col0\" >119786.615000</td>\n",
       "      <td id=\"T_110cb_row5_col1\" class=\"data row5 col1\" >119948.090000</td>\n",
       "    </tr>\n",
       "    <tr>\n",
       "      <th id=\"T_110cb_level1_row6\" class=\"row_heading level1 row6\" >75%</th>\n",
       "      <td id=\"T_110cb_row6_col0\" class=\"data row6 col0\" >139735.492500</td>\n",
       "      <td id=\"T_110cb_row6_col1\" class=\"data row6 col1\" >137986.580000</td>\n",
       "    </tr>\n",
       "    <tr>\n",
       "      <th id=\"T_110cb_level1_row7\" class=\"row_heading level1 row7\" >max</th>\n",
       "      <td id=\"T_110cb_row7_col0\" class=\"data row7 col0\" >221532.800000</td>\n",
       "      <td id=\"T_110cb_row7_col1\" class=\"data row7 col1\" >250898.090000</td>\n",
       "    </tr>\n",
       "    <tr>\n",
       "      <th id=\"T_110cb_level0_row8\" class=\"row_heading level0 row8\" rowspan=\"8\">numofproducts</th>\n",
       "      <th id=\"T_110cb_level1_row8\" class=\"row_heading level1 row8\" >count</th>\n",
       "      <td id=\"T_110cb_row8_col0\" class=\"data row8 col0\" >4844.000000</td>\n",
       "      <td id=\"T_110cb_row8_col1\" class=\"data row8 col1\" >1537.000000</td>\n",
       "    </tr>\n",
       "    <tr>\n",
       "      <th id=\"T_110cb_level1_row9\" class=\"row_heading level1 row9\" >mean</th>\n",
       "      <td id=\"T_110cb_row9_col0\" class=\"data row9 col0\" >1.360859</td>\n",
       "      <td id=\"T_110cb_row9_col1\" class=\"data row9 col1\" >1.465843</td>\n",
       "    </tr>\n",
       "    <tr>\n",
       "      <th id=\"T_110cb_level1_row10\" class=\"row_heading level1 row10\" >std</th>\n",
       "      <td id=\"T_110cb_row10_col0\" class=\"data row10 col0\" >0.484579</td>\n",
       "      <td id=\"T_110cb_row10_col1\" class=\"data row10 col1\" >0.796500</td>\n",
       "    </tr>\n",
       "    <tr>\n",
       "      <th id=\"T_110cb_level1_row11\" class=\"row_heading level1 row11\" >min</th>\n",
       "      <td id=\"T_110cb_row11_col0\" class=\"data row11 col0\" >1.000000</td>\n",
       "      <td id=\"T_110cb_row11_col1\" class=\"data row11 col1\" >1.000000</td>\n",
       "    </tr>\n",
       "    <tr>\n",
       "      <th id=\"T_110cb_level1_row12\" class=\"row_heading level1 row12\" >25%</th>\n",
       "      <td id=\"T_110cb_row12_col0\" class=\"data row12 col0\" >1.000000</td>\n",
       "      <td id=\"T_110cb_row12_col1\" class=\"data row12 col1\" >1.000000</td>\n",
       "    </tr>\n",
       "    <tr>\n",
       "      <th id=\"T_110cb_level1_row13\" class=\"row_heading level1 row13\" >50%</th>\n",
       "      <td id=\"T_110cb_row13_col0\" class=\"data row13 col0\" >1.000000</td>\n",
       "      <td id=\"T_110cb_row13_col1\" class=\"data row13 col1\" >1.000000</td>\n",
       "    </tr>\n",
       "    <tr>\n",
       "      <th id=\"T_110cb_level1_row14\" class=\"row_heading level1 row14\" >75%</th>\n",
       "      <td id=\"T_110cb_row14_col0\" class=\"data row14 col0\" >2.000000</td>\n",
       "      <td id=\"T_110cb_row14_col1\" class=\"data row14 col1\" >2.000000</td>\n",
       "    </tr>\n",
       "    <tr>\n",
       "      <th id=\"T_110cb_level1_row15\" class=\"row_heading level1 row15\" >max</th>\n",
       "      <td id=\"T_110cb_row15_col0\" class=\"data row15 col0\" >3.000000</td>\n",
       "      <td id=\"T_110cb_row15_col1\" class=\"data row15 col1\" >4.000000</td>\n",
       "    </tr>\n",
       "    <tr>\n",
       "      <th id=\"T_110cb_level0_row16\" class=\"row_heading level0 row16\" rowspan=\"8\">hascrcard</th>\n",
       "      <th id=\"T_110cb_level1_row16\" class=\"row_heading level1 row16\" >count</th>\n",
       "      <td id=\"T_110cb_row16_col0\" class=\"data row16 col0\" >4844.000000</td>\n",
       "      <td id=\"T_110cb_row16_col1\" class=\"data row16 col1\" >1537.000000</td>\n",
       "    </tr>\n",
       "    <tr>\n",
       "      <th id=\"T_110cb_level1_row17\" class=\"row_heading level1 row17\" >mean</th>\n",
       "      <td id=\"T_110cb_row17_col0\" class=\"data row17 col0\" >0.561932</td>\n",
       "      <td id=\"T_110cb_row17_col1\" class=\"data row17 col1\" >0.361093</td>\n",
       "    </tr>\n",
       "    <tr>\n",
       "      <th id=\"T_110cb_level1_row18\" class=\"row_heading level1 row18\" >std</th>\n",
       "      <td id=\"T_110cb_row18_col0\" class=\"data row18 col0\" >0.496201</td>\n",
       "      <td id=\"T_110cb_row18_col1\" class=\"data row18 col1\" >0.480474</td>\n",
       "    </tr>\n",
       "    <tr>\n",
       "      <th id=\"T_110cb_level1_row19\" class=\"row_heading level1 row19\" >min</th>\n",
       "      <td id=\"T_110cb_row19_col0\" class=\"data row19 col0\" >0.000000</td>\n",
       "      <td id=\"T_110cb_row19_col1\" class=\"data row19 col1\" >0.000000</td>\n",
       "    </tr>\n",
       "    <tr>\n",
       "      <th id=\"T_110cb_level1_row20\" class=\"row_heading level1 row20\" >25%</th>\n",
       "      <td id=\"T_110cb_row20_col0\" class=\"data row20 col0\" >0.000000</td>\n",
       "      <td id=\"T_110cb_row20_col1\" class=\"data row20 col1\" >0.000000</td>\n",
       "    </tr>\n",
       "    <tr>\n",
       "      <th id=\"T_110cb_level1_row21\" class=\"row_heading level1 row21\" >50%</th>\n",
       "      <td id=\"T_110cb_row21_col0\" class=\"data row21 col0\" >1.000000</td>\n",
       "      <td id=\"T_110cb_row21_col1\" class=\"data row21 col1\" >0.000000</td>\n",
       "    </tr>\n",
       "    <tr>\n",
       "      <th id=\"T_110cb_level1_row22\" class=\"row_heading level1 row22\" >75%</th>\n",
       "      <td id=\"T_110cb_row22_col0\" class=\"data row22 col0\" >1.000000</td>\n",
       "      <td id=\"T_110cb_row22_col1\" class=\"data row22 col1\" >1.000000</td>\n",
       "    </tr>\n",
       "    <tr>\n",
       "      <th id=\"T_110cb_level1_row23\" class=\"row_heading level1 row23\" >max</th>\n",
       "      <td id=\"T_110cb_row23_col0\" class=\"data row23 col0\" >1.000000</td>\n",
       "      <td id=\"T_110cb_row23_col1\" class=\"data row23 col1\" >1.000000</td>\n",
       "    </tr>\n",
       "    <tr>\n",
       "      <th id=\"T_110cb_level0_row24\" class=\"row_heading level0 row24\" rowspan=\"8\">tenure</th>\n",
       "      <th id=\"T_110cb_level1_row24\" class=\"row_heading level1 row24\" >count</th>\n",
       "      <td id=\"T_110cb_row24_col0\" class=\"data row24 col0\" >4844.000000</td>\n",
       "      <td id=\"T_110cb_row24_col1\" class=\"data row24 col1\" >1537.000000</td>\n",
       "    </tr>\n",
       "    <tr>\n",
       "      <th id=\"T_110cb_level1_row25\" class=\"row_heading level1 row25\" >mean</th>\n",
       "      <td id=\"T_110cb_row25_col0\" class=\"data row25 col0\" >4.981833</td>\n",
       "      <td id=\"T_110cb_row25_col1\" class=\"data row25 col1\" >4.973325</td>\n",
       "    </tr>\n",
       "    <tr>\n",
       "      <th id=\"T_110cb_level1_row26\" class=\"row_heading level1 row26\" >std</th>\n",
       "      <td id=\"T_110cb_row26_col0\" class=\"data row26 col0\" >2.900597</td>\n",
       "      <td id=\"T_110cb_row26_col1\" class=\"data row26 col1\" >2.939705</td>\n",
       "    </tr>\n",
       "    <tr>\n",
       "      <th id=\"T_110cb_level1_row27\" class=\"row_heading level1 row27\" >min</th>\n",
       "      <td id=\"T_110cb_row27_col0\" class=\"data row27 col0\" >0.000000</td>\n",
       "      <td id=\"T_110cb_row27_col1\" class=\"data row27 col1\" >0.000000</td>\n",
       "    </tr>\n",
       "    <tr>\n",
       "      <th id=\"T_110cb_level1_row28\" class=\"row_heading level1 row28\" >25%</th>\n",
       "      <td id=\"T_110cb_row28_col0\" class=\"data row28 col0\" >2.000000</td>\n",
       "      <td id=\"T_110cb_row28_col1\" class=\"data row28 col1\" >2.000000</td>\n",
       "    </tr>\n",
       "    <tr>\n",
       "      <th id=\"T_110cb_level1_row29\" class=\"row_heading level1 row29\" >50%</th>\n",
       "      <td id=\"T_110cb_row29_col0\" class=\"data row29 col0\" >5.000000</td>\n",
       "      <td id=\"T_110cb_row29_col1\" class=\"data row29 col1\" >5.000000</td>\n",
       "    </tr>\n",
       "    <tr>\n",
       "      <th id=\"T_110cb_level1_row30\" class=\"row_heading level1 row30\" >75%</th>\n",
       "      <td id=\"T_110cb_row30_col0\" class=\"data row30 col0\" >7.000000</td>\n",
       "      <td id=\"T_110cb_row30_col1\" class=\"data row30 col1\" >8.000000</td>\n",
       "    </tr>\n",
       "    <tr>\n",
       "      <th id=\"T_110cb_level1_row31\" class=\"row_heading level1 row31\" >max</th>\n",
       "      <td id=\"T_110cb_row31_col0\" class=\"data row31 col0\" >10.000000</td>\n",
       "      <td id=\"T_110cb_row31_col1\" class=\"data row31 col1\" >10.000000</td>\n",
       "    </tr>\n",
       "    <tr>\n",
       "      <th id=\"T_110cb_level0_row32\" class=\"row_heading level0 row32\" rowspan=\"8\">isactivemember</th>\n",
       "      <th id=\"T_110cb_level1_row32\" class=\"row_heading level1 row32\" >count</th>\n",
       "      <td id=\"T_110cb_row32_col0\" class=\"data row32 col0\" >4844.000000</td>\n",
       "      <td id=\"T_110cb_row32_col1\" class=\"data row32 col1\" >1537.000000</td>\n",
       "    </tr>\n",
       "    <tr>\n",
       "      <th id=\"T_110cb_level1_row33\" class=\"row_heading level1 row33\" >mean</th>\n",
       "      <td id=\"T_110cb_row33_col0\" class=\"data row33 col0\" >0.561932</td>\n",
       "      <td id=\"T_110cb_row33_col1\" class=\"data row33 col1\" >0.361093</td>\n",
       "    </tr>\n",
       "    <tr>\n",
       "      <th id=\"T_110cb_level1_row34\" class=\"row_heading level1 row34\" >std</th>\n",
       "      <td id=\"T_110cb_row34_col0\" class=\"data row34 col0\" >0.496201</td>\n",
       "      <td id=\"T_110cb_row34_col1\" class=\"data row34 col1\" >0.480474</td>\n",
       "    </tr>\n",
       "    <tr>\n",
       "      <th id=\"T_110cb_level1_row35\" class=\"row_heading level1 row35\" >min</th>\n",
       "      <td id=\"T_110cb_row35_col0\" class=\"data row35 col0\" >0.000000</td>\n",
       "      <td id=\"T_110cb_row35_col1\" class=\"data row35 col1\" >0.000000</td>\n",
       "    </tr>\n",
       "    <tr>\n",
       "      <th id=\"T_110cb_level1_row36\" class=\"row_heading level1 row36\" >25%</th>\n",
       "      <td id=\"T_110cb_row36_col0\" class=\"data row36 col0\" >0.000000</td>\n",
       "      <td id=\"T_110cb_row36_col1\" class=\"data row36 col1\" >0.000000</td>\n",
       "    </tr>\n",
       "    <tr>\n",
       "      <th id=\"T_110cb_level1_row37\" class=\"row_heading level1 row37\" >50%</th>\n",
       "      <td id=\"T_110cb_row37_col0\" class=\"data row37 col0\" >1.000000</td>\n",
       "      <td id=\"T_110cb_row37_col1\" class=\"data row37 col1\" >0.000000</td>\n",
       "    </tr>\n",
       "    <tr>\n",
       "      <th id=\"T_110cb_level1_row38\" class=\"row_heading level1 row38\" >75%</th>\n",
       "      <td id=\"T_110cb_row38_col0\" class=\"data row38 col0\" >1.000000</td>\n",
       "      <td id=\"T_110cb_row38_col1\" class=\"data row38 col1\" >1.000000</td>\n",
       "    </tr>\n",
       "    <tr>\n",
       "      <th id=\"T_110cb_level1_row39\" class=\"row_heading level1 row39\" >max</th>\n",
       "      <td id=\"T_110cb_row39_col0\" class=\"data row39 col0\" >1.000000</td>\n",
       "      <td id=\"T_110cb_row39_col1\" class=\"data row39 col1\" >1.000000</td>\n",
       "    </tr>\n",
       "    <tr>\n",
       "      <th id=\"T_110cb_level0_row40\" class=\"row_heading level0 row40\" rowspan=\"8\">creditscore</th>\n",
       "      <th id=\"T_110cb_level1_row40\" class=\"row_heading level1 row40\" >count</th>\n",
       "      <td id=\"T_110cb_row40_col0\" class=\"data row40 col0\" >4844.000000</td>\n",
       "      <td id=\"T_110cb_row40_col1\" class=\"data row40 col1\" >1537.000000</td>\n",
       "    </tr>\n",
       "    <tr>\n",
       "      <th id=\"T_110cb_level1_row41\" class=\"row_heading level1 row41\" >mean</th>\n",
       "      <td id=\"T_110cb_row41_col0\" class=\"data row41 col0\" >652.832164</td>\n",
       "      <td id=\"T_110cb_row41_col1\" class=\"data row41 col1\" >645.836044</td>\n",
       "    </tr>\n",
       "    <tr>\n",
       "      <th id=\"T_110cb_level1_row42\" class=\"row_heading level1 row42\" >std</th>\n",
       "      <td id=\"T_110cb_row42_col0\" class=\"data row42 col0\" >95.797187</td>\n",
       "      <td id=\"T_110cb_row42_col1\" class=\"data row42 col1\" >100.321815</td>\n",
       "    </tr>\n",
       "    <tr>\n",
       "      <th id=\"T_110cb_level1_row43\" class=\"row_heading level1 row43\" >min</th>\n",
       "      <td id=\"T_110cb_row43_col0\" class=\"data row43 col0\" >405.000000</td>\n",
       "      <td id=\"T_110cb_row43_col1\" class=\"data row43 col1\" >350.000000</td>\n",
       "    </tr>\n",
       "    <tr>\n",
       "      <th id=\"T_110cb_level1_row44\" class=\"row_heading level1 row44\" >25%</th>\n",
       "      <td id=\"T_110cb_row44_col0\" class=\"data row44 col0\" >587.000000</td>\n",
       "      <td id=\"T_110cb_row44_col1\" class=\"data row44 col1\" >578.000000</td>\n",
       "    </tr>\n",
       "    <tr>\n",
       "      <th id=\"T_110cb_level1_row45\" class=\"row_heading level1 row45\" >50%</th>\n",
       "      <td id=\"T_110cb_row45_col0\" class=\"data row45 col0\" >655.000000</td>\n",
       "      <td id=\"T_110cb_row45_col1\" class=\"data row45 col1\" >646.000000</td>\n",
       "    </tr>\n",
       "    <tr>\n",
       "      <th id=\"T_110cb_level1_row46\" class=\"row_heading level1 row46\" >75%</th>\n",
       "      <td id=\"T_110cb_row46_col0\" class=\"data row46 col0\" >718.000000</td>\n",
       "      <td id=\"T_110cb_row46_col1\" class=\"data row46 col1\" >716.000000</td>\n",
       "    </tr>\n",
       "    <tr>\n",
       "      <th id=\"T_110cb_level1_row47\" class=\"row_heading level1 row47\" >max</th>\n",
       "      <td id=\"T_110cb_row47_col0\" class=\"data row47 col0\" >850.000000</td>\n",
       "      <td id=\"T_110cb_row47_col1\" class=\"data row47 col1\" >850.000000</td>\n",
       "    </tr>\n",
       "    <tr>\n",
       "      <th id=\"T_110cb_level0_row48\" class=\"row_heading level0 row48\" rowspan=\"8\">age</th>\n",
       "      <th id=\"T_110cb_level1_row48\" class=\"row_heading level1 row48\" >count</th>\n",
       "      <td id=\"T_110cb_row48_col0\" class=\"data row48 col0\" >4844.000000</td>\n",
       "      <td id=\"T_110cb_row48_col1\" class=\"data row48 col1\" >1537.000000</td>\n",
       "    </tr>\n",
       "    <tr>\n",
       "      <th id=\"T_110cb_level1_row49\" class=\"row_heading level1 row49\" >mean</th>\n",
       "      <td id=\"T_110cb_row49_col0\" class=\"data row49 col0\" >37.417217</td>\n",
       "      <td id=\"T_110cb_row49_col1\" class=\"data row49 col1\" >44.806766</td>\n",
       "    </tr>\n",
       "    <tr>\n",
       "      <th id=\"T_110cb_level1_row50\" class=\"row_heading level1 row50\" >std</th>\n",
       "      <td id=\"T_110cb_row50_col0\" class=\"data row50 col0\" >10.053479</td>\n",
       "      <td id=\"T_110cb_row50_col1\" class=\"data row50 col1\" >9.789770</td>\n",
       "    </tr>\n",
       "    <tr>\n",
       "      <th id=\"T_110cb_level1_row51\" class=\"row_heading level1 row51\" >min</th>\n",
       "      <td id=\"T_110cb_row51_col0\" class=\"data row51 col0\" >18.000000</td>\n",
       "      <td id=\"T_110cb_row51_col1\" class=\"data row51 col1\" >19.000000</td>\n",
       "    </tr>\n",
       "    <tr>\n",
       "      <th id=\"T_110cb_level1_row52\" class=\"row_heading level1 row52\" >25%</th>\n",
       "      <td id=\"T_110cb_row52_col0\" class=\"data row52 col0\" >31.000000</td>\n",
       "      <td id=\"T_110cb_row52_col1\" class=\"data row52 col1\" >38.000000</td>\n",
       "    </tr>\n",
       "    <tr>\n",
       "      <th id=\"T_110cb_level1_row53\" class=\"row_heading level1 row53\" >50%</th>\n",
       "      <td id=\"T_110cb_row53_col0\" class=\"data row53 col0\" >36.000000</td>\n",
       "      <td id=\"T_110cb_row53_col1\" class=\"data row53 col1\" >45.000000</td>\n",
       "    </tr>\n",
       "    <tr>\n",
       "      <th id=\"T_110cb_level1_row54\" class=\"row_heading level1 row54\" >75%</th>\n",
       "      <td id=\"T_110cb_row54_col0\" class=\"data row54 col0\" >41.000000</td>\n",
       "      <td id=\"T_110cb_row54_col1\" class=\"data row54 col1\" >51.000000</td>\n",
       "    </tr>\n",
       "    <tr>\n",
       "      <th id=\"T_110cb_level1_row55\" class=\"row_heading level1 row55\" >max</th>\n",
       "      <td id=\"T_110cb_row55_col0\" class=\"data row55 col0\" >92.000000</td>\n",
       "      <td id=\"T_110cb_row55_col1\" class=\"data row55 col1\" >84.000000</td>\n",
       "    </tr>\n",
       "    <tr>\n",
       "      <th id=\"T_110cb_level0_row56\" class=\"row_heading level0 row56\" rowspan=\"8\">estimatedsalary</th>\n",
       "      <th id=\"T_110cb_level1_row56\" class=\"row_heading level1 row56\" >count</th>\n",
       "      <td id=\"T_110cb_row56_col0\" class=\"data row56 col0\" >4844.000000</td>\n",
       "      <td id=\"T_110cb_row56_col1\" class=\"data row56 col1\" >1537.000000</td>\n",
       "    </tr>\n",
       "    <tr>\n",
       "      <th id=\"T_110cb_level1_row57\" class=\"row_heading level1 row57\" >mean</th>\n",
       "      <td id=\"T_110cb_row57_col0\" class=\"data row57 col0\" >100512.800378</td>\n",
       "      <td id=\"T_110cb_row57_col1\" class=\"data row57 col1\" >101362.745940</td>\n",
       "    </tr>\n",
       "    <tr>\n",
       "      <th id=\"T_110cb_level1_row58\" class=\"row_heading level1 row58\" >std</th>\n",
       "      <td id=\"T_110cb_row58_col0\" class=\"data row58 col0\" >57233.146430</td>\n",
       "      <td id=\"T_110cb_row58_col1\" class=\"data row58 col1\" >57892.710621</td>\n",
       "    </tr>\n",
       "    <tr>\n",
       "      <th id=\"T_110cb_level1_row59\" class=\"row_heading level1 row59\" >min</th>\n",
       "      <td id=\"T_110cb_row59_col0\" class=\"data row59 col0\" >143.340000</td>\n",
       "      <td id=\"T_110cb_row59_col1\" class=\"data row59 col1\" >11.580000</td>\n",
       "    </tr>\n",
       "    <tr>\n",
       "      <th id=\"T_110cb_level1_row60\" class=\"row_heading level1 row60\" >25%</th>\n",
       "      <td id=\"T_110cb_row60_col0\" class=\"data row60 col0\" >51907.910000</td>\n",
       "      <td id=\"T_110cb_row60_col1\" class=\"data row60 col1\" >51548.140000</td>\n",
       "    </tr>\n",
       "    <tr>\n",
       "      <th id=\"T_110cb_level1_row61\" class=\"row_heading level1 row61\" >50%</th>\n",
       "      <td id=\"T_110cb_row61_col0\" class=\"data row61 col0\" >100754.450000</td>\n",
       "      <td id=\"T_110cb_row61_col1\" class=\"data row61 col1\" >102566.460000</td>\n",
       "    </tr>\n",
       "    <tr>\n",
       "      <th id=\"T_110cb_level1_row62\" class=\"row_heading level1 row62\" >75%</th>\n",
       "      <td id=\"T_110cb_row62_col0\" class=\"data row62 col0\" >149049.370000</td>\n",
       "      <td id=\"T_110cb_row62_col1\" class=\"data row62 col1\" >152450.840000</td>\n",
       "    </tr>\n",
       "    <tr>\n",
       "      <th id=\"T_110cb_level1_row63\" class=\"row_heading level1 row63\" >max</th>\n",
       "      <td id=\"T_110cb_row63_col0\" class=\"data row63 col0\" >199970.740000</td>\n",
       "      <td id=\"T_110cb_row63_col1\" class=\"data row63 col1\" >199808.100000</td>\n",
       "    </tr>\n",
       "  </tbody>\n",
       "</table>\n"
      ],
      "text/plain": [
       "<pandas.io.formats.style.Styler at 0x23091f6e850>"
      ]
     },
     "execution_count": 930,
     "metadata": {},
     "output_type": "execute_result"
    }
   ],
   "source": [
    "saving_customer_df.groupby('exited').describe().T.style.set_sticky()"
   ]
  },
  {
   "cell_type": "code",
   "execution_count": 931,
   "id": "9eb6995c",
   "metadata": {},
   "outputs": [
    {
     "data": {
      "text/html": [
       "<style type=\"text/css\">\n",
       "#T_69af7 thead tr th:nth-child(1) {\n",
       "  position: sticky;\n",
       "  background-color: inherit;\n",
       "  left: 0px;\n",
       "  min-width: 75px;\n",
       "  max-width: 75px;\n",
       "  z-index: 3 !important;\n",
       "}\n",
       "#T_69af7 tbody tr th.level0 {\n",
       "  position: sticky;\n",
       "  background-color: inherit;\n",
       "  left: 0px;\n",
       "  min-width: 75px;\n",
       "  max-width: 75px;\n",
       "  z-index: 1;\n",
       "}\n",
       "#T_69af7 thead tr th:nth-child(2) {\n",
       "  position: sticky;\n",
       "  background-color: inherit;\n",
       "  left: 75px;\n",
       "  min-width: 75px;\n",
       "  max-width: 75px;\n",
       "  z-index: 3 !important;\n",
       "}\n",
       "#T_69af7 tbody tr th.level1 {\n",
       "  position: sticky;\n",
       "  background-color: inherit;\n",
       "  left: 75px;\n",
       "  min-width: 75px;\n",
       "  max-width: 75px;\n",
       "  z-index: 1;\n",
       "}\n",
       "</style>\n",
       "<table id=\"T_69af7\">\n",
       "  <thead>\n",
       "    <tr>\n",
       "      <th class=\"blank\" >&nbsp;</th>\n",
       "      <th class=\"index_name level0\" >exited</th>\n",
       "      <th id=\"T_69af7_level0_col0\" class=\"col_heading level0 col0\" >0</th>\n",
       "      <th id=\"T_69af7_level0_col1\" class=\"col_heading level0 col1\" >1</th>\n",
       "    </tr>\n",
       "  </thead>\n",
       "  <tbody>\n",
       "    <tr>\n",
       "      <th id=\"T_69af7_level0_row0\" class=\"row_heading level0 row0\" rowspan=\"8\">balance</th>\n",
       "      <th id=\"T_69af7_level1_row0\" class=\"row_heading level1 row0\" >count</th>\n",
       "      <td id=\"T_69af7_row0_col0\" class=\"data row0 col0\" >7960.000000</td>\n",
       "      <td id=\"T_69af7_row0_col1\" class=\"data row0 col1\" >2037.000000</td>\n",
       "    </tr>\n",
       "    <tr>\n",
       "      <th id=\"T_69af7_level1_row1\" class=\"row_heading level1 row1\" >mean</th>\n",
       "      <td id=\"T_69af7_row1_col0\" class=\"data row1 col0\" >72739.856206</td>\n",
       "      <td id=\"T_69af7_row1_col1\" class=\"data row1 col1\" >91108.539337</td>\n",
       "    </tr>\n",
       "    <tr>\n",
       "      <th id=\"T_69af7_level1_row2\" class=\"row_heading level1 row2\" >std</th>\n",
       "      <td id=\"T_69af7_row2_col0\" class=\"data row2 col0\" >62847.640529</td>\n",
       "      <td id=\"T_69af7_row2_col1\" class=\"data row2 col1\" >58360.794816</td>\n",
       "    </tr>\n",
       "    <tr>\n",
       "      <th id=\"T_69af7_level1_row3\" class=\"row_heading level1 row3\" >min</th>\n",
       "      <td id=\"T_69af7_row3_col0\" class=\"data row3 col0\" >0.000000</td>\n",
       "      <td id=\"T_69af7_row3_col1\" class=\"data row3 col1\" >0.000000</td>\n",
       "    </tr>\n",
       "    <tr>\n",
       "      <th id=\"T_69af7_level1_row4\" class=\"row_heading level1 row4\" >25%</th>\n",
       "      <td id=\"T_69af7_row4_col0\" class=\"data row4 col0\" >0.000000</td>\n",
       "      <td id=\"T_69af7_row4_col1\" class=\"data row4 col1\" >38340.020000</td>\n",
       "    </tr>\n",
       "    <tr>\n",
       "      <th id=\"T_69af7_level1_row5\" class=\"row_heading level1 row5\" >50%</th>\n",
       "      <td id=\"T_69af7_row5_col0\" class=\"data row5 col0\" >92063.060000</td>\n",
       "      <td id=\"T_69af7_row5_col1\" class=\"data row5 col1\" >109349.290000</td>\n",
       "    </tr>\n",
       "    <tr>\n",
       "      <th id=\"T_69af7_level1_row6\" class=\"row_heading level1 row6\" >75%</th>\n",
       "      <td id=\"T_69af7_row6_col0\" class=\"data row6 col0\" >126401.230000</td>\n",
       "      <td id=\"T_69af7_row6_col1\" class=\"data row6 col1\" >131433.330000</td>\n",
       "    </tr>\n",
       "    <tr>\n",
       "      <th id=\"T_69af7_level1_row7\" class=\"row_heading level1 row7\" >max</th>\n",
       "      <td id=\"T_69af7_row7_col0\" class=\"data row7 col0\" >221532.800000</td>\n",
       "      <td id=\"T_69af7_row7_col1\" class=\"data row7 col1\" >250898.090000</td>\n",
       "    </tr>\n",
       "    <tr>\n",
       "      <th id=\"T_69af7_level0_row8\" class=\"row_heading level0 row8\" rowspan=\"8\">numofproducts</th>\n",
       "      <th id=\"T_69af7_level1_row8\" class=\"row_heading level1 row8\" >count</th>\n",
       "      <td id=\"T_69af7_row8_col0\" class=\"data row8 col0\" >7960.000000</td>\n",
       "      <td id=\"T_69af7_row8_col1\" class=\"data row8 col1\" >2037.000000</td>\n",
       "    </tr>\n",
       "    <tr>\n",
       "      <th id=\"T_69af7_level1_row9\" class=\"row_heading level1 row9\" >mean</th>\n",
       "      <td id=\"T_69af7_row9_col0\" class=\"data row9 col0\" >1.544472</td>\n",
       "      <td id=\"T_69af7_row9_col1\" class=\"data row9 col1\" >1.475209</td>\n",
       "    </tr>\n",
       "    <tr>\n",
       "      <th id=\"T_69af7_level1_row10\" class=\"row_heading level1 row10\" >std</th>\n",
       "      <td id=\"T_69af7_row10_col0\" class=\"data row10 col0\" >0.509522</td>\n",
       "      <td id=\"T_69af7_row10_col1\" class=\"data row10 col1\" >0.801521</td>\n",
       "    </tr>\n",
       "    <tr>\n",
       "      <th id=\"T_69af7_level1_row11\" class=\"row_heading level1 row11\" >min</th>\n",
       "      <td id=\"T_69af7_row11_col0\" class=\"data row11 col0\" >1.000000</td>\n",
       "      <td id=\"T_69af7_row11_col1\" class=\"data row11 col1\" >1.000000</td>\n",
       "    </tr>\n",
       "    <tr>\n",
       "      <th id=\"T_69af7_level1_row12\" class=\"row_heading level1 row12\" >25%</th>\n",
       "      <td id=\"T_69af7_row12_col0\" class=\"data row12 col0\" >1.000000</td>\n",
       "      <td id=\"T_69af7_row12_col1\" class=\"data row12 col1\" >1.000000</td>\n",
       "    </tr>\n",
       "    <tr>\n",
       "      <th id=\"T_69af7_level1_row13\" class=\"row_heading level1 row13\" >50%</th>\n",
       "      <td id=\"T_69af7_row13_col0\" class=\"data row13 col0\" >2.000000</td>\n",
       "      <td id=\"T_69af7_row13_col1\" class=\"data row13 col1\" >1.000000</td>\n",
       "    </tr>\n",
       "    <tr>\n",
       "      <th id=\"T_69af7_level1_row14\" class=\"row_heading level1 row14\" >75%</th>\n",
       "      <td id=\"T_69af7_row14_col0\" class=\"data row14 col0\" >2.000000</td>\n",
       "      <td id=\"T_69af7_row14_col1\" class=\"data row14 col1\" >2.000000</td>\n",
       "    </tr>\n",
       "    <tr>\n",
       "      <th id=\"T_69af7_level1_row15\" class=\"row_heading level1 row15\" >max</th>\n",
       "      <td id=\"T_69af7_row15_col0\" class=\"data row15 col0\" >3.000000</td>\n",
       "      <td id=\"T_69af7_row15_col1\" class=\"data row15 col1\" >4.000000</td>\n",
       "    </tr>\n",
       "    <tr>\n",
       "      <th id=\"T_69af7_level0_row16\" class=\"row_heading level0 row16\" rowspan=\"8\">hascrcard</th>\n",
       "      <th id=\"T_69af7_level1_row16\" class=\"row_heading level1 row16\" >count</th>\n",
       "      <td id=\"T_69af7_row16_col0\" class=\"data row16 col0\" >7960.000000</td>\n",
       "      <td id=\"T_69af7_row16_col1\" class=\"data row16 col1\" >2037.000000</td>\n",
       "    </tr>\n",
       "    <tr>\n",
       "      <th id=\"T_69af7_level1_row17\" class=\"row_heading level1 row17\" >mean</th>\n",
       "      <td id=\"T_69af7_row17_col0\" class=\"data row17 col0\" >0.554523</td>\n",
       "      <td id=\"T_69af7_row17_col1\" class=\"data row17 col1\" >0.360825</td>\n",
       "    </tr>\n",
       "    <tr>\n",
       "      <th id=\"T_69af7_level1_row18\" class=\"row_heading level1 row18\" >std</th>\n",
       "      <td id=\"T_69af7_row18_col0\" class=\"data row18 col0\" >0.497050</td>\n",
       "      <td id=\"T_69af7_row18_col1\" class=\"data row18 col1\" >0.480358</td>\n",
       "    </tr>\n",
       "    <tr>\n",
       "      <th id=\"T_69af7_level1_row19\" class=\"row_heading level1 row19\" >min</th>\n",
       "      <td id=\"T_69af7_row19_col0\" class=\"data row19 col0\" >0.000000</td>\n",
       "      <td id=\"T_69af7_row19_col1\" class=\"data row19 col1\" >0.000000</td>\n",
       "    </tr>\n",
       "    <tr>\n",
       "      <th id=\"T_69af7_level1_row20\" class=\"row_heading level1 row20\" >25%</th>\n",
       "      <td id=\"T_69af7_row20_col0\" class=\"data row20 col0\" >0.000000</td>\n",
       "      <td id=\"T_69af7_row20_col1\" class=\"data row20 col1\" >0.000000</td>\n",
       "    </tr>\n",
       "    <tr>\n",
       "      <th id=\"T_69af7_level1_row21\" class=\"row_heading level1 row21\" >50%</th>\n",
       "      <td id=\"T_69af7_row21_col0\" class=\"data row21 col0\" >1.000000</td>\n",
       "      <td id=\"T_69af7_row21_col1\" class=\"data row21 col1\" >0.000000</td>\n",
       "    </tr>\n",
       "    <tr>\n",
       "      <th id=\"T_69af7_level1_row22\" class=\"row_heading level1 row22\" >75%</th>\n",
       "      <td id=\"T_69af7_row22_col0\" class=\"data row22 col0\" >1.000000</td>\n",
       "      <td id=\"T_69af7_row22_col1\" class=\"data row22 col1\" >1.000000</td>\n",
       "    </tr>\n",
       "    <tr>\n",
       "      <th id=\"T_69af7_level1_row23\" class=\"row_heading level1 row23\" >max</th>\n",
       "      <td id=\"T_69af7_row23_col0\" class=\"data row23 col0\" >1.000000</td>\n",
       "      <td id=\"T_69af7_row23_col1\" class=\"data row23 col1\" >1.000000</td>\n",
       "    </tr>\n",
       "    <tr>\n",
       "      <th id=\"T_69af7_level0_row24\" class=\"row_heading level0 row24\" rowspan=\"8\">tenure</th>\n",
       "      <th id=\"T_69af7_level1_row24\" class=\"row_heading level1 row24\" >count</th>\n",
       "      <td id=\"T_69af7_row24_col0\" class=\"data row24 col0\" >7960.000000</td>\n",
       "      <td id=\"T_69af7_row24_col1\" class=\"data row24 col1\" >2037.000000</td>\n",
       "    </tr>\n",
       "    <tr>\n",
       "      <th id=\"T_69af7_level1_row25\" class=\"row_heading level1 row25\" >mean</th>\n",
       "      <td id=\"T_69af7_row25_col0\" class=\"data row25 col0\" >5.033794</td>\n",
       "      <td id=\"T_69af7_row25_col1\" class=\"data row25 col1\" >4.932744</td>\n",
       "    </tr>\n",
       "    <tr>\n",
       "      <th id=\"T_69af7_level1_row26\" class=\"row_heading level1 row26\" >std</th>\n",
       "      <td id=\"T_69af7_row26_col0\" class=\"data row26 col0\" >2.880889</td>\n",
       "      <td id=\"T_69af7_row26_col1\" class=\"data row26 col1\" >2.936106</td>\n",
       "    </tr>\n",
       "    <tr>\n",
       "      <th id=\"T_69af7_level1_row27\" class=\"row_heading level1 row27\" >min</th>\n",
       "      <td id=\"T_69af7_row27_col0\" class=\"data row27 col0\" >0.000000</td>\n",
       "      <td id=\"T_69af7_row27_col1\" class=\"data row27 col1\" >0.000000</td>\n",
       "    </tr>\n",
       "    <tr>\n",
       "      <th id=\"T_69af7_level1_row28\" class=\"row_heading level1 row28\" >25%</th>\n",
       "      <td id=\"T_69af7_row28_col0\" class=\"data row28 col0\" >3.000000</td>\n",
       "      <td id=\"T_69af7_row28_col1\" class=\"data row28 col1\" >2.000000</td>\n",
       "    </tr>\n",
       "    <tr>\n",
       "      <th id=\"T_69af7_level1_row29\" class=\"row_heading level1 row29\" >50%</th>\n",
       "      <td id=\"T_69af7_row29_col0\" class=\"data row29 col0\" >5.000000</td>\n",
       "      <td id=\"T_69af7_row29_col1\" class=\"data row29 col1\" >5.000000</td>\n",
       "    </tr>\n",
       "    <tr>\n",
       "      <th id=\"T_69af7_level1_row30\" class=\"row_heading level1 row30\" >75%</th>\n",
       "      <td id=\"T_69af7_row30_col0\" class=\"data row30 col0\" >7.000000</td>\n",
       "      <td id=\"T_69af7_row30_col1\" class=\"data row30 col1\" >8.000000</td>\n",
       "    </tr>\n",
       "    <tr>\n",
       "      <th id=\"T_69af7_level1_row31\" class=\"row_heading level1 row31\" >max</th>\n",
       "      <td id=\"T_69af7_row31_col0\" class=\"data row31 col0\" >10.000000</td>\n",
       "      <td id=\"T_69af7_row31_col1\" class=\"data row31 col1\" >10.000000</td>\n",
       "    </tr>\n",
       "    <tr>\n",
       "      <th id=\"T_69af7_level0_row32\" class=\"row_heading level0 row32\" rowspan=\"8\">isactivemember</th>\n",
       "      <th id=\"T_69af7_level1_row32\" class=\"row_heading level1 row32\" >count</th>\n",
       "      <td id=\"T_69af7_row32_col0\" class=\"data row32 col0\" >7960.000000</td>\n",
       "      <td id=\"T_69af7_row32_col1\" class=\"data row32 col1\" >2037.000000</td>\n",
       "    </tr>\n",
       "    <tr>\n",
       "      <th id=\"T_69af7_level1_row33\" class=\"row_heading level1 row33\" >mean</th>\n",
       "      <td id=\"T_69af7_row33_col0\" class=\"data row33 col0\" >0.554523</td>\n",
       "      <td id=\"T_69af7_row33_col1\" class=\"data row33 col1\" >0.360825</td>\n",
       "    </tr>\n",
       "    <tr>\n",
       "      <th id=\"T_69af7_level1_row34\" class=\"row_heading level1 row34\" >std</th>\n",
       "      <td id=\"T_69af7_row34_col0\" class=\"data row34 col0\" >0.497050</td>\n",
       "      <td id=\"T_69af7_row34_col1\" class=\"data row34 col1\" >0.480358</td>\n",
       "    </tr>\n",
       "    <tr>\n",
       "      <th id=\"T_69af7_level1_row35\" class=\"row_heading level1 row35\" >min</th>\n",
       "      <td id=\"T_69af7_row35_col0\" class=\"data row35 col0\" >0.000000</td>\n",
       "      <td id=\"T_69af7_row35_col1\" class=\"data row35 col1\" >0.000000</td>\n",
       "    </tr>\n",
       "    <tr>\n",
       "      <th id=\"T_69af7_level1_row36\" class=\"row_heading level1 row36\" >25%</th>\n",
       "      <td id=\"T_69af7_row36_col0\" class=\"data row36 col0\" >0.000000</td>\n",
       "      <td id=\"T_69af7_row36_col1\" class=\"data row36 col1\" >0.000000</td>\n",
       "    </tr>\n",
       "    <tr>\n",
       "      <th id=\"T_69af7_level1_row37\" class=\"row_heading level1 row37\" >50%</th>\n",
       "      <td id=\"T_69af7_row37_col0\" class=\"data row37 col0\" >1.000000</td>\n",
       "      <td id=\"T_69af7_row37_col1\" class=\"data row37 col1\" >0.000000</td>\n",
       "    </tr>\n",
       "    <tr>\n",
       "      <th id=\"T_69af7_level1_row38\" class=\"row_heading level1 row38\" >75%</th>\n",
       "      <td id=\"T_69af7_row38_col0\" class=\"data row38 col0\" >1.000000</td>\n",
       "      <td id=\"T_69af7_row38_col1\" class=\"data row38 col1\" >1.000000</td>\n",
       "    </tr>\n",
       "    <tr>\n",
       "      <th id=\"T_69af7_level1_row39\" class=\"row_heading level1 row39\" >max</th>\n",
       "      <td id=\"T_69af7_row39_col0\" class=\"data row39 col0\" >1.000000</td>\n",
       "      <td id=\"T_69af7_row39_col1\" class=\"data row39 col1\" >1.000000</td>\n",
       "    </tr>\n",
       "    <tr>\n",
       "      <th id=\"T_69af7_level0_row40\" class=\"row_heading level0 row40\" rowspan=\"8\">creditscore</th>\n",
       "      <th id=\"T_69af7_level1_row40\" class=\"row_heading level1 row40\" >count</th>\n",
       "      <td id=\"T_69af7_row40_col0\" class=\"data row40 col0\" >7960.000000</td>\n",
       "      <td id=\"T_69af7_row40_col1\" class=\"data row40 col1\" >2037.000000</td>\n",
       "    </tr>\n",
       "    <tr>\n",
       "      <th id=\"T_69af7_level1_row41\" class=\"row_heading level1 row41\" >mean</th>\n",
       "      <td id=\"T_69af7_row41_col0\" class=\"data row41 col0\" >651.874497</td>\n",
       "      <td id=\"T_69af7_row41_col1\" class=\"data row41 col1\" >645.351497</td>\n",
       "    </tr>\n",
       "    <tr>\n",
       "      <th id=\"T_69af7_level1_row42\" class=\"row_heading level1 row42\" >std</th>\n",
       "      <td id=\"T_69af7_row42_col0\" class=\"data row42 col0\" >95.659046</td>\n",
       "      <td id=\"T_69af7_row42_col1\" class=\"data row42 col1\" >100.321503</td>\n",
       "    </tr>\n",
       "    <tr>\n",
       "      <th id=\"T_69af7_level1_row43\" class=\"row_heading level1 row43\" >min</th>\n",
       "      <td id=\"T_69af7_row43_col0\" class=\"data row43 col0\" >405.000000</td>\n",
       "      <td id=\"T_69af7_row43_col1\" class=\"data row43 col1\" >350.000000</td>\n",
       "    </tr>\n",
       "    <tr>\n",
       "      <th id=\"T_69af7_level1_row44\" class=\"row_heading level1 row44\" >25%</th>\n",
       "      <td id=\"T_69af7_row44_col0\" class=\"data row44 col0\" >585.000000</td>\n",
       "      <td id=\"T_69af7_row44_col1\" class=\"data row44 col1\" >578.000000</td>\n",
       "    </tr>\n",
       "    <tr>\n",
       "      <th id=\"T_69af7_level1_row45\" class=\"row_heading level1 row45\" >50%</th>\n",
       "      <td id=\"T_69af7_row45_col0\" class=\"data row45 col0\" >653.000000</td>\n",
       "      <td id=\"T_69af7_row45_col1\" class=\"data row45 col1\" >646.000000</td>\n",
       "    </tr>\n",
       "    <tr>\n",
       "      <th id=\"T_69af7_level1_row46\" class=\"row_heading level1 row46\" >75%</th>\n",
       "      <td id=\"T_69af7_row46_col0\" class=\"data row46 col0\" >718.000000</td>\n",
       "      <td id=\"T_69af7_row46_col1\" class=\"data row46 col1\" >716.000000</td>\n",
       "    </tr>\n",
       "    <tr>\n",
       "      <th id=\"T_69af7_level1_row47\" class=\"row_heading level1 row47\" >max</th>\n",
       "      <td id=\"T_69af7_row47_col0\" class=\"data row47 col0\" >850.000000</td>\n",
       "      <td id=\"T_69af7_row47_col1\" class=\"data row47 col1\" >850.000000</td>\n",
       "    </tr>\n",
       "    <tr>\n",
       "      <th id=\"T_69af7_level0_row48\" class=\"row_heading level0 row48\" rowspan=\"8\">age</th>\n",
       "      <th id=\"T_69af7_level1_row48\" class=\"row_heading level1 row48\" >count</th>\n",
       "      <td id=\"T_69af7_row48_col0\" class=\"data row48 col0\" >7960.000000</td>\n",
       "      <td id=\"T_69af7_row48_col1\" class=\"data row48 col1\" >2037.000000</td>\n",
       "    </tr>\n",
       "    <tr>\n",
       "      <th id=\"T_69af7_level1_row49\" class=\"row_heading level1 row49\" >mean</th>\n",
       "      <td id=\"T_69af7_row49_col0\" class=\"data row49 col0\" >37.408166</td>\n",
       "      <td id=\"T_69af7_row49_col1\" class=\"data row49 col1\" >44.837997</td>\n",
       "    </tr>\n",
       "    <tr>\n",
       "      <th id=\"T_69af7_level1_row50\" class=\"row_heading level1 row50\" >std</th>\n",
       "      <td id=\"T_69af7_row50_col0\" class=\"data row50 col0\" >10.126880</td>\n",
       "      <td id=\"T_69af7_row50_col1\" class=\"data row50 col1\" >9.761562</td>\n",
       "    </tr>\n",
       "    <tr>\n",
       "      <th id=\"T_69af7_level1_row51\" class=\"row_heading level1 row51\" >min</th>\n",
       "      <td id=\"T_69af7_row51_col0\" class=\"data row51 col0\" >18.000000</td>\n",
       "      <td id=\"T_69af7_row51_col1\" class=\"data row51 col1\" >18.000000</td>\n",
       "    </tr>\n",
       "    <tr>\n",
       "      <th id=\"T_69af7_level1_row52\" class=\"row_heading level1 row52\" >25%</th>\n",
       "      <td id=\"T_69af7_row52_col0\" class=\"data row52 col0\" >31.000000</td>\n",
       "      <td id=\"T_69af7_row52_col1\" class=\"data row52 col1\" >38.000000</td>\n",
       "    </tr>\n",
       "    <tr>\n",
       "      <th id=\"T_69af7_level1_row53\" class=\"row_heading level1 row53\" >50%</th>\n",
       "      <td id=\"T_69af7_row53_col0\" class=\"data row53 col0\" >36.000000</td>\n",
       "      <td id=\"T_69af7_row53_col1\" class=\"data row53 col1\" >45.000000</td>\n",
       "    </tr>\n",
       "    <tr>\n",
       "      <th id=\"T_69af7_level1_row54\" class=\"row_heading level1 row54\" >75%</th>\n",
       "      <td id=\"T_69af7_row54_col0\" class=\"data row54 col0\" >41.000000</td>\n",
       "      <td id=\"T_69af7_row54_col1\" class=\"data row54 col1\" >51.000000</td>\n",
       "    </tr>\n",
       "    <tr>\n",
       "      <th id=\"T_69af7_level1_row55\" class=\"row_heading level1 row55\" >max</th>\n",
       "      <td id=\"T_69af7_row55_col0\" class=\"data row55 col0\" >92.000000</td>\n",
       "      <td id=\"T_69af7_row55_col1\" class=\"data row55 col1\" >84.000000</td>\n",
       "    </tr>\n",
       "    <tr>\n",
       "      <th id=\"T_69af7_level0_row56\" class=\"row_heading level0 row56\" rowspan=\"8\">estimatedsalary</th>\n",
       "      <th id=\"T_69af7_level1_row56\" class=\"row_heading level1 row56\" >count</th>\n",
       "      <td id=\"T_69af7_row56_col0\" class=\"data row56 col0\" >7960.000000</td>\n",
       "      <td id=\"T_69af7_row56_col1\" class=\"data row56 col1\" >2037.000000</td>\n",
       "    </tr>\n",
       "    <tr>\n",
       "      <th id=\"T_69af7_level1_row57\" class=\"row_heading level1 row57\" >mean</th>\n",
       "      <td id=\"T_69af7_row57_col0\" class=\"data row57 col0\" >99740.749342</td>\n",
       "      <td id=\"T_69af7_row57_col1\" class=\"data row57 col1\" >101465.677531</td>\n",
       "    </tr>\n",
       "    <tr>\n",
       "      <th id=\"T_69af7_level1_row58\" class=\"row_heading level1 row58\" >std</th>\n",
       "      <td id=\"T_69af7_row58_col0\" class=\"data row58 col0\" >57415.983838</td>\n",
       "      <td id=\"T_69af7_row58_col1\" class=\"data row58 col1\" >57912.418071</td>\n",
       "    </tr>\n",
       "    <tr>\n",
       "      <th id=\"T_69af7_level1_row59\" class=\"row_heading level1 row59\" >min</th>\n",
       "      <td id=\"T_69af7_row59_col0\" class=\"data row59 col0\" >90.070000</td>\n",
       "      <td id=\"T_69af7_row59_col1\" class=\"data row59 col1\" >11.580000</td>\n",
       "    </tr>\n",
       "    <tr>\n",
       "      <th id=\"T_69af7_level1_row60\" class=\"row_heading level1 row60\" >25%</th>\n",
       "      <td id=\"T_69af7_row60_col0\" class=\"data row60 col0\" >50781.767500</td>\n",
       "      <td id=\"T_69af7_row60_col1\" class=\"data row60 col1\" >51907.720000</td>\n",
       "    </tr>\n",
       "    <tr>\n",
       "      <th id=\"T_69af7_level1_row61\" class=\"row_heading level1 row61\" >50%</th>\n",
       "      <td id=\"T_69af7_row61_col0\" class=\"data row61 col0\" >99620.355000</td>\n",
       "      <td id=\"T_69af7_row61_col1\" class=\"data row61 col1\" >102460.840000</td>\n",
       "    </tr>\n",
       "    <tr>\n",
       "      <th id=\"T_69af7_level1_row62\" class=\"row_heading level1 row62\" >75%</th>\n",
       "      <td id=\"T_69af7_row62_col0\" class=\"data row62 col0\" >148630.922500</td>\n",
       "      <td id=\"T_69af7_row62_col1\" class=\"data row62 col1\" >152422.910000</td>\n",
       "    </tr>\n",
       "    <tr>\n",
       "      <th id=\"T_69af7_level1_row63\" class=\"row_heading level1 row63\" >max</th>\n",
       "      <td id=\"T_69af7_row63_col0\" class=\"data row63 col0\" >199992.480000</td>\n",
       "      <td id=\"T_69af7_row63_col1\" class=\"data row63 col1\" >199808.100000</td>\n",
       "    </tr>\n",
       "  </tbody>\n",
       "</table>\n"
      ],
      "text/plain": [
       "<pandas.io.formats.style.Styler at 0x23091f6e990>"
      ]
     },
     "execution_count": 931,
     "metadata": {},
     "output_type": "execute_result"
    }
   ],
   "source": [
    "bank_account_df.groupby('exited').describe().T.style.set_sticky()"
   ]
  },
  {
   "cell_type": "code",
   "execution_count": 932,
   "id": "c862a138",
   "metadata": {},
   "outputs": [
    {
     "data": {
      "text/plain": [
       "0.022727272727272728"
      ]
     },
     "execution_count": 932,
     "metadata": {},
     "output_type": "execute_result"
    }
   ],
   "source": [
    "1/44"
   ]
  },
  {
   "cell_type": "code",
   "execution_count": 933,
   "id": "d29807b6",
   "metadata": {},
   "outputs": [
    {
     "data": {
      "text/plain": [
       "0.0030721966205837174"
      ]
     },
     "execution_count": 933,
     "metadata": {},
     "output_type": "execute_result"
    }
   ],
   "source": [
    "2/651"
   ]
  },
  {
   "cell_type": "code",
   "execution_count": 934,
   "id": "217f7387",
   "metadata": {},
   "outputs": [],
   "source": [
    "products_churn_group = bank_account_df[bank_account_df['exited']==1]['numofproducts']\n",
    "products_non_churn_group = bank_account_df[bank_account_df['exited']==0]['numofproducts']"
   ]
  },
  {
   "cell_type": "code",
   "execution_count": 935,
   "id": "b66fd468",
   "metadata": {},
   "outputs": [
    {
     "name": "stdout",
     "output_type": "stream",
     "text": [
      "MannwhitneyuResult(statistic=np.float64(6826628.0), pvalue=np.float64(4.4636029186050926e-36))\n"
     ]
    }
   ],
   "source": [
    "from scipy.stats import mannwhitneyu\n",
    "print(mannwhitneyu(products_churn_group,products_non_churn_group,alternative='two-sided'))"
   ]
  },
  {
   "cell_type": "markdown",
   "id": "d8b6618e",
   "metadata": {},
   "source": [
    "## **Add to Streamlit**\n",
    "\n",
    "**Number of Products have significant difference between churner and non-churners. According to statstic sign, churn group customers hold more products. Customers who hold more than 2 products, they are more likely to churn.**"
   ]
  },
  {
   "cell_type": "code",
   "execution_count": 936,
   "id": "58fd948e",
   "metadata": {},
   "outputs": [
    {
     "data": {
      "text/plain": [
       "<Axes: xlabel='exited', ylabel='numofproducts'>"
      ]
     },
     "execution_count": 936,
     "metadata": {},
     "output_type": "execute_result"
    },
    {
     "data": {
      "image/png": "[encoded data removed]",
      "text/plain": [
       "<Figure size 640x480 with 1 Axes>"
      ]
     },
     "metadata": {},
     "output_type": "display_data"
    }
   ],
   "source": [
    "sns.boxplot(bank_account_df,x='exited',y='numofproducts')"
   ]
  },
  {
   "cell_type": "code",
   "execution_count": 937,
   "id": "3c4c3e1f",
   "metadata": {},
   "outputs": [
    {
     "data": {
      "text/plain": [
       "<Axes: xlabel='numofproducts', ylabel='Count'>"
      ]
     },
     "execution_count": 937,
     "metadata": {},
     "output_type": "execute_result"
    },
    {
     "data": {
      "image/png": "[encoded data removed]",
      "text/plain": [
       "<Figure size 640x480 with 1 Axes>"
      ]
     },
     "metadata": {},
     "output_type": "display_data"
    }
   ],
   "source": [
    "sns.histplot(products_churn_group,bins=30)"
   ]
  },
  {
   "cell_type": "code",
   "execution_count": 938,
   "id": "229dc4b1",
   "metadata": {},
   "outputs": [
    {
     "data": {
      "text/plain": [
       "<Axes: xlabel='numofproducts', ylabel='Count'>"
      ]
     },
     "execution_count": 938,
     "metadata": {},
     "output_type": "execute_result"
    },
    {
     "data": {
      "image/png": "[encoded data removed]",
      "text/plain": [
       "<Figure size 640x480 with 1 Axes>"
      ]
     },
     "metadata": {},
     "output_type": "display_data"
    }
   ],
   "source": [
    "sns.histplot(products_non_churn_group,bins=30)"
   ]
  },
  {
   "cell_type": "code",
   "execution_count": 939,
   "id": "3a8a5e49",
   "metadata": {},
   "outputs": [
    {
     "data": {
      "text/html": [
       "<div>\n",
       "<style scoped>\n",
       "    .dataframe tbody tr th:only-of-type {\n",
       "        vertical-align: middle;\n",
       "    }\n",
       "\n",
       "    .dataframe tbody tr th {\n",
       "        vertical-align: top;\n",
       "    }\n",
       "\n",
       "    .dataframe thead th {\n",
       "        text-align: right;\n",
       "    }\n",
       "</style>\n",
       "<table border=\"1\" class=\"dataframe\">\n",
       "  <thead>\n",
       "    <tr style=\"text-align: right;\">\n",
       "      <th>exited</th>\n",
       "      <th>0</th>\n",
       "      <th>1</th>\n",
       "    </tr>\n",
       "    <tr>\n",
       "      <th>numofproducts</th>\n",
       "      <th></th>\n",
       "      <th></th>\n",
       "    </tr>\n",
       "  </thead>\n",
       "  <tbody>\n",
       "    <tr>\n",
       "      <th>1</th>\n",
       "      <td>0.722692</td>\n",
       "      <td>0.277308</td>\n",
       "    </tr>\n",
       "    <tr>\n",
       "      <th>2</th>\n",
       "      <td>0.924183</td>\n",
       "      <td>0.075817</td>\n",
       "    </tr>\n",
       "    <tr>\n",
       "      <th>3</th>\n",
       "      <td>0.172932</td>\n",
       "      <td>0.827068</td>\n",
       "    </tr>\n",
       "    <tr>\n",
       "      <th>4</th>\n",
       "      <td>0.000000</td>\n",
       "      <td>1.000000</td>\n",
       "    </tr>\n",
       "  </tbody>\n",
       "</table>\n",
       "</div>"
      ],
      "text/plain": [
       "exited                0         1\n",
       "numofproducts                    \n",
       "1              0.722692  0.277308\n",
       "2              0.924183  0.075817\n",
       "3              0.172932  0.827068\n",
       "4              0.000000  1.000000"
      ]
     },
     "execution_count": 939,
     "metadata": {},
     "output_type": "execute_result"
    }
   ],
   "source": [
    "pd.crosstab(bank_account_df['numofproducts'],bank_account_df['exited'],normalize='index')"
   ]
  },
  {
   "cell_type": "code",
   "execution_count": 940,
   "id": "456a2383",
   "metadata": {},
   "outputs": [],
   "source": [
    "creditscore_churn_group = bank_account_df[bank_account_df['exited']==1]['creditscore']\n",
    "creditscore_non_churn_group = bank_account_df[bank_account_df['exited']==0]['creditscore']"
   ]
  },
  {
   "cell_type": "code",
   "execution_count": 941,
   "id": "25679945",
   "metadata": {},
   "outputs": [
    {
     "data": {
      "text/plain": [
       "<Axes: xlabel='creditscore', ylabel='Count'>"
      ]
     },
     "execution_count": 941,
     "metadata": {},
     "output_type": "execute_result"
    },
    {
     "data": {
      "image/png": "[encoded data removed]",
      "text/plain": [
       "<Figure size 640x480 with 1 Axes>"
      ]
     },
     "metadata": {},
     "output_type": "display_data"
    }
   ],
   "source": [
    "sns.histplot(creditscore_churn_group,bins=30,kde=True)"
   ]
  },
  {
   "cell_type": "code",
   "execution_count": 942,
   "id": "8f779339",
   "metadata": {},
   "outputs": [
    {
     "data": {
      "text/plain": [
       "<Axes: xlabel='creditscore', ylabel='Count'>"
      ]
     },
     "execution_count": 942,
     "metadata": {},
     "output_type": "execute_result"
    },
    {
     "data": {
      "image/png": "[encoded data removed]",
      "text/plain": [
       "<Figure size 640x480 with 1 Axes>"
      ]
     },
     "metadata": {},
     "output_type": "display_data"
    }
   ],
   "source": [
    "sns.histplot(creditscore_non_churn_group,bins=30,kde=True)"
   ]
  },
  {
   "cell_type": "code",
   "execution_count": 943,
   "id": "24ef0163",
   "metadata": {},
   "outputs": [
    {
     "name": "stdout",
     "output_type": "stream",
     "text": [
      "LeveneResult(statistic=np.float64(5.509894925242024), pvalue=np.float64(0.018928585311909843))\n"
     ]
    }
   ],
   "source": [
    "from scipy.stats import levene\n",
    "print(levene(creditscore_churn_group,creditscore_non_churn_group))"
   ]
  },
  {
   "cell_type": "code",
   "execution_count": 944,
   "id": "3cc3f804",
   "metadata": {},
   "outputs": [
    {
     "data": {
      "text/plain": [
       "TtestResult(statistic=np.float64(-2.6431713142700652), pvalue=np.float64(0.0082553481599834), df=np.float64(3051.39873579452))"
      ]
     },
     "execution_count": 944,
     "metadata": {},
     "output_type": "execute_result"
    }
   ],
   "source": [
    "from scipy.stats import ttest_ind\n",
    "ttest_ind(creditscore_churn_group,creditscore_non_churn_group,equal_var=False)"
   ]
  },
  {
   "cell_type": "code",
   "execution_count": 945,
   "id": "85f28381",
   "metadata": {},
   "outputs": [
    {
     "data": {
      "text/plain": [
       "<Axes: xlabel='exited', ylabel='creditscore'>"
      ]
     },
     "execution_count": 945,
     "metadata": {},
     "output_type": "execute_result"
    },
    {
     "data": {
      "image/png": "[encoded data removed]",
      "text/plain": [
       "<Figure size 640x480 with 1 Axes>"
      ]
     },
     "metadata": {},
     "output_type": "display_data"
    }
   ],
   "source": [
    "sns.boxplot(bank_account_df,x='exited',y='creditscore')"
   ]
  },
  {
   "cell_type": "markdown",
   "id": "be693fab",
   "metadata": {},
   "source": [
    "# **Streamlit To add**\n",
    "According to Ttest result, lower credit score customers are more likely to churn.We need to explore why lower credit score customers are higher churn."
   ]
  },
  {
   "cell_type": "code",
   "execution_count": 946,
   "id": "1982e1eb",
   "metadata": {},
   "outputs": [],
   "source": [
    "age_churn_group = bank_account_df[bank_account_df['exited']==1]['age']\n",
    "age_non_churn_group = bank_account_df[bank_account_df['exited']==0]['age']"
   ]
  },
  {
   "cell_type": "code",
   "execution_count": 947,
   "id": "a2f02c13",
   "metadata": {},
   "outputs": [
    {
     "data": {
      "text/plain": [
       "<Axes: xlabel='age', ylabel='Count'>"
      ]
     },
     "execution_count": 947,
     "metadata": {},
     "output_type": "execute_result"
    },
    {
     "data": {
      "image/png": "[encoded data removed]",
      "text/plain": [
       "<Figure size 640x480 with 1 Axes>"
      ]
     },
     "metadata": {},
     "output_type": "display_data"
    }
   ],
   "source": [
    "sns.histplot(age_churn_group,bins=30,kde=True)"
   ]
  },
  {
   "cell_type": "code",
   "execution_count": 948,
   "id": "f9e26f0c",
   "metadata": {},
   "outputs": [
    {
     "data": {
      "text/plain": [
       "<Axes: xlabel='age', ylabel='Count'>"
      ]
     },
     "execution_count": 948,
     "metadata": {},
     "output_type": "execute_result"
    },
    {
     "data": {
      "image/png": "[encoded data removed]",
      "text/plain": [
       "<Figure size 640x480 with 1 Axes>"
      ]
     },
     "metadata": {},
     "output_type": "display_data"
    }
   ],
   "source": [
    "sns.histplot(age_non_churn_group,bins=30,kde=True)"
   ]
  },
  {
   "cell_type": "code",
   "execution_count": 949,
   "id": "6020ba54",
   "metadata": {},
   "outputs": [
    {
     "data": {
      "text/plain": [
       "LeveneResult(statistic=np.float64(12.993575861412747), pvalue=np.float64(0.00031408224628594095))"
      ]
     },
     "execution_count": 949,
     "metadata": {},
     "output_type": "execute_result"
    }
   ],
   "source": [
    "levene(age_churn_group,age_non_churn_group)"
   ]
  },
  {
   "cell_type": "code",
   "execution_count": 950,
   "id": "0666a173",
   "metadata": {},
   "outputs": [
    {
     "data": {
      "text/plain": [
       "TtestResult(statistic=np.float64(30.417889044303532), pvalue=np.float64(4.80213021198845e-179), df=np.float64(3248.894728555323))"
      ]
     },
     "execution_count": 950,
     "metadata": {},
     "output_type": "execute_result"
    }
   ],
   "source": [
    "ttest_ind(age_churn_group,age_non_churn_group,equal_var=False,alternative='two-sided')"
   ]
  },
  {
   "cell_type": "markdown",
   "id": "833062ae",
   "metadata": {},
   "source": [
    "# **Streamlit to Add**\n",
    "\n",
    "Old customers are morelikely to churn than younger customers. So retention plan need to focus on young customer. Marketing team should focus on digital campaign or socail media active to increase retention rate while take care of old customer to reduce churn rate by providing incentive plan or loyalty program."
   ]
  },
  {
   "cell_type": "markdown",
   "id": "14e0d88f",
   "metadata": {},
   "source": [
    "Saving amount and income of  churners are slightly higher than non churners. In credit score, churner is lower than non churners. Age 40 to 60 customers are more likely to leave our bank. So marketing team should provided offer plan  related with credit card and restrict loan plan to potential customers for 40 to 60 aged customers. Customer duration is not relevant with churn."
   ]
  },
  {
   "cell_type": "code",
   "execution_count": 951,
   "id": "c8daa19c",
   "metadata": {},
   "outputs": [],
   "source": [
    "saving_churn_customer_df =saving_customer_df[saving_customer_df['exited']==1]\n",
    "saving_non_churn_customer_df = saving_customer_df[saving_customer_df['exited']==0]"
   ]
  },
  {
   "cell_type": "code",
   "execution_count": 952,
   "id": "bdfc1a50",
   "metadata": {},
   "outputs": [
    {
     "data": {
      "text/plain": [
       "<Axes: xlabel='balance', ylabel='Count'>"
      ]
     },
     "execution_count": 952,
     "metadata": {},
     "output_type": "execute_result"
    },
    {
     "data": {
      "image/png": "[encoded data removed]",
      "text/plain": [
       "<Figure size 640x480 with 1 Axes>"
      ]
     },
     "metadata": {},
     "output_type": "display_data"
    }
   ],
   "source": [
    "sns.histplot(saving_churn_customer_df,x='balance',bins=30,kde=True)"
   ]
  },
  {
   "cell_type": "code",
   "execution_count": 953,
   "id": "8ce72aa0",
   "metadata": {},
   "outputs": [
    {
     "data": {
      "text/plain": [
       "<Axes: xlabel='balance', ylabel='Count'>"
      ]
     },
     "execution_count": 953,
     "metadata": {},
     "output_type": "execute_result"
    },
    {
     "data": {
      "image/png": "[encoded data removed]",
      "text/plain": [
       "<Figure size 640x480 with 1 Axes>"
      ]
     },
     "metadata": {},
     "output_type": "display_data"
    }
   ],
   "source": [
    "sns.histplot(saving_non_churn_customer_df,x='balance',bins=30,kde=True)"
   ]
  },
  {
   "cell_type": "code",
   "execution_count": 954,
   "id": "56571779",
   "metadata": {},
   "outputs": [
    {
     "name": "stdout",
     "output_type": "stream",
     "text": [
      "2.945753863336243 0.08615206557576904\n"
     ]
    }
   ],
   "source": [
    "saving_churn_group = saving_churn_customer_df['balance']\n",
    "saving_non_churn_group = saving_non_churn_customer_df['balance']\n",
    "levene_stat,p_val = levene(saving_churn_group,saving_non_churn_group)\n",
    "print(levene_stat,p_val)"
   ]
  },
  {
   "cell_type": "code",
   "execution_count": 955,
   "id": "129dc4fc",
   "metadata": {},
   "outputs": [
    {
     "name": "stdout",
     "output_type": "stream",
     "text": [
      "1.3798197713690539 0.16769050368669355\n"
     ]
    }
   ],
   "source": [
    "ttest_stat,p_val = ttest_ind(saving_churn_group,saving_non_churn_group)\n",
    "print(ttest_stat,p_val)"
   ]
  },
  {
   "cell_type": "markdown",
   "id": "af90e8df",
   "metadata": {},
   "source": [
    "According to T Test result, saving doesn't impact on churn."
   ]
  },
  {
   "cell_type": "code",
   "execution_count": 956,
   "id": "df91dd41",
   "metadata": {},
   "outputs": [],
   "source": [
    "income_churn_group = bank_account_df[bank_account_df['exited']==1]['estimatedsalary']\n",
    "income_non_churn_group = bank_account_df[bank_account_df['exited']==0]['estimatedsalary']"
   ]
  },
  {
   "cell_type": "code",
   "execution_count": 957,
   "id": "7f317b40",
   "metadata": {},
   "outputs": [
    {
     "data": {
      "text/plain": [
       "<Axes: xlabel='estimatedsalary', ylabel='Count'>"
      ]
     },
     "execution_count": 957,
     "metadata": {},
     "output_type": "execute_result"
    },
    {
     "data": {
      "image/png": "[encoded data removed]",
      "text/plain": [
       "<Figure size 640x480 with 1 Axes>"
      ]
     },
     "metadata": {},
     "output_type": "display_data"
    }
   ],
   "source": [
    "sns.histplot(income_churn_group,bins=30,kde=True)"
   ]
  },
  {
   "cell_type": "code",
   "execution_count": 958,
   "id": "f5a1958d",
   "metadata": {},
   "outputs": [
    {
     "data": {
      "text/plain": [
       "<Axes: xlabel='estimatedsalary', ylabel='Count'>"
      ]
     },
     "execution_count": 958,
     "metadata": {},
     "output_type": "execute_result"
    },
    {
     "data": {
      "image/png": "[encoded data removed]",
      "text/plain": [
       "<Figure size 640x480 with 1 Axes>"
      ]
     },
     "metadata": {},
     "output_type": "display_data"
    }
   ],
   "source": [
    "sns.histplot(income_non_churn_group,bins=30,kde=True)"
   ]
  },
  {
   "cell_type": "code",
   "execution_count": 959,
   "id": "43ff83a5",
   "metadata": {},
   "outputs": [
    {
     "name": "stdout",
     "output_type": "stream",
     "text": [
      "8247444.0 0.22778365666167566\n"
     ]
    }
   ],
   "source": [
    "mannwhitneyu_stats,p_val = mannwhitneyu(income_churn_group,income_non_churn_group,alternative='two-sided')\n",
    "print(mannwhitneyu_stats,p_val)"
   ]
  },
  {
   "cell_type": "markdown",
   "id": "7eab165a",
   "metadata": {},
   "source": [
    "According to Man Whitneyu test result, there is no significant difference between churnner and non churner of income."
   ]
  },
  {
   "cell_type": "code",
   "execution_count": 960,
   "id": "8a73d834",
   "metadata": {},
   "outputs": [],
   "source": [
    "bank_account_df['saving'] = bank_account_df['balance'].apply(lambda x:1 if x>0 else 0)"
   ]
  },
  {
   "cell_type": "code",
   "execution_count": 961,
   "id": "62f9d1cc",
   "metadata": {},
   "outputs": [
    {
     "data": {
      "text/plain": [
       "Index(['balance', 'numofproducts', 'hascrcard', 'tenure', 'isactivemember',\n",
       "       'exited', 'creditscore', 'geography', 'gender', 'age',\n",
       "       'estimatedsalary', 'estimatedsalary_group', 'age_group', 'saving'],\n",
       "      dtype='object')"
      ]
     },
     "execution_count": 961,
     "metadata": {},
     "output_type": "execute_result"
    }
   ],
   "source": [
    "bank_account_df.columns"
   ]
  },
  {
   "cell_type": "code",
   "execution_count": 962,
   "id": "96215980",
   "metadata": {},
   "outputs": [
    {
     "data": {
      "text/plain": [
       "<Axes: xlabel='balance', ylabel='Count'>"
      ]
     },
     "execution_count": 962,
     "metadata": {},
     "output_type": "execute_result"
    },
    {
     "data": {
      "image/png": "[encoded data removed]",
      "text/plain": [
       "<Figure size 640x480 with 1 Axes>"
      ]
     },
     "metadata": {},
     "output_type": "display_data"
    }
   ],
   "source": [
    "sns.histplot(bank_account_df['balance'],bins=30,kde=True)"
   ]
  },
  {
   "cell_type": "code",
   "execution_count": 963,
   "id": "ea9d090f",
   "metadata": {},
   "outputs": [
    {
     "data": {
      "text/plain": [
       "saving_group\n",
       "1 lakhs - 1.5 lakhs    3828\n",
       "no saving              3616\n",
       "50k-1 lakhs            1509\n",
       "1.5 lakhs - 2 lakhs     935\n",
       "below 50k                75\n",
       "above 2 lakhs            34\n",
       "Name: count, dtype: int64"
      ]
     },
     "execution_count": 963,
     "metadata": {},
     "output_type": "execute_result"
    }
   ],
   "source": [
    "bank_account_df['saving_group'] = pd.cut(bank_account_df['balance'],bins=[-1,0,50000,100000,150000,200000,300000],labels=['no saving','below 50k','50k-1 lakhs','1 lakhs - 1.5 lakhs','1.5 lakhs - 2 lakhs','above 2 lakhs'])\n",
    "bank_account_df['saving_group'].value_counts()"
   ]
  },
  {
   "cell_type": "code",
   "execution_count": 964,
   "id": "a5bf1785",
   "metadata": {},
   "outputs": [
    {
     "data": {
      "text/plain": [
       "<Axes: xlabel='creditscore', ylabel='Count'>"
      ]
     },
     "execution_count": 964,
     "metadata": {},
     "output_type": "execute_result"
    },
    {
     "data": {
      "image/png": "[encoded data removed]",
      "text/plain": [
       "<Figure size 640x480 with 1 Axes>"
      ]
     },
     "metadata": {},
     "output_type": "display_data"
    }
   ],
   "source": [
    "sns.histplot(bank_account_df['creditscore'],bins=30,kde=True)"
   ]
  },
  {
   "cell_type": "code",
   "execution_count": 965,
   "id": "7d17f161",
   "metadata": {},
   "outputs": [],
   "source": [
    "bank_account_df['creditscore_group'] = pd.cut(bank_account_df['creditscore'],bins=[0,650,700,850],labels=['below 650','650-700','above 700'])"
   ]
  },
  {
   "cell_type": "code",
   "execution_count": 966,
   "id": "3b346234",
   "metadata": {},
   "outputs": [
    {
     "data": {
      "text/plain": [
       "creditscore_group\n",
       "below 650    4935\n",
       "above 700    3116\n",
       "650-700      1946\n",
       "Name: count, dtype: int64"
      ]
     },
     "execution_count": 966,
     "metadata": {},
     "output_type": "execute_result"
    }
   ],
   "source": [
    "bank_account_df['creditscore_group'].value_counts()"
   ]
  },
  {
   "cell_type": "code",
   "execution_count": 967,
   "id": "4a7c1754",
   "metadata": {},
   "outputs": [
    {
     "data": {
      "text/plain": [
       "Index(['balance', 'numofproducts', 'hascrcard', 'tenure', 'isactivemember',\n",
       "       'exited', 'creditscore', 'geography', 'gender', 'age',\n",
       "       'estimatedsalary', 'estimatedsalary_group', 'age_group', 'saving',\n",
       "       'saving_group', 'creditscore_group'],\n",
       "      dtype='object')"
      ]
     },
     "execution_count": 967,
     "metadata": {},
     "output_type": "execute_result"
    }
   ],
   "source": [
    "bank_account_df.columns"
   ]
  },
  {
   "cell_type": "code",
   "execution_count": 968,
   "id": "43f2029b",
   "metadata": {},
   "outputs": [
    {
     "data": {
      "image/png": "[encoded data removed]",
      "text/plain": [
       "<Figure size 640x480 with 1 Axes>"
      ]
     },
     "metadata": {},
     "output_type": "display_data"
    },
    {
     "data": {
      "image/png": "[encoded data removed]",
      "text/plain": [
       "<Figure size 640x480 with 1 Axes>"
      ]
     },
     "metadata": {},
     "output_type": "display_data"
    },
    {
     "data": {
      "image/png": "[encoded data removed]",
      "text/plain": [
       "<Figure size 640x480 with 1 Axes>"
      ]
     },
     "metadata": {},
     "output_type": "display_data"
    },
    {
     "data": {
      "image/png": "[encoded data removed]",
      "text/plain": [
       "<Figure size 640x480 with 1 Axes>"
      ]
     },
     "metadata": {},
     "output_type": "display_data"
    },
    {
     "data": {
      "image/png": "[encoded data removed]",
      "text/plain": [
       "<Figure size 640x480 with 1 Axes>"
      ]
     },
     "metadata": {},
     "output_type": "display_data"
    },
    {
     "data": {
      "image/png": "[encoded data removed]",
      "text/plain": [
       "<Figure size 640x480 with 1 Axes>"
      ]
     },
     "metadata": {},
     "output_type": "display_data"
    },
    {
     "data": {
      "image/png": "[encoded data removed]",
      "text/plain": [
       "<Figure size 640x480 with 1 Axes>"
      ]
     },
     "metadata": {},
     "output_type": "display_data"
    },
    {
     "data": {
      "image/png": "[encoded data removed]",
      "text/plain": [
       "<Figure size 640x480 with 1 Axes>"
      ]
     },
     "metadata": {},
     "output_type": "display_data"
    },
    {
     "data": {
      "image/png": "[encoded data removed]",
      "text/plain": [
       "<Figure size 640x480 with 1 Axes>"
      ]
     },
     "metadata": {},
     "output_type": "display_data"
    },
    {
     "data": {
      "image/png": "[encoded data removed]",
      "text/plain": [
       "<Figure size 640x480 with 1 Axes>"
      ]
     },
     "metadata": {},
     "output_type": "display_data"
    }
   ],
   "source": [
    "saving_categorical_columns = ['numofproducts', 'hascrcard', 'tenure', 'isactivemember',\n",
    "       'exited', 'geography', 'gender','estimatedsalary_group', 'age_group','creditscore_group']\n",
    "for col in saving_categorical_columns:\n",
    "    ct = pd.crosstab(bank_account_df[col],bank_account_df['saving'],normalize='index')\n",
    "    ct.plot(kind='bar',stacked=True,color=['orange','skyblue'])\n",
    "    plt.legend(loc='upper right',labels=['No Saving','Saving'])\n",
    "    plt.show()"
   ]
  },
  {
   "cell_type": "markdown",
   "id": "26eaf089",
   "metadata": {},
   "source": [
    "Around 38 percent of france and spain customers are no saving customers and all germany customers are saving customers. "
   ]
  },
  {
   "cell_type": "code",
   "execution_count": 969,
   "id": "839d62bb",
   "metadata": {},
   "outputs": [
    {
     "data": {
      "text/html": [
       "<div>\n",
       "<style scoped>\n",
       "    .dataframe tbody tr th:only-of-type {\n",
       "        vertical-align: middle;\n",
       "    }\n",
       "\n",
       "    .dataframe tbody tr th {\n",
       "        vertical-align: top;\n",
       "    }\n",
       "\n",
       "    .dataframe thead th {\n",
       "        text-align: right;\n",
       "    }\n",
       "</style>\n",
       "<table border=\"1\" class=\"dataframe\">\n",
       "  <thead>\n",
       "    <tr style=\"text-align: right;\">\n",
       "      <th>Gender</th>\n",
       "      <th>female</th>\n",
       "      <th>male</th>\n",
       "    </tr>\n",
       "    <tr>\n",
       "      <th>Geography</th>\n",
       "      <th></th>\n",
       "      <th></th>\n",
       "    </tr>\n",
       "  </thead>\n",
       "  <tbody>\n",
       "    <tr>\n",
       "      <th>france</th>\n",
       "      <td>1108</td>\n",
       "      <td>1309</td>\n",
       "    </tr>\n",
       "    <tr>\n",
       "      <th>spain</th>\n",
       "      <td>545</td>\n",
       "      <td>654</td>\n",
       "    </tr>\n",
       "  </tbody>\n",
       "</table>\n",
       "</div>"
      ],
      "text/plain": [
       "Gender     female  male\n",
       "Geography              \n",
       "france       1108  1309\n",
       "spain         545   654"
      ]
     },
     "execution_count": 969,
     "metadata": {},
     "output_type": "execute_result"
    }
   ],
   "source": [
    "pd.crosstab(no_saving_customer_df['geography'],no_saving_customer_df['gender'],rownames=['Geography'],colnames=['Gender'])"
   ]
  },
  {
   "cell_type": "code",
   "execution_count": 970,
   "id": "25848a49",
   "metadata": {},
   "outputs": [
    {
     "data": {
      "text/html": [
       "<style type=\"text/css\">\n",
       "#T_8fd91 thead tr th:nth-child(1) {\n",
       "  position: sticky;\n",
       "  background-color: inherit;\n",
       "  left: 0px;\n",
       "  min-width: 75px;\n",
       "  max-width: 75px;\n",
       "  z-index: 3 !important;\n",
       "}\n",
       "#T_8fd91 tbody tr th.level0 {\n",
       "  position: sticky;\n",
       "  background-color: inherit;\n",
       "  left: 0px;\n",
       "  min-width: 75px;\n",
       "  max-width: 75px;\n",
       "  z-index: 1;\n",
       "}\n",
       "#T_8fd91 thead tr th:nth-child(2) {\n",
       "  position: sticky;\n",
       "  background-color: inherit;\n",
       "  left: 75px;\n",
       "  min-width: 75px;\n",
       "  max-width: 75px;\n",
       "  z-index: 3 !important;\n",
       "}\n",
       "#T_8fd91 tbody tr th.level1 {\n",
       "  position: sticky;\n",
       "  background-color: inherit;\n",
       "  left: 75px;\n",
       "  min-width: 75px;\n",
       "  max-width: 75px;\n",
       "  z-index: 1;\n",
       "}\n",
       "</style>\n",
       "<table id=\"T_8fd91\">\n",
       "  <thead>\n",
       "    <tr>\n",
       "      <th class=\"blank\" >&nbsp;</th>\n",
       "      <th class=\"index_name level0\" >geography</th>\n",
       "      <th id=\"T_8fd91_level0_col0\" class=\"col_heading level0 col0\" >france</th>\n",
       "      <th id=\"T_8fd91_level0_col1\" class=\"col_heading level0 col1\" >germany</th>\n",
       "      <th id=\"T_8fd91_level0_col2\" class=\"col_heading level0 col2\" >spain</th>\n",
       "    </tr>\n",
       "  </thead>\n",
       "  <tbody>\n",
       "    <tr>\n",
       "      <th id=\"T_8fd91_level0_row0\" class=\"row_heading level0 row0\" rowspan=\"8\">balance</th>\n",
       "      <th id=\"T_8fd91_level1_row0\" class=\"row_heading level1 row0\" >count</th>\n",
       "      <td id=\"T_8fd91_row0_col0\" class=\"data row0 col0\" >2596.000000</td>\n",
       "      <td id=\"T_8fd91_row0_col1\" class=\"data row0 col1\" >2508.000000</td>\n",
       "      <td id=\"T_8fd91_row0_col2\" class=\"data row0 col2\" >1277.000000</td>\n",
       "    </tr>\n",
       "    <tr>\n",
       "      <th id=\"T_8fd91_level1_row1\" class=\"row_heading level1 row1\" >mean</th>\n",
       "      <td id=\"T_8fd91_row1_col0\" class=\"data row1 col0\" >119927.765597</td>\n",
       "      <td id=\"T_8fd91_row1_col1\" class=\"data row1 col1\" >119721.495993</td>\n",
       "      <td id=\"T_8fd91_row1_col2\" class=\"data row1 col2\" >119814.689577</td>\n",
       "    </tr>\n",
       "    <tr>\n",
       "      <th id=\"T_8fd91_level1_row2\" class=\"row_heading level1 row2\" >std</th>\n",
       "      <td id=\"T_8fd91_row2_col0\" class=\"data row2 col0\" >31732.792620</td>\n",
       "      <td id=\"T_8fd91_row2_col1\" class=\"data row2 col1\" >27023.944318</td>\n",
       "      <td id=\"T_8fd91_row2_col2\" class=\"data row2 col2\" >32355.361987</td>\n",
       "    </tr>\n",
       "    <tr>\n",
       "      <th id=\"T_8fd91_level1_row3\" class=\"row_heading level1 row3\" >min</th>\n",
       "      <td id=\"T_8fd91_row3_col0\" class=\"data row3 col0\" >3768.690000</td>\n",
       "      <td id=\"T_8fd91_row3_col1\" class=\"data row3 col1\" >27288.430000</td>\n",
       "      <td id=\"T_8fd91_row3_col2\" class=\"data row3 col2\" >12459.190000</td>\n",
       "    </tr>\n",
       "    <tr>\n",
       "      <th id=\"T_8fd91_level1_row4\" class=\"row_heading level1 row4\" >25%</th>\n",
       "      <td id=\"T_8fd91_row4_col0\" class=\"data row4 col0\" >98440.985000</td>\n",
       "      <td id=\"T_8fd91_row4_col1\" class=\"data row4 col1\" >102796.830000</td>\n",
       "      <td id=\"T_8fd91_row4_col2\" class=\"data row4 col2\" >98052.660000</td>\n",
       "    </tr>\n",
       "    <tr>\n",
       "      <th id=\"T_8fd91_level1_row5\" class=\"row_heading level1 row5\" >50%</th>\n",
       "      <td id=\"T_8fd91_row5_col0\" class=\"data row5 col0\" >120135.155000</td>\n",
       "      <td id=\"T_8fd91_row5_col1\" class=\"data row5 col1\" >119699.425000</td>\n",
       "      <td id=\"T_8fd91_row5_col2\" class=\"data row5 col2\" >119670.180000</td>\n",
       "    </tr>\n",
       "    <tr>\n",
       "      <th id=\"T_8fd91_level1_row6\" class=\"row_heading level1 row6\" >75%</th>\n",
       "      <td id=\"T_8fd91_row6_col0\" class=\"data row6 col0\" >141143.112500</td>\n",
       "      <td id=\"T_8fd91_row6_col1\" class=\"data row6 col1\" >137499.442500</td>\n",
       "      <td id=\"T_8fd91_row6_col2\" class=\"data row6 col2\" >140355.600000</td>\n",
       "    </tr>\n",
       "    <tr>\n",
       "      <th id=\"T_8fd91_level1_row7\" class=\"row_heading level1 row7\" >max</th>\n",
       "      <td id=\"T_8fd91_row7_col0\" class=\"data row7 col0\" >238387.560000</td>\n",
       "      <td id=\"T_8fd91_row7_col1\" class=\"data row7 col1\" >214346.960000</td>\n",
       "      <td id=\"T_8fd91_row7_col2\" class=\"data row7 col2\" >250898.090000</td>\n",
       "    </tr>\n",
       "    <tr>\n",
       "      <th id=\"T_8fd91_level0_row8\" class=\"row_heading level0 row8\" rowspan=\"8\">numofproducts</th>\n",
       "      <th id=\"T_8fd91_level1_row8\" class=\"row_heading level1 row8\" >count</th>\n",
       "      <td id=\"T_8fd91_row8_col0\" class=\"data row8 col0\" >2596.000000</td>\n",
       "      <td id=\"T_8fd91_row8_col1\" class=\"data row8 col1\" >2508.000000</td>\n",
       "      <td id=\"T_8fd91_row8_col2\" class=\"data row8 col2\" >1277.000000</td>\n",
       "    </tr>\n",
       "    <tr>\n",
       "      <th id=\"T_8fd91_level1_row9\" class=\"row_heading level1 row9\" >mean</th>\n",
       "      <td id=\"T_8fd91_row9_col0\" class=\"data row9 col0\" >1.297766</td>\n",
       "      <td id=\"T_8fd91_row9_col1\" class=\"data row9 col1\" >1.519936</td>\n",
       "      <td id=\"T_8fd91_row9_col2\" class=\"data row9 col2\" >1.303054</td>\n",
       "    </tr>\n",
       "    <tr>\n",
       "      <th id=\"T_8fd91_level1_row10\" class=\"row_heading level1 row10\" >std</th>\n",
       "      <td id=\"T_8fd91_row10_col0\" class=\"data row10 col0\" >0.533584</td>\n",
       "      <td id=\"T_8fd91_row10_col1\" class=\"data row10 col1\" >0.619457</td>\n",
       "      <td id=\"T_8fd91_row10_col2\" class=\"data row10 col2\" >0.523521</td>\n",
       "    </tr>\n",
       "    <tr>\n",
       "      <th id=\"T_8fd91_level1_row11\" class=\"row_heading level1 row11\" >min</th>\n",
       "      <td id=\"T_8fd91_row11_col0\" class=\"data row11 col0\" >1.000000</td>\n",
       "      <td id=\"T_8fd91_row11_col1\" class=\"data row11 col1\" >1.000000</td>\n",
       "      <td id=\"T_8fd91_row11_col2\" class=\"data row11 col2\" >1.000000</td>\n",
       "    </tr>\n",
       "    <tr>\n",
       "      <th id=\"T_8fd91_level1_row12\" class=\"row_heading level1 row12\" >25%</th>\n",
       "      <td id=\"T_8fd91_row12_col0\" class=\"data row12 col0\" >1.000000</td>\n",
       "      <td id=\"T_8fd91_row12_col1\" class=\"data row12 col1\" >1.000000</td>\n",
       "      <td id=\"T_8fd91_row12_col2\" class=\"data row12 col2\" >1.000000</td>\n",
       "    </tr>\n",
       "    <tr>\n",
       "      <th id=\"T_8fd91_level1_row13\" class=\"row_heading level1 row13\" >50%</th>\n",
       "      <td id=\"T_8fd91_row13_col0\" class=\"data row13 col0\" >1.000000</td>\n",
       "      <td id=\"T_8fd91_row13_col1\" class=\"data row13 col1\" >1.000000</td>\n",
       "      <td id=\"T_8fd91_row13_col2\" class=\"data row13 col2\" >1.000000</td>\n",
       "    </tr>\n",
       "    <tr>\n",
       "      <th id=\"T_8fd91_level1_row14\" class=\"row_heading level1 row14\" >75%</th>\n",
       "      <td id=\"T_8fd91_row14_col0\" class=\"data row14 col0\" >2.000000</td>\n",
       "      <td id=\"T_8fd91_row14_col1\" class=\"data row14 col1\" >2.000000</td>\n",
       "      <td id=\"T_8fd91_row14_col2\" class=\"data row14 col2\" >2.000000</td>\n",
       "    </tr>\n",
       "    <tr>\n",
       "      <th id=\"T_8fd91_level1_row15\" class=\"row_heading level1 row15\" >max</th>\n",
       "      <td id=\"T_8fd91_row15_col0\" class=\"data row15 col0\" >4.000000</td>\n",
       "      <td id=\"T_8fd91_row15_col1\" class=\"data row15 col1\" >4.000000</td>\n",
       "      <td id=\"T_8fd91_row15_col2\" class=\"data row15 col2\" >4.000000</td>\n",
       "    </tr>\n",
       "    <tr>\n",
       "      <th id=\"T_8fd91_level0_row16\" class=\"row_heading level0 row16\" rowspan=\"8\">hascrcard</th>\n",
       "      <th id=\"T_8fd91_level1_row16\" class=\"row_heading level1 row16\" >count</th>\n",
       "      <td id=\"T_8fd91_row16_col0\" class=\"data row16 col0\" >2596.000000</td>\n",
       "      <td id=\"T_8fd91_row16_col1\" class=\"data row16 col1\" >2508.000000</td>\n",
       "      <td id=\"T_8fd91_row16_col2\" class=\"data row16 col2\" >1277.000000</td>\n",
       "    </tr>\n",
       "    <tr>\n",
       "      <th id=\"T_8fd91_level1_row17\" class=\"row_heading level1 row17\" >mean</th>\n",
       "      <td id=\"T_8fd91_row17_col0\" class=\"data row17 col0\" >0.512712</td>\n",
       "      <td id=\"T_8fd91_row17_col1\" class=\"data row17 col1\" >0.497209</td>\n",
       "      <td id=\"T_8fd91_row17_col2\" class=\"data row17 col2\" >0.547377</td>\n",
       "    </tr>\n",
       "    <tr>\n",
       "      <th id=\"T_8fd91_level1_row18\" class=\"row_heading level1 row18\" >std</th>\n",
       "      <td id=\"T_8fd91_row18_col0\" class=\"data row18 col0\" >0.499935</td>\n",
       "      <td id=\"T_8fd91_row18_col1\" class=\"data row18 col1\" >0.500092</td>\n",
       "      <td id=\"T_8fd91_row18_col2\" class=\"data row18 col2\" >0.497945</td>\n",
       "    </tr>\n",
       "    <tr>\n",
       "      <th id=\"T_8fd91_level1_row19\" class=\"row_heading level1 row19\" >min</th>\n",
       "      <td id=\"T_8fd91_row19_col0\" class=\"data row19 col0\" >0.000000</td>\n",
       "      <td id=\"T_8fd91_row19_col1\" class=\"data row19 col1\" >0.000000</td>\n",
       "      <td id=\"T_8fd91_row19_col2\" class=\"data row19 col2\" >0.000000</td>\n",
       "    </tr>\n",
       "    <tr>\n",
       "      <th id=\"T_8fd91_level1_row20\" class=\"row_heading level1 row20\" >25%</th>\n",
       "      <td id=\"T_8fd91_row20_col0\" class=\"data row20 col0\" >0.000000</td>\n",
       "      <td id=\"T_8fd91_row20_col1\" class=\"data row20 col1\" >0.000000</td>\n",
       "      <td id=\"T_8fd91_row20_col2\" class=\"data row20 col2\" >0.000000</td>\n",
       "    </tr>\n",
       "    <tr>\n",
       "      <th id=\"T_8fd91_level1_row21\" class=\"row_heading level1 row21\" >50%</th>\n",
       "      <td id=\"T_8fd91_row21_col0\" class=\"data row21 col0\" >1.000000</td>\n",
       "      <td id=\"T_8fd91_row21_col1\" class=\"data row21 col1\" >0.000000</td>\n",
       "      <td id=\"T_8fd91_row21_col2\" class=\"data row21 col2\" >1.000000</td>\n",
       "    </tr>\n",
       "    <tr>\n",
       "      <th id=\"T_8fd91_level1_row22\" class=\"row_heading level1 row22\" >75%</th>\n",
       "      <td id=\"T_8fd91_row22_col0\" class=\"data row22 col0\" >1.000000</td>\n",
       "      <td id=\"T_8fd91_row22_col1\" class=\"data row22 col1\" >1.000000</td>\n",
       "      <td id=\"T_8fd91_row22_col2\" class=\"data row22 col2\" >1.000000</td>\n",
       "    </tr>\n",
       "    <tr>\n",
       "      <th id=\"T_8fd91_level1_row23\" class=\"row_heading level1 row23\" >max</th>\n",
       "      <td id=\"T_8fd91_row23_col0\" class=\"data row23 col0\" >1.000000</td>\n",
       "      <td id=\"T_8fd91_row23_col1\" class=\"data row23 col1\" >1.000000</td>\n",
       "      <td id=\"T_8fd91_row23_col2\" class=\"data row23 col2\" >1.000000</td>\n",
       "    </tr>\n",
       "    <tr>\n",
       "      <th id=\"T_8fd91_level0_row24\" class=\"row_heading level0 row24\" rowspan=\"8\">tenure</th>\n",
       "      <th id=\"T_8fd91_level1_row24\" class=\"row_heading level1 row24\" >count</th>\n",
       "      <td id=\"T_8fd91_row24_col0\" class=\"data row24 col0\" >2596.000000</td>\n",
       "      <td id=\"T_8fd91_row24_col1\" class=\"data row24 col1\" >2508.000000</td>\n",
       "      <td id=\"T_8fd91_row24_col2\" class=\"data row24 col2\" >1277.000000</td>\n",
       "    </tr>\n",
       "    <tr>\n",
       "      <th id=\"T_8fd91_level1_row25\" class=\"row_heading level1 row25\" >mean</th>\n",
       "      <td id=\"T_8fd91_row25_col0\" class=\"data row25 col0\" >4.948767</td>\n",
       "      <td id=\"T_8fd91_row25_col1\" class=\"data row25 col1\" >5.010766</td>\n",
       "      <td id=\"T_8fd91_row25_col2\" class=\"data row25 col2\" >4.981989</td>\n",
       "    </tr>\n",
       "    <tr>\n",
       "      <th id=\"T_8fd91_level1_row26\" class=\"row_heading level1 row26\" >std</th>\n",
       "      <td id=\"T_8fd91_row26_col0\" class=\"data row26 col0\" >2.908640</td>\n",
       "      <td id=\"T_8fd91_row26_col1\" class=\"data row26 col1\" >2.935465</td>\n",
       "      <td id=\"T_8fd91_row26_col2\" class=\"data row26 col2\" >2.862933</td>\n",
       "    </tr>\n",
       "    <tr>\n",
       "      <th id=\"T_8fd91_level1_row27\" class=\"row_heading level1 row27\" >min</th>\n",
       "      <td id=\"T_8fd91_row27_col0\" class=\"data row27 col0\" >0.000000</td>\n",
       "      <td id=\"T_8fd91_row27_col1\" class=\"data row27 col1\" >0.000000</td>\n",
       "      <td id=\"T_8fd91_row27_col2\" class=\"data row27 col2\" >0.000000</td>\n",
       "    </tr>\n",
       "    <tr>\n",
       "      <th id=\"T_8fd91_level1_row28\" class=\"row_heading level1 row28\" >25%</th>\n",
       "      <td id=\"T_8fd91_row28_col0\" class=\"data row28 col0\" >2.000000</td>\n",
       "      <td id=\"T_8fd91_row28_col1\" class=\"data row28 col1\" >2.000000</td>\n",
       "      <td id=\"T_8fd91_row28_col2\" class=\"data row28 col2\" >3.000000</td>\n",
       "    </tr>\n",
       "    <tr>\n",
       "      <th id=\"T_8fd91_level1_row29\" class=\"row_heading level1 row29\" >50%</th>\n",
       "      <td id=\"T_8fd91_row29_col0\" class=\"data row29 col0\" >5.000000</td>\n",
       "      <td id=\"T_8fd91_row29_col1\" class=\"data row29 col1\" >5.000000</td>\n",
       "      <td id=\"T_8fd91_row29_col2\" class=\"data row29 col2\" >5.000000</td>\n",
       "    </tr>\n",
       "    <tr>\n",
       "      <th id=\"T_8fd91_level1_row30\" class=\"row_heading level1 row30\" >75%</th>\n",
       "      <td id=\"T_8fd91_row30_col0\" class=\"data row30 col0\" >7.000000</td>\n",
       "      <td id=\"T_8fd91_row30_col1\" class=\"data row30 col1\" >8.000000</td>\n",
       "      <td id=\"T_8fd91_row30_col2\" class=\"data row30 col2\" >7.000000</td>\n",
       "    </tr>\n",
       "    <tr>\n",
       "      <th id=\"T_8fd91_level1_row31\" class=\"row_heading level1 row31\" >max</th>\n",
       "      <td id=\"T_8fd91_row31_col0\" class=\"data row31 col0\" >10.000000</td>\n",
       "      <td id=\"T_8fd91_row31_col1\" class=\"data row31 col1\" >10.000000</td>\n",
       "      <td id=\"T_8fd91_row31_col2\" class=\"data row31 col2\" >10.000000</td>\n",
       "    </tr>\n",
       "    <tr>\n",
       "      <th id=\"T_8fd91_level0_row32\" class=\"row_heading level0 row32\" rowspan=\"8\">isactivemember</th>\n",
       "      <th id=\"T_8fd91_level1_row32\" class=\"row_heading level1 row32\" >count</th>\n",
       "      <td id=\"T_8fd91_row32_col0\" class=\"data row32 col0\" >2596.000000</td>\n",
       "      <td id=\"T_8fd91_row32_col1\" class=\"data row32 col1\" >2508.000000</td>\n",
       "      <td id=\"T_8fd91_row32_col2\" class=\"data row32 col2\" >1277.000000</td>\n",
       "    </tr>\n",
       "    <tr>\n",
       "      <th id=\"T_8fd91_level1_row33\" class=\"row_heading level1 row33\" >mean</th>\n",
       "      <td id=\"T_8fd91_row33_col0\" class=\"data row33 col0\" >0.512712</td>\n",
       "      <td id=\"T_8fd91_row33_col1\" class=\"data row33 col1\" >0.497209</td>\n",
       "      <td id=\"T_8fd91_row33_col2\" class=\"data row33 col2\" >0.547377</td>\n",
       "    </tr>\n",
       "    <tr>\n",
       "      <th id=\"T_8fd91_level1_row34\" class=\"row_heading level1 row34\" >std</th>\n",
       "      <td id=\"T_8fd91_row34_col0\" class=\"data row34 col0\" >0.499935</td>\n",
       "      <td id=\"T_8fd91_row34_col1\" class=\"data row34 col1\" >0.500092</td>\n",
       "      <td id=\"T_8fd91_row34_col2\" class=\"data row34 col2\" >0.497945</td>\n",
       "    </tr>\n",
       "    <tr>\n",
       "      <th id=\"T_8fd91_level1_row35\" class=\"row_heading level1 row35\" >min</th>\n",
       "      <td id=\"T_8fd91_row35_col0\" class=\"data row35 col0\" >0.000000</td>\n",
       "      <td id=\"T_8fd91_row35_col1\" class=\"data row35 col1\" >0.000000</td>\n",
       "      <td id=\"T_8fd91_row35_col2\" class=\"data row35 col2\" >0.000000</td>\n",
       "    </tr>\n",
       "    <tr>\n",
       "      <th id=\"T_8fd91_level1_row36\" class=\"row_heading level1 row36\" >25%</th>\n",
       "      <td id=\"T_8fd91_row36_col0\" class=\"data row36 col0\" >0.000000</td>\n",
       "      <td id=\"T_8fd91_row36_col1\" class=\"data row36 col1\" >0.000000</td>\n",
       "      <td id=\"T_8fd91_row36_col2\" class=\"data row36 col2\" >0.000000</td>\n",
       "    </tr>\n",
       "    <tr>\n",
       "      <th id=\"T_8fd91_level1_row37\" class=\"row_heading level1 row37\" >50%</th>\n",
       "      <td id=\"T_8fd91_row37_col0\" class=\"data row37 col0\" >1.000000</td>\n",
       "      <td id=\"T_8fd91_row37_col1\" class=\"data row37 col1\" >0.000000</td>\n",
       "      <td id=\"T_8fd91_row37_col2\" class=\"data row37 col2\" >1.000000</td>\n",
       "    </tr>\n",
       "    <tr>\n",
       "      <th id=\"T_8fd91_level1_row38\" class=\"row_heading level1 row38\" >75%</th>\n",
       "      <td id=\"T_8fd91_row38_col0\" class=\"data row38 col0\" >1.000000</td>\n",
       "      <td id=\"T_8fd91_row38_col1\" class=\"data row38 col1\" >1.000000</td>\n",
       "      <td id=\"T_8fd91_row38_col2\" class=\"data row38 col2\" >1.000000</td>\n",
       "    </tr>\n",
       "    <tr>\n",
       "      <th id=\"T_8fd91_level1_row39\" class=\"row_heading level1 row39\" >max</th>\n",
       "      <td id=\"T_8fd91_row39_col0\" class=\"data row39 col0\" >1.000000</td>\n",
       "      <td id=\"T_8fd91_row39_col1\" class=\"data row39 col1\" >1.000000</td>\n",
       "      <td id=\"T_8fd91_row39_col2\" class=\"data row39 col2\" >1.000000</td>\n",
       "    </tr>\n",
       "    <tr>\n",
       "      <th id=\"T_8fd91_level0_row40\" class=\"row_heading level0 row40\" rowspan=\"8\">exited</th>\n",
       "      <th id=\"T_8fd91_level1_row40\" class=\"row_heading level1 row40\" >count</th>\n",
       "      <td id=\"T_8fd91_row40_col0\" class=\"data row40 col0\" >2596.000000</td>\n",
       "      <td id=\"T_8fd91_row40_col1\" class=\"data row40 col1\" >2508.000000</td>\n",
       "      <td id=\"T_8fd91_row40_col2\" class=\"data row40 col2\" >1277.000000</td>\n",
       "    </tr>\n",
       "    <tr>\n",
       "      <th id=\"T_8fd91_level1_row41\" class=\"row_heading level1 row41\" >mean</th>\n",
       "      <td id=\"T_8fd91_row41_col0\" class=\"data row41 col0\" >0.182203</td>\n",
       "      <td id=\"T_8fd91_row41_col1\" class=\"data row41 col1\" >0.324561</td>\n",
       "      <td id=\"T_8fd91_row41_col2\" class=\"data row41 col2\" >0.195771</td>\n",
       "    </tr>\n",
       "    <tr>\n",
       "      <th id=\"T_8fd91_level1_row42\" class=\"row_heading level1 row42\" >std</th>\n",
       "      <td id=\"T_8fd91_row42_col0\" class=\"data row42 col0\" >0.386086</td>\n",
       "      <td id=\"T_8fd91_row42_col1\" class=\"data row42 col1\" >0.468304</td>\n",
       "      <td id=\"T_8fd91_row42_col2\" class=\"data row42 col2\" >0.396949</td>\n",
       "    </tr>\n",
       "    <tr>\n",
       "      <th id=\"T_8fd91_level1_row43\" class=\"row_heading level1 row43\" >min</th>\n",
       "      <td id=\"T_8fd91_row43_col0\" class=\"data row43 col0\" >0.000000</td>\n",
       "      <td id=\"T_8fd91_row43_col1\" class=\"data row43 col1\" >0.000000</td>\n",
       "      <td id=\"T_8fd91_row43_col2\" class=\"data row43 col2\" >0.000000</td>\n",
       "    </tr>\n",
       "    <tr>\n",
       "      <th id=\"T_8fd91_level1_row44\" class=\"row_heading level1 row44\" >25%</th>\n",
       "      <td id=\"T_8fd91_row44_col0\" class=\"data row44 col0\" >0.000000</td>\n",
       "      <td id=\"T_8fd91_row44_col1\" class=\"data row44 col1\" >0.000000</td>\n",
       "      <td id=\"T_8fd91_row44_col2\" class=\"data row44 col2\" >0.000000</td>\n",
       "    </tr>\n",
       "    <tr>\n",
       "      <th id=\"T_8fd91_level1_row45\" class=\"row_heading level1 row45\" >50%</th>\n",
       "      <td id=\"T_8fd91_row45_col0\" class=\"data row45 col0\" >0.000000</td>\n",
       "      <td id=\"T_8fd91_row45_col1\" class=\"data row45 col1\" >0.000000</td>\n",
       "      <td id=\"T_8fd91_row45_col2\" class=\"data row45 col2\" >0.000000</td>\n",
       "    </tr>\n",
       "    <tr>\n",
       "      <th id=\"T_8fd91_level1_row46\" class=\"row_heading level1 row46\" >75%</th>\n",
       "      <td id=\"T_8fd91_row46_col0\" class=\"data row46 col0\" >0.000000</td>\n",
       "      <td id=\"T_8fd91_row46_col1\" class=\"data row46 col1\" >1.000000</td>\n",
       "      <td id=\"T_8fd91_row46_col2\" class=\"data row46 col2\" >0.000000</td>\n",
       "    </tr>\n",
       "    <tr>\n",
       "      <th id=\"T_8fd91_level1_row47\" class=\"row_heading level1 row47\" >max</th>\n",
       "      <td id=\"T_8fd91_row47_col0\" class=\"data row47 col0\" >1.000000</td>\n",
       "      <td id=\"T_8fd91_row47_col1\" class=\"data row47 col1\" >1.000000</td>\n",
       "      <td id=\"T_8fd91_row47_col2\" class=\"data row47 col2\" >1.000000</td>\n",
       "    </tr>\n",
       "    <tr>\n",
       "      <th id=\"T_8fd91_level0_row48\" class=\"row_heading level0 row48\" rowspan=\"8\">creditscore</th>\n",
       "      <th id=\"T_8fd91_level1_row48\" class=\"row_heading level1 row48\" >count</th>\n",
       "      <td id=\"T_8fd91_row48_col0\" class=\"data row48 col0\" >2596.000000</td>\n",
       "      <td id=\"T_8fd91_row48_col1\" class=\"data row48 col1\" >2508.000000</td>\n",
       "      <td id=\"T_8fd91_row48_col2\" class=\"data row48 col2\" >1277.000000</td>\n",
       "    </tr>\n",
       "    <tr>\n",
       "      <th id=\"T_8fd91_level1_row49\" class=\"row_heading level1 row49\" >mean</th>\n",
       "      <td id=\"T_8fd91_row49_col0\" class=\"data row49 col0\" >650.900231</td>\n",
       "      <td id=\"T_8fd91_row49_col1\" class=\"data row49 col1\" >651.484450</td>\n",
       "      <td id=\"T_8fd91_row49_col2\" class=\"data row49 col2\" >650.985904</td>\n",
       "    </tr>\n",
       "    <tr>\n",
       "      <th id=\"T_8fd91_level1_row50\" class=\"row_heading level1 row50\" >std</th>\n",
       "      <td id=\"T_8fd91_row50_col0\" class=\"data row50 col0\" >97.141176</td>\n",
       "      <td id=\"T_8fd91_row50_col1\" class=\"data row50 col1\" >98.176324</td>\n",
       "      <td id=\"T_8fd91_row50_col2\" class=\"data row50 col2\" >94.142424</td>\n",
       "    </tr>\n",
       "    <tr>\n",
       "      <th id=\"T_8fd91_level1_row51\" class=\"row_heading level1 row51\" >min</th>\n",
       "      <td id=\"T_8fd91_row51_col0\" class=\"data row51 col0\" >350.000000</td>\n",
       "      <td id=\"T_8fd91_row51_col1\" class=\"data row51 col1\" >350.000000</td>\n",
       "      <td id=\"T_8fd91_row51_col2\" class=\"data row51 col2\" >350.000000</td>\n",
       "    </tr>\n",
       "    <tr>\n",
       "      <th id=\"T_8fd91_level1_row52\" class=\"row_heading level1 row52\" >25%</th>\n",
       "      <td id=\"T_8fd91_row52_col0\" class=\"data row52 col0\" >583.000000</td>\n",
       "      <td id=\"T_8fd91_row52_col1\" class=\"data row52 col1\" >584.000000</td>\n",
       "      <td id=\"T_8fd91_row52_col2\" class=\"data row52 col2\" >590.000000</td>\n",
       "    </tr>\n",
       "    <tr>\n",
       "      <th id=\"T_8fd91_level1_row53\" class=\"row_heading level1 row53\" >50%</th>\n",
       "      <td id=\"T_8fd91_row53_col0\" class=\"data row53 col0\" >655.000000</td>\n",
       "      <td id=\"T_8fd91_row53_col1\" class=\"data row53 col1\" >651.000000</td>\n",
       "      <td id=\"T_8fd91_row53_col2\" class=\"data row53 col2\" >651.000000</td>\n",
       "    </tr>\n",
       "    <tr>\n",
       "      <th id=\"T_8fd91_level1_row54\" class=\"row_heading level1 row54\" >75%</th>\n",
       "      <td id=\"T_8fd91_row54_col0\" class=\"data row54 col0\" >717.000000</td>\n",
       "      <td id=\"T_8fd91_row54_col1\" class=\"data row54 col1\" >722.250000</td>\n",
       "      <td id=\"T_8fd91_row54_col2\" class=\"data row54 col2\" >714.000000</td>\n",
       "    </tr>\n",
       "    <tr>\n",
       "      <th id=\"T_8fd91_level1_row55\" class=\"row_heading level1 row55\" >max</th>\n",
       "      <td id=\"T_8fd91_row55_col0\" class=\"data row55 col0\" >850.000000</td>\n",
       "      <td id=\"T_8fd91_row55_col1\" class=\"data row55 col1\" >850.000000</td>\n",
       "      <td id=\"T_8fd91_row55_col2\" class=\"data row55 col2\" >850.000000</td>\n",
       "    </tr>\n",
       "    <tr>\n",
       "      <th id=\"T_8fd91_level0_row56\" class=\"row_heading level0 row56\" rowspan=\"8\">age</th>\n",
       "      <th id=\"T_8fd91_level1_row56\" class=\"row_heading level1 row56\" >count</th>\n",
       "      <td id=\"T_8fd91_row56_col0\" class=\"data row56 col0\" >2596.000000</td>\n",
       "      <td id=\"T_8fd91_row56_col1\" class=\"data row56 col1\" >2508.000000</td>\n",
       "      <td id=\"T_8fd91_row56_col2\" class=\"data row56 col2\" >1277.000000</td>\n",
       "    </tr>\n",
       "    <tr>\n",
       "      <th id=\"T_8fd91_level1_row57\" class=\"row_heading level1 row57\" >mean</th>\n",
       "      <td id=\"T_8fd91_row57_col0\" class=\"data row57 col0\" >38.611710</td>\n",
       "      <td id=\"T_8fd91_row57_col1\" class=\"data row57 col1\" >39.770335</td>\n",
       "      <td id=\"T_8fd91_row57_col2\" class=\"data row57 col2\" >39.261551</td>\n",
       "    </tr>\n",
       "    <tr>\n",
       "      <th id=\"T_8fd91_level1_row58\" class=\"row_heading level1 row58\" >std</th>\n",
       "      <td id=\"T_8fd91_row58_col0\" class=\"data row58 col0\" >10.422900</td>\n",
       "      <td id=\"T_8fd91_row58_col1\" class=\"data row58 col1\" >10.521043</td>\n",
       "      <td id=\"T_8fd91_row58_col2\" class=\"data row58 col2\" >10.447609</td>\n",
       "    </tr>\n",
       "    <tr>\n",
       "      <th id=\"T_8fd91_level1_row59\" class=\"row_heading level1 row59\" >min</th>\n",
       "      <td id=\"T_8fd91_row59_col0\" class=\"data row59 col0\" >18.000000</td>\n",
       "      <td id=\"T_8fd91_row59_col1\" class=\"data row59 col1\" >18.000000</td>\n",
       "      <td id=\"T_8fd91_row59_col2\" class=\"data row59 col2\" >18.000000</td>\n",
       "    </tr>\n",
       "    <tr>\n",
       "      <th id=\"T_8fd91_level1_row60\" class=\"row_heading level1 row60\" >25%</th>\n",
       "      <td id=\"T_8fd91_row60_col0\" class=\"data row60 col0\" >32.000000</td>\n",
       "      <td id=\"T_8fd91_row60_col1\" class=\"data row60 col1\" >32.000000</td>\n",
       "      <td id=\"T_8fd91_row60_col2\" class=\"data row60 col2\" >32.000000</td>\n",
       "    </tr>\n",
       "    <tr>\n",
       "      <th id=\"T_8fd91_level1_row61\" class=\"row_heading level1 row61\" >50%</th>\n",
       "      <td id=\"T_8fd91_row61_col0\" class=\"data row61 col0\" >37.000000</td>\n",
       "      <td id=\"T_8fd91_row61_col1\" class=\"data row61 col1\" >38.000000</td>\n",
       "      <td id=\"T_8fd91_row61_col2\" class=\"data row61 col2\" >38.000000</td>\n",
       "    </tr>\n",
       "    <tr>\n",
       "      <th id=\"T_8fd91_level1_row62\" class=\"row_heading level1 row62\" >75%</th>\n",
       "      <td id=\"T_8fd91_row62_col0\" class=\"data row62 col0\" >43.000000</td>\n",
       "      <td id=\"T_8fd91_row62_col1\" class=\"data row62 col1\" >45.000000</td>\n",
       "      <td id=\"T_8fd91_row62_col2\" class=\"data row62 col2\" >44.000000</td>\n",
       "    </tr>\n",
       "    <tr>\n",
       "      <th id=\"T_8fd91_level1_row63\" class=\"row_heading level1 row63\" >max</th>\n",
       "      <td id=\"T_8fd91_row63_col0\" class=\"data row63 col0\" >92.000000</td>\n",
       "      <td id=\"T_8fd91_row63_col1\" class=\"data row63 col1\" >84.000000</td>\n",
       "      <td id=\"T_8fd91_row63_col2\" class=\"data row63 col2\" >79.000000</td>\n",
       "    </tr>\n",
       "    <tr>\n",
       "      <th id=\"T_8fd91_level0_row64\" class=\"row_heading level0 row64\" rowspan=\"8\">estimatedsalary</th>\n",
       "      <th id=\"T_8fd91_level1_row64\" class=\"row_heading level1 row64\" >count</th>\n",
       "      <td id=\"T_8fd91_row64_col0\" class=\"data row64 col0\" >2596.000000</td>\n",
       "      <td id=\"T_8fd91_row64_col1\" class=\"data row64 col1\" >2508.000000</td>\n",
       "      <td id=\"T_8fd91_row64_col2\" class=\"data row64 col2\" >1277.000000</td>\n",
       "    </tr>\n",
       "    <tr>\n",
       "      <th id=\"T_8fd91_level1_row65\" class=\"row_heading level1 row65\" >mean</th>\n",
       "      <td id=\"T_8fd91_row65_col0\" class=\"data row65 col0\" >100625.034653</td>\n",
       "      <td id=\"T_8fd91_row65_col1\" class=\"data row65 col1\" >101113.804322</td>\n",
       "      <td id=\"T_8fd91_row65_col2\" class=\"data row65 col2\" >100127.278262</td>\n",
       "    </tr>\n",
       "    <tr>\n",
       "      <th id=\"T_8fd91_level1_row66\" class=\"row_heading level1 row66\" >std</th>\n",
       "      <td id=\"T_8fd91_row66_col0\" class=\"data row66 col0\" >56941.502946</td>\n",
       "      <td id=\"T_8fd91_row66_col1\" class=\"data row66 col1\" >58274.627472</td>\n",
       "      <td id=\"T_8fd91_row66_col2\" class=\"data row66 col2\" >56576.974434</td>\n",
       "    </tr>\n",
       "    <tr>\n",
       "      <th id=\"T_8fd91_level1_row67\" class=\"row_heading level1 row67\" >min</th>\n",
       "      <td id=\"T_8fd91_row67_col0\" class=\"data row67 col0\" >123.070000</td>\n",
       "      <td id=\"T_8fd91_row67_col1\" class=\"data row67 col1\" >11.580000</td>\n",
       "      <td id=\"T_8fd91_row67_col2\" class=\"data row67 col2\" >479.540000</td>\n",
       "    </tr>\n",
       "    <tr>\n",
       "      <th id=\"T_8fd91_level1_row68\" class=\"row_heading level1 row68\" >25%</th>\n",
       "      <td id=\"T_8fd91_row68_col0\" class=\"data row68 col0\" >52575.295000</td>\n",
       "      <td id=\"T_8fd91_row68_col1\" class=\"data row68 col1\" >50982.392500</td>\n",
       "      <td id=\"T_8fd91_row68_col2\" class=\"data row68 col2\" >52341.150000</td>\n",
       "    </tr>\n",
       "    <tr>\n",
       "      <th id=\"T_8fd91_level1_row69\" class=\"row_heading level1 row69\" >50%</th>\n",
       "      <td id=\"T_8fd91_row69_col0\" class=\"data row69 col0\" >100507.170000</td>\n",
       "      <td id=\"T_8fd91_row69_col1\" class=\"data row69 col1\" >102412.865000</td>\n",
       "      <td id=\"T_8fd91_row69_col2\" class=\"data row69 col2\" >101139.300000</td>\n",
       "    </tr>\n",
       "    <tr>\n",
       "      <th id=\"T_8fd91_level1_row70\" class=\"row_heading level1 row70\" >75%</th>\n",
       "      <td id=\"T_8fd91_row70_col0\" class=\"data row70 col0\" >149563.020000</td>\n",
       "      <td id=\"T_8fd91_row70_col1\" class=\"data row70 col1\" >151099.517500</td>\n",
       "      <td id=\"T_8fd91_row70_col2\" class=\"data row70 col2\" >146738.830000</td>\n",
       "    </tr>\n",
       "    <tr>\n",
       "      <th id=\"T_8fd91_level1_row71\" class=\"row_heading level1 row71\" >max</th>\n",
       "      <td id=\"T_8fd91_row71_col0\" class=\"data row71 col0\" >199929.170000</td>\n",
       "      <td id=\"T_8fd91_row71_col1\" class=\"data row71 col1\" >199970.740000</td>\n",
       "      <td id=\"T_8fd91_row71_col2\" class=\"data row71 col2\" >199953.330000</td>\n",
       "    </tr>\n",
       "  </tbody>\n",
       "</table>\n"
      ],
      "text/plain": [
       "<pandas.io.formats.style.Styler at 0x23093c00f50>"
      ]
     },
     "execution_count": 970,
     "metadata": {},
     "output_type": "execute_result"
    }
   ],
   "source": [
    "saving_customer_df.groupby('geography').describe().T.style.set_sticky()"
   ]
  },
  {
   "cell_type": "markdown",
   "id": "072abe43",
   "metadata": {},
   "source": [
    "Germany customers have higher churn rate than other countries. They have higher salary, saving than another countries customers. We need to run regression test for evaluating which factors more influence on churn rate."
   ]
  },
  {
   "cell_type": "code",
   "execution_count": 974,
   "id": "1f0d36f5",
   "metadata": {},
   "outputs": [
    {
     "data": {
      "image/png": "[encoded data removed]",
      "text/plain": [
       "<Figure size 640x480 with 1 Axes>"
      ]
     },
     "metadata": {},
     "output_type": "display_data"
    },
    {
     "data": {
      "image/png": "[encoded data removed]",
      "text/plain": [
       "<Figure size 640x480 with 1 Axes>"
      ]
     },
     "metadata": {},
     "output_type": "display_data"
    },
    {
     "data": {
      "image/png": "[encoded data removed]",
      "text/plain": [
       "<Figure size 640x480 with 1 Axes>"
      ]
     },
     "metadata": {},
     "output_type": "display_data"
    },
    {
     "data": {
      "image/png": "[encoded data removed]",
      "text/plain": [
       "<Figure size 640x480 with 1 Axes>"
      ]
     },
     "metadata": {},
     "output_type": "display_data"
    }
   ],
   "source": [
    "churn_categorical_columns = ['gender','geography','isactivemember','saving']\n",
    "\n",
    "for col in churn_categorical_columns:\n",
    "    ct = pd.crosstab(bank_account_df[col],bank_account_df['exited'],normalize='index') *100\n",
    "    ct.plot(kind='bar',stacked=True,color=['green','red'])\n",
    "    plt.legend(loc='upper right',labels=['stay','exit'])\n",
    "    plt.show()"
   ]
  },
  {
   "cell_type": "code",
   "execution_count": 975,
   "id": "eb231748",
   "metadata": {},
   "outputs": [
    {
     "data": {
      "text/html": [
       "<div>\n",
       "<style scoped>\n",
       "    .dataframe tbody tr th:only-of-type {\n",
       "        vertical-align: middle;\n",
       "    }\n",
       "\n",
       "    .dataframe tbody tr th {\n",
       "        vertical-align: top;\n",
       "    }\n",
       "\n",
       "    .dataframe thead th {\n",
       "        text-align: right;\n",
       "    }\n",
       "</style>\n",
       "<table border=\"1\" class=\"dataframe\">\n",
       "  <thead>\n",
       "    <tr style=\"text-align: right;\">\n",
       "      <th>exited</th>\n",
       "      <th>0</th>\n",
       "      <th>1</th>\n",
       "    </tr>\n",
       "    <tr>\n",
       "      <th>gender</th>\n",
       "      <th></th>\n",
       "      <th></th>\n",
       "    </tr>\n",
       "  </thead>\n",
       "  <tbody>\n",
       "    <tr>\n",
       "      <th>female</th>\n",
       "      <td>3402</td>\n",
       "      <td>1139</td>\n",
       "    </tr>\n",
       "    <tr>\n",
       "      <th>male</th>\n",
       "      <td>4558</td>\n",
       "      <td>898</td>\n",
       "    </tr>\n",
       "  </tbody>\n",
       "</table>\n",
       "</div>"
      ],
      "text/plain": [
       "exited     0     1\n",
       "gender            \n",
       "female  3402  1139\n",
       "male    4558   898"
      ]
     },
     "metadata": {},
     "output_type": "display_data"
    },
    {
     "data": {
      "text/html": [
       "<div>\n",
       "<style scoped>\n",
       "    .dataframe tbody tr th:only-of-type {\n",
       "        vertical-align: middle;\n",
       "    }\n",
       "\n",
       "    .dataframe tbody tr th {\n",
       "        vertical-align: top;\n",
       "    }\n",
       "\n",
       "    .dataframe thead th {\n",
       "        text-align: right;\n",
       "    }\n",
       "</style>\n",
       "<table border=\"1\" class=\"dataframe\">\n",
       "  <thead>\n",
       "    <tr style=\"text-align: right;\">\n",
       "      <th>exited</th>\n",
       "      <th>0</th>\n",
       "      <th>1</th>\n",
       "    </tr>\n",
       "    <tr>\n",
       "      <th>geography</th>\n",
       "      <th></th>\n",
       "      <th></th>\n",
       "    </tr>\n",
       "  </thead>\n",
       "  <tbody>\n",
       "    <tr>\n",
       "      <th>france</th>\n",
       "      <td>4203</td>\n",
       "      <td>810</td>\n",
       "    </tr>\n",
       "    <tr>\n",
       "      <th>germany</th>\n",
       "      <td>1694</td>\n",
       "      <td>814</td>\n",
       "    </tr>\n",
       "    <tr>\n",
       "      <th>spain</th>\n",
       "      <td>2063</td>\n",
       "      <td>413</td>\n",
       "    </tr>\n",
       "  </tbody>\n",
       "</table>\n",
       "</div>"
      ],
      "text/plain": [
       "exited        0    1\n",
       "geography           \n",
       "france     4203  810\n",
       "germany    1694  814\n",
       "spain      2063  413"
      ]
     },
     "metadata": {},
     "output_type": "display_data"
    },
    {
     "data": {
      "text/html": [
       "<div>\n",
       "<style scoped>\n",
       "    .dataframe tbody tr th:only-of-type {\n",
       "        vertical-align: middle;\n",
       "    }\n",
       "\n",
       "    .dataframe tbody tr th {\n",
       "        vertical-align: top;\n",
       "    }\n",
       "\n",
       "    .dataframe thead th {\n",
       "        text-align: right;\n",
       "    }\n",
       "</style>\n",
       "<table border=\"1\" class=\"dataframe\">\n",
       "  <thead>\n",
       "    <tr style=\"text-align: right;\">\n",
       "      <th>exited</th>\n",
       "      <th>0</th>\n",
       "      <th>1</th>\n",
       "    </tr>\n",
       "    <tr>\n",
       "      <th>isactivemember</th>\n",
       "      <th></th>\n",
       "      <th></th>\n",
       "    </tr>\n",
       "  </thead>\n",
       "  <tbody>\n",
       "    <tr>\n",
       "      <th>0</th>\n",
       "      <td>3546</td>\n",
       "      <td>1302</td>\n",
       "    </tr>\n",
       "    <tr>\n",
       "      <th>1</th>\n",
       "      <td>4414</td>\n",
       "      <td>735</td>\n",
       "    </tr>\n",
       "  </tbody>\n",
       "</table>\n",
       "</div>"
      ],
      "text/plain": [
       "exited             0     1\n",
       "isactivemember            \n",
       "0               3546  1302\n",
       "1               4414   735"
      ]
     },
     "metadata": {},
     "output_type": "display_data"
    },
    {
     "data": {
      "text/html": [
       "<div>\n",
       "<style scoped>\n",
       "    .dataframe tbody tr th:only-of-type {\n",
       "        vertical-align: middle;\n",
       "    }\n",
       "\n",
       "    .dataframe tbody tr th {\n",
       "        vertical-align: top;\n",
       "    }\n",
       "\n",
       "    .dataframe thead th {\n",
       "        text-align: right;\n",
       "    }\n",
       "</style>\n",
       "<table border=\"1\" class=\"dataframe\">\n",
       "  <thead>\n",
       "    <tr style=\"text-align: right;\">\n",
       "      <th>exited</th>\n",
       "      <th>0</th>\n",
       "      <th>1</th>\n",
       "    </tr>\n",
       "    <tr>\n",
       "      <th>saving</th>\n",
       "      <th></th>\n",
       "      <th></th>\n",
       "    </tr>\n",
       "  </thead>\n",
       "  <tbody>\n",
       "    <tr>\n",
       "      <th>0</th>\n",
       "      <td>3116</td>\n",
       "      <td>500</td>\n",
       "    </tr>\n",
       "    <tr>\n",
       "      <th>1</th>\n",
       "      <td>4844</td>\n",
       "      <td>1537</td>\n",
       "    </tr>\n",
       "  </tbody>\n",
       "</table>\n",
       "</div>"
      ],
      "text/plain": [
       "exited     0     1\n",
       "saving            \n",
       "0       3116   500\n",
       "1       4844  1537"
      ]
     },
     "metadata": {},
     "output_type": "display_data"
    }
   ],
   "source": [
    "contingency_table = {}\n",
    "\n",
    "for col in churn_categorical_columns:\n",
    "    contingency_table[col] = pd.crosstab(bank_account_df[col],bank_account_df['exited'])\n",
    "    display(contingency_table[col])"
   ]
  },
  {
   "cell_type": "code",
   "execution_count": 976,
   "id": "61f646b1",
   "metadata": {},
   "outputs": [
    {
     "data": {
      "text/html": [
       "<div>\n",
       "<style scoped>\n",
       "    .dataframe tbody tr th:only-of-type {\n",
       "        vertical-align: middle;\n",
       "    }\n",
       "\n",
       "    .dataframe tbody tr th {\n",
       "        vertical-align: top;\n",
       "    }\n",
       "\n",
       "    .dataframe thead th {\n",
       "        text-align: right;\n",
       "    }\n",
       "</style>\n",
       "<table border=\"1\" class=\"dataframe\">\n",
       "  <thead>\n",
       "    <tr style=\"text-align: right;\">\n",
       "      <th></th>\n",
       "      <th>variable</th>\n",
       "      <th>p_val</th>\n",
       "      <th>stats</th>\n",
       "    </tr>\n",
       "  </thead>\n",
       "  <tbody>\n",
       "    <tr>\n",
       "      <th>0</th>\n",
       "      <td>gender</td>\n",
       "      <td>2.085494e-26</td>\n",
       "      <td>113.067532</td>\n",
       "    </tr>\n",
       "    <tr>\n",
       "      <th>1</th>\n",
       "      <td>geography</td>\n",
       "      <td>3.559626e-66</td>\n",
       "      <td>301.401921</td>\n",
       "    </tr>\n",
       "    <tr>\n",
       "      <th>2</th>\n",
       "      <td>isactivemember</td>\n",
       "      <td>9.360390e-55</td>\n",
       "      <td>242.859170</td>\n",
       "    </tr>\n",
       "    <tr>\n",
       "      <th>3</th>\n",
       "      <td>saving</td>\n",
       "      <td>2.708901e-34</td>\n",
       "      <td>149.113217</td>\n",
       "    </tr>\n",
       "  </tbody>\n",
       "</table>\n",
       "</div>"
      ],
      "text/plain": [
       "         variable         p_val       stats\n",
       "0          gender  2.085494e-26  113.067532\n",
       "1       geography  3.559626e-66  301.401921\n",
       "2  isactivemember  9.360390e-55  242.859170\n",
       "3          saving  2.708901e-34  149.113217"
      ]
     },
     "execution_count": 976,
     "metadata": {},
     "output_type": "execute_result"
    }
   ],
   "source": [
    "from scipy.stats import chi2_contingency\n",
    "\n",
    "chi2_results = []\n",
    "for col in churn_categorical_columns:\n",
    "    chi2_stats,chi2_p_val,dof,expected = chi2_contingency(contingency_table[col])\n",
    "    chi2_results.append({'variable':col,'p_val':chi2_p_val,'stats':chi2_stats})\n",
    "chi2_results = pd.DataFrame(chi2_results)\n",
    "chi2_results"
   ]
  },
  {
   "cell_type": "markdown",
   "id": "c657530b",
   "metadata": {},
   "source": [
    "According to statistical test and visual analysis, geography variable(germany) is most influene in churn rate.Inactive customers are more likely to exit than active customers. We need to take care of providing credit plan to improve engagement and reduce churn. Female are more likely to exit than male. Next, we continue to implement logistic regression for more accurate recommendation."
   ]
  },
  {
   "cell_type": "code",
   "execution_count": 977,
   "id": "9f29fc8d",
   "metadata": {},
   "outputs": [],
   "source": [
    "from sklearn.preprocessing import MinMaxScaler"
   ]
  },
  {
   "cell_type": "code",
   "execution_count": 978,
   "id": "b5b3a8ed",
   "metadata": {},
   "outputs": [],
   "source": [
    "scaler = MinMaxScaler()"
   ]
  },
  {
   "cell_type": "code",
   "execution_count": 979,
   "id": "56c9a4f1",
   "metadata": {},
   "outputs": [],
   "source": [
    "scale_columns = ['numofproducts','creditscore','age']"
   ]
  },
  {
   "cell_type": "code",
   "execution_count": 981,
   "id": "60f21030",
   "metadata": {},
   "outputs": [],
   "source": [
    "for col in scale_columns:\n",
    "    bank_account_df[col+'_scale'] = scaler.fit_transform(bank_account_df[[col]])"
   ]
  },
  {
   "cell_type": "code",
   "execution_count": 983,
   "id": "ab6e57f3",
   "metadata": {},
   "outputs": [
    {
     "data": {
      "text/plain": [
       "array([0.        , 0.66666667, 0.33333333, 1.        ])"
      ]
     },
     "execution_count": 983,
     "metadata": {},
     "output_type": "execute_result"
    }
   ],
   "source": [
    "bank_account_df['numofproducts_scale'].unique()"
   ]
  },
  {
   "cell_type": "code",
   "execution_count": 984,
   "id": "a24e45a7",
   "metadata": {},
   "outputs": [],
   "source": [
    "bank_account_df['gender_scale'] = bank_account_df['gender'].map({'male':0,'female':1}).astype(int)"
   ]
  },
  {
   "cell_type": "code",
   "execution_count": 985,
   "id": "f4d0768f",
   "metadata": {},
   "outputs": [],
   "source": [
    "geography_dummies = pd.get_dummies(bank_account_df['geography'],prefix='geography',drop_first=True)"
   ]
  },
  {
   "cell_type": "code",
   "execution_count": 986,
   "id": "09e633d8",
   "metadata": {},
   "outputs": [],
   "source": [
    "bank_account_df = pd.concat([bank_account_df,geography_dummies],axis=1)"
   ]
  },
  {
   "cell_type": "code",
   "execution_count": 989,
   "id": "b0a7b4d9",
   "metadata": {},
   "outputs": [
    {
     "data": {
      "text/plain": [
       "balance                         float64\n",
       "numofproducts                     int64\n",
       "hascrcard                         int64\n",
       "tenure                            int64\n",
       "isactivemember                    int64\n",
       "exited                            int64\n",
       "creditscore                       int64\n",
       "geography                string[python]\n",
       "gender                   string[python]\n",
       "age                               int64\n",
       "estimatedsalary                 float64\n",
       "estimatedsalary_group          category\n",
       "age_group                      category\n",
       "saving                            int64\n",
       "saving_group                   category\n",
       "creditscore_group              category\n",
       "numofproducts_scale             float64\n",
       "creditscore_scale               float64\n",
       "age_scale                       float64\n",
       "gender_scale                      int64\n",
       "geography_germany                 int64\n",
       "geography_spain                   int64\n",
       "dtype: object"
      ]
     },
     "execution_count": 989,
     "metadata": {},
     "output_type": "execute_result"
    }
   ],
   "source": [
    "bank_account_df.dtypes"
   ]
  },
  {
   "cell_type": "code",
   "execution_count": 988,
   "id": "4f80ac31",
   "metadata": {},
   "outputs": [],
   "source": [
    "bank_account_df[geography_dummies.columns] = bank_account_df[geography_dummies.columns].astype(int)"
   ]
  }
 ],
 "metadata": {
  "kernelspec": {
   "display_name": "Python 3",
   "language": "python",
   "name": "python3"
  },
  "language_info": {
   "codemirror_mode": {
    "name": "ipython",
    "version": 3
   },
   "file_extension": ".py",
   "mimetype": "text/x-python",
   "name": "python",
   "nbconvert_exporter": "python",
   "pygments_lexer": "ipython3",
   "version": "3.13.0"
  }
 },
 "nbformat": 4,
 "nbformat_minor": 5
}
